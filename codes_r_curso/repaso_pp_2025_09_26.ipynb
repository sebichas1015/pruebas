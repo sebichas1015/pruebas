{
  "nbformat": 4,
  "nbformat_minor": 0,
  "metadata": {
    "colab": {
      "provenance": []
    },
    "kernelspec": {
      "name": "ir",
      "display_name": "R"
    },
    "language_info": {
      "name": "R"
    }
  },
  "cells": [
    {
      "cell_type": "markdown",
      "source": [
        "# Notebook repaso primer parcial\n",
        "\n",
        "El presente notebook tiene como propósito realizar un repaso de los temas vistos en la asignatura Procesamiento y análsis de datos para ciencias sociales en R. Se eligió un noteook en lugar de un script en Rstudio debido a que esta herramienta permite visualizar los resultados sin necesidad de ejecutar la totalidad de líneas y sin necesidad de las dependencias. Asimismo, esta forma de mostrar los resultados puede resultar más pedagógica de el script en R."
      ],
      "metadata": {
        "id": "8Fucv1iOnyrb"
      }
    },
    {
      "cell_type": "markdown",
      "source": [
        "## Tipo de variables y de objetos\n",
        "\n",
        "A continuación, se presentan algunos de los tipos de objetos y de variables en R.\n",
        "\n",
        "En R -así como en otros lenguajes de programación- creamos objetos que almacenan información. Para ello definimos un nombre para el objeto seguido del operador de asignación y posteriormente, la información que deseamos asignar.\n",
        "\n",
        "La estructura es la siguiente:\n",
        "\n"
      ],
      "metadata": {
        "id": "qbJwtfZboo0V"
      }
    },
    {
      "cell_type": "code",
      "source": [
        "nombre_objeto <- \"informacion a asignar\""
      ],
      "metadata": {
        "id": "r_rdKDzoqI8F"
      },
      "execution_count": null,
      "outputs": []
    },
    {
      "cell_type": "markdown",
      "source": [
        "En el código anterior definimos el objeto con nombre nombre_objeto el operador de asignación <- y la información que deseamos asignar."
      ],
      "metadata": {
        "id": "asf8xglOqOgK"
      }
    },
    {
      "cell_type": "markdown",
      "source": [
        "Ahora introduciremos el concepto de función. Una función realiza una operación a un objeto. Su sintaxis suele presentarse como sigue:\n",
        "\n",
        "nombre_funcion(objeto_sobre_el que_se_opera)\n",
        "\n",
        "Primero tenemos el nombre de la función, seguido de un paréntesis y dentro de estos el objeto al cuál se le aplica la operación.\n",
        "\n",
        "El la siguiente celda se utiliza la función print(), esta función sirve para imprimir en consola el contenido de un objeto. Así pues, crearemos un objeto, le asignaremos un contenido y posteriormente lo imprimitemos en consola con la función print()"
      ],
      "metadata": {
        "id": "ioUxmXcaqp2q"
      }
    },
    {
      "cell_type": "code",
      "source": [
        "cadena_str_1 <- \"hola clase!\"\n",
        "\n",
        "print(cadena_str_1)"
      ],
      "metadata": {
        "colab": {
          "base_uri": "https://localhost:8080/"
        },
        "id": "KVcU-VJwnzJx",
        "outputId": "c7e682c5-35e1-4163-e269-fad4f285c538"
      },
      "execution_count": null,
      "outputs": [
        {
          "output_type": "stream",
          "name": "stdout",
          "text": [
            "[1] \"hola clase!\"\n"
          ]
        }
      ]
    },
    {
      "cell_type": "markdown",
      "source": [
        "Ahora presentaremos una segunda función. La función typeof() permite devolver el tipo de dato o de variable que se encuentra almacenada en un objeto.\n",
        "\n",
        "Es importante señalar que las funciones se pueden combinar. En ese sentido, podemos combinar las funciones print() y typeof() para identificar el tipo de dato almacenado en un objeto y posteriormente imprimirlo en consola, así:"
      ],
      "metadata": {
        "id": "A_XXCSctrxSY"
      }
    },
    {
      "cell_type": "code",
      "source": [
        "print(typeof(cadena_str_1))"
      ],
      "metadata": {
        "colab": {
          "base_uri": "https://localhost:8080/"
        },
        "id": "zWiPwTCYsdaY",
        "outputId": "63a3e4ce-57d9-4641-c846-cd3d6f292cbc"
      },
      "execution_count": null,
      "outputs": [
        {
          "output_type": "stream",
          "name": "stdout",
          "text": [
            "[1] \"character\"\n"
          ]
        }
      ]
    },
    {
      "cell_type": "markdown",
      "source": [
        "Anteriormente, creamos el objeto cadena_str_1 el cual almacena el contenido asignado. En la celda anterior observamos que, al imprimir el tipo de dato o de variable, nos regresa \"character\". Esto indica que el cotenido del objeto es una cadena de texto.\n",
        "\n",
        "Las cadenas de texto se definen con comillas \"\" y de esta manera le indicamos a R que estamos asignando texto plano y no otro tipo de dato.\n",
        "\n",
        "Reviemos otro tipo de variables en R"
      ],
      "metadata": {
        "id": "KhjpiQyCsoPq"
      }
    },
    {
      "cell_type": "code",
      "source": [
        "num_decimal_1 <- 42\n",
        "\n",
        "print(num_decimal_1)\n",
        "print(typeof(num_decimal_1))"
      ],
      "metadata": {
        "colab": {
          "base_uri": "https://localhost:8080/"
        },
        "id": "LUIeDV-XsnEi",
        "outputId": "bff6002c-65b2-4514-aeb2-870e8283ec44"
      },
      "execution_count": null,
      "outputs": [
        {
          "output_type": "stream",
          "name": "stdout",
          "text": [
            "[1] 42\n",
            "[1] \"double\"\n"
          ]
        }
      ]
    },
    {
      "cell_type": "markdown",
      "source": [
        "El objeto anterior contiene un valor decimal. Por defecto, cuando almacenamos el valor 42 u otro tipo de valores similares, el dato se guardaa como un decimal. Este valor se conoce en R como \"double\".\n",
        "\n",
        "Si deseamos almacenar un dato como valor entero, debemos agregar la letra L al final del número como se observa a continuación:"
      ],
      "metadata": {
        "id": "kWcgydRHuGlu"
      }
    },
    {
      "cell_type": "code",
      "source": [
        "num_entero_1 <- 15L\n",
        "\n",
        "print(num_entero_1)\n",
        "print(typeof(num_entero_1))"
      ],
      "metadata": {
        "colab": {
          "base_uri": "https://localhost:8080/"
        },
        "id": "OnIM4g3eu9cZ",
        "outputId": "86db0c3e-9412-45b7-d186-048eecfaee98"
      },
      "execution_count": null,
      "outputs": [
        {
          "output_type": "stream",
          "name": "stdout",
          "text": [
            "[1] 15\n",
            "[1] \"integer\"\n"
          ]
        }
      ]
    },
    {
      "cell_type": "markdown",
      "source": [
        "Otro tipo de valores son los datos lógicos. Estos poseen una estrutura booleana TRUE o FALSE y permiten combinarse de manera muy potente con funciones de tipo condicional, las cuales se verán más adelante."
      ],
      "metadata": {
        "id": "NxYVp5eTyD3p"
      }
    },
    {
      "cell_type": "code",
      "source": [
        "valor_logico_1 <- TRUE\n",
        "\n",
        "print(valor_logico_1)\n",
        "print(typeof(valor_logico_1))"
      ],
      "metadata": {
        "colab": {
          "base_uri": "https://localhost:8080/"
        },
        "id": "OlAfCKm6yC3f",
        "outputId": "8f44d0c0-1b24-4cca-db31-2f01aee40fd9"
      },
      "execution_count": null,
      "outputs": [
        {
          "output_type": "stream",
          "name": "stdout",
          "text": [
            "[1] TRUE\n",
            "[1] \"logical\"\n"
          ]
        }
      ]
    },
    {
      "cell_type": "markdown",
      "source": [
        "### Tipos de objetos en R\n",
        "\n",
        "#### Vectores\n",
        "\n",
        "En esta sección se presentan dos de los tipos de objetos más importantes en lenguaje R, a saber: vectores y dataframes.\n",
        "\n",
        "Un vector en R corresponde a un objeto unidimensional que almacena una secuencia de elementos del mismo tipo. Esto implica que todos los valores deben ser de tipo carácter (cadena de texto), entero (integer), decimal (double) u otro tipo de variable. No es posible tener un vector con valores combinados. Si bien un vector podría contener los elmentos \"Alberto\", \"Tatiana\", \"5\", \"13.7\", \"TRUE\" estos elementos se almacenarían como cadenas de texto y por tanto, no tendrían sus propiedades aritméticas o lógicas.\n",
        "\n",
        "Para definir un vector utilizamos la función c(). Esta función nos permite definir que los valores a introducir se almacenarán como un vector"
      ],
      "metadata": {
        "id": "gkEOgmQ3vDKA"
      }
    },
    {
      "cell_type": "code",
      "source": [
        "cadena_str_2 <- c(\"Juan\", \"Catalina\", \"Sergio\", \"liliana\", \"12\")\n",
        "\n",
        "print(cadena_str_2)\n",
        "print(typeof(cadena_str_2))"
      ],
      "metadata": {
        "colab": {
          "base_uri": "https://localhost:8080/"
        },
        "id": "9WxwKzJUtPAE",
        "outputId": "a29d8bf6-7418-47c1-aaa1-3af059115773"
      },
      "execution_count": null,
      "outputs": [
        {
          "output_type": "stream",
          "name": "stdout",
          "text": [
            "[1] \"Juan\"     \"Catalina\" \"Sergio\"   \"liliana\"  \"12\"      \n",
            "[1] \"character\"\n"
          ]
        }
      ]
    },
    {
      "cell_type": "markdown",
      "source": [
        "Nótese que si un valor numérico, lógico o de cualquier otro tipo se encuentra entre comillas, se leerá como una cadena de texto. En ese sentido los valores 15 y \"15\" no son equivalentes."
      ],
      "metadata": {
        "id": "65P2pf2kzJGS"
      }
    },
    {
      "cell_type": "code",
      "source": [
        "num_decimal_2 <- c(42, 12.5, 86, 97.3)\n",
        "\n",
        "print(num_decimal_2)\n",
        "print(typeof(num_decimal_2))"
      ],
      "metadata": {
        "colab": {
          "base_uri": "https://localhost:8080/"
        },
        "id": "s3hEGbIytkZG",
        "outputId": "f62da15e-47e7-490f-fdc1-fece39ea5d5e"
      },
      "execution_count": null,
      "outputs": [
        {
          "output_type": "stream",
          "name": "stdout",
          "text": [
            "[1] 42.0 12.5 86.0 97.3\n",
            "[1] \"double\"\n"
          ]
        }
      ]
    },
    {
      "cell_type": "code",
      "source": [
        "num_entero_2 <- c(42L, 55L, 7L, 1456L)\n",
        "\n",
        "print(num_entero_2)\n",
        "print(typeof(num_entero_2))"
      ],
      "metadata": {
        "colab": {
          "base_uri": "https://localhost:8080/"
        },
        "id": "iwa5qesQt3i-",
        "outputId": "00c2eb39-3618-4d8a-d156-c5f81e590e24"
      },
      "execution_count": null,
      "outputs": [
        {
          "output_type": "stream",
          "name": "stdout",
          "text": [
            "[1]   42   55    7 1456\n",
            "[1] \"integer\"\n"
          ]
        }
      ]
    },
    {
      "cell_type": "code",
      "source": [
        "valor_logico_2 <- c(TRUE, TRUE, FALSE, TRUE, FALSE)\n",
        "\n",
        "print(valor_logico_2)\n",
        "print(typeof(valor_logico_2))"
      ],
      "metadata": {
        "colab": {
          "base_uri": "https://localhost:8080/"
        },
        "id": "4Cm2Cj-XujWN",
        "outputId": "180fdbfa-c69b-4edf-aab2-11e3eb7da2d0"
      },
      "execution_count": null,
      "outputs": [
        {
          "output_type": "stream",
          "name": "stdout",
          "text": [
            "[1]  TRUE  TRUE FALSE  TRUE FALSE\n",
            "[1] \"logical\"\n"
          ]
        }
      ]
    },
    {
      "cell_type": "code",
      "source": [
        "cadena_datos_faltantes <- c(\"ana\", \"julian\", NA, \"valentina\", \"NA\")\n",
        "\n",
        "print(cadena_datos_faltantes)\n",
        "print(typeof(cadena_datos_faltantes))"
      ],
      "metadata": {
        "colab": {
          "base_uri": "https://localhost:8080/"
        },
        "id": "u_uUdu5W1Foh",
        "outputId": "d745d0e1-22e3-42ec-be8a-dcb685119f21"
      },
      "execution_count": null,
      "outputs": [
        {
          "output_type": "stream",
          "name": "stdout",
          "text": [
            "[1] \"ana\"       \"julian\"    NA          \"valentina\" \"NA\"       \n",
            "[1] \"character\"\n"
          ]
        }
      ]
    },
    {
      "cell_type": "markdown",
      "source": [
        "En la cenda anterior se observan los valores faltantes (missing data). Estos valores se representan con NA e indican que para una determinada posición, no se tiene ningún valor. Asimismo, al final del vector se tiene el valor \"NA\". Al estar entre comillas \"\", se almacena como una cadena de texto."
      ],
      "metadata": {
        "id": "o8oQEgTZ2dzA"
      }
    },
    {
      "cell_type": "markdown",
      "source": [
        "#### Dataframes\n",
        "\n",
        "Es una estructura de datos bidimensional que almacena la información en filas (observaciones) y columnas (variables o atributos). Asimismo, los dataframe poseen títulos para nombrar e individualizar las columnas.\n",
        "\n",
        "A continuación, se presenta una forma de crear un dataframe. Se utiliza la función data.frame() y dentro de ella se definen vectores y sus correspondientes nombres. Por último, imprimimos el dataframe con la función View()"
      ],
      "metadata": {
        "id": "5w0YqhUV0P6z"
      }
    },
    {
      "cell_type": "code",
      "source": [
        "tabla_personas <- data.frame(\n",
        "  nombre = c(\"Karen\", \"Nicolas\", \"Natalia\", \"Sebastian\"),\n",
        "  edad_anios = c(23L, 56L, 19L, NA),\n",
        "  altura = c(1.67, 1.78, 1.58, 1.65),\n",
        "  mes_nacimiento = c(\"Julio\", \"Agosto\", \"Abril\", \"Junio\")\n",
        ")\n",
        "\n",
        "View(tabla_personas)"
      ],
      "metadata": {
        "colab": {
          "base_uri": "https://localhost:8080/",
          "height": 223
        },
        "id": "xjBM1ACEsaAo",
        "outputId": "cab665d3-342b-4032-84b3-0f08a764685f"
      },
      "execution_count": null,
      "outputs": [
        {
          "output_type": "display_data",
          "data": {
            "text/plain": [
              "  nombre    edad_anios altura mes_nacimiento\n",
              "1 Karen     23         1.67   Julio         \n",
              "2 Nicolas   56         1.78   Agosto        \n",
              "3 Natalia   19         1.58   Abril         \n",
              "4 Sebastian NA         1.65   Junio         "
            ],
            "text/html": [
              "<table class=\"dataframe\">\n",
              "<caption>A data.frame: 4 × 4</caption>\n",
              "<thead>\n",
              "\t<tr><th scope=col>nombre</th><th scope=col>edad_anios</th><th scope=col>altura</th><th scope=col>mes_nacimiento</th></tr>\n",
              "\t<tr><th scope=col>&lt;chr&gt;</th><th scope=col>&lt;int&gt;</th><th scope=col>&lt;dbl&gt;</th><th scope=col>&lt;chr&gt;</th></tr>\n",
              "</thead>\n",
              "<tbody>\n",
              "\t<tr><td>Karen    </td><td>23</td><td>1.67</td><td>Julio </td></tr>\n",
              "\t<tr><td>Nicolas  </td><td>56</td><td>1.78</td><td>Agosto</td></tr>\n",
              "\t<tr><td>Natalia  </td><td>19</td><td>1.58</td><td>Abril </td></tr>\n",
              "\t<tr><td>Sebastian</td><td>NA</td><td>1.65</td><td>Junio </td></tr>\n",
              "</tbody>\n",
              "</table>\n"
            ],
            "text/markdown": "\nA data.frame: 4 × 4\n\n| nombre &lt;chr&gt; | edad_anios &lt;int&gt; | altura &lt;dbl&gt; | mes_nacimiento &lt;chr&gt; |\n|---|---|---|---|\n| Karen     | 23 | 1.67 | Julio  |\n| Nicolas   | 56 | 1.78 | Agosto |\n| Natalia   | 19 | 1.58 | Abril  |\n| Sebastian | NA | 1.65 | Junio  |\n\n",
            "text/latex": "A data.frame: 4 × 4\n\\begin{tabular}{llll}\n nombre & edad\\_anios & altura & mes\\_nacimiento\\\\\n <chr> & <int> & <dbl> & <chr>\\\\\n\\hline\n\t Karen     & 23 & 1.67 & Julio \\\\\n\t Nicolas   & 56 & 1.78 & Agosto\\\\\n\t Natalia   & 19 & 1.58 & Abril \\\\\n\t Sebastian & NA & 1.65 & Junio \\\\\n\\end{tabular}\n"
          },
          "metadata": {}
        }
      ]
    },
    {
      "cell_type": "code",
      "source": [
        "caractrst_cocaleros <- data.frame(\n",
        "  rol = c(\"cultivador\", \"recolector\", \"no cultivador\"),\n",
        "  hectareas = c(3.4, 0.8, 12.3),\n",
        "  proyecto_productivo = c(\"Cacao\", \"Apicultura\", \"Cacao\")\n",
        ")\n",
        "\n",
        "View(caractrst_cocaleros)"
      ],
      "metadata": {
        "colab": {
          "base_uri": "https://localhost:8080/",
          "height": 192
        },
        "id": "GSfyDc5Dx0nq",
        "outputId": "c59e6ffa-03eb-400b-85a2-bac953a006eb"
      },
      "execution_count": null,
      "outputs": [
        {
          "output_type": "display_data",
          "data": {
            "text/plain": [
              "  rol           hectareas proyecto_productivo\n",
              "1 cultivador     3.4      Cacao              \n",
              "2 recolector     0.8      Apicultura         \n",
              "3 no cultivador 12.3      Cacao              "
            ],
            "text/html": [
              "<table class=\"dataframe\">\n",
              "<caption>A data.frame: 3 × 3</caption>\n",
              "<thead>\n",
              "\t<tr><th scope=col>rol</th><th scope=col>hectareas</th><th scope=col>proyecto_productivo</th></tr>\n",
              "\t<tr><th scope=col>&lt;chr&gt;</th><th scope=col>&lt;dbl&gt;</th><th scope=col>&lt;chr&gt;</th></tr>\n",
              "</thead>\n",
              "<tbody>\n",
              "\t<tr><td>cultivador   </td><td> 3.4</td><td>Cacao     </td></tr>\n",
              "\t<tr><td>recolector   </td><td> 0.8</td><td>Apicultura</td></tr>\n",
              "\t<tr><td>no cultivador</td><td>12.3</td><td>Cacao     </td></tr>\n",
              "</tbody>\n",
              "</table>\n"
            ],
            "text/markdown": "\nA data.frame: 3 × 3\n\n| rol &lt;chr&gt; | hectareas &lt;dbl&gt; | proyecto_productivo &lt;chr&gt; |\n|---|---|---|\n| cultivador    |  3.4 | Cacao      |\n| recolector    |  0.8 | Apicultura |\n| no cultivador | 12.3 | Cacao      |\n\n",
            "text/latex": "A data.frame: 3 × 3\n\\begin{tabular}{lll}\n rol & hectareas & proyecto\\_productivo\\\\\n <chr> & <dbl> & <chr>\\\\\n\\hline\n\t cultivador    &  3.4 & Cacao     \\\\\n\t recolector    &  0.8 & Apicultura\\\\\n\t no cultivador & 12.3 & Cacao     \\\\\n\\end{tabular}\n"
          },
          "metadata": {}
        }
      ]
    },
    {
      "cell_type": "markdown",
      "source": [
        "Los nombres de las variables de un dataframe nos permiten acceder a sus valores al llamarlas con el operador $.\n",
        "\n",
        "A continuación, imprimimos un par de columnas individuales del dataframe anterior utilizando dicho operador."
      ],
      "metadata": {
        "id": "WEdHXMsf5WiB"
      }
    },
    {
      "cell_type": "code",
      "source": [
        "print(caractrst_cocaleros$rol)"
      ],
      "metadata": {
        "colab": {
          "base_uri": "https://localhost:8080/"
        },
        "id": "7ikNHYEx6BOw",
        "outputId": "fab8e7c6-f2b4-40d6-9ade-c3ec399be6dd"
      },
      "execution_count": null,
      "outputs": [
        {
          "output_type": "stream",
          "name": "stdout",
          "text": [
            "[1] \"cultivador\"    \"recolector\"    \"no cultivador\"\n"
          ]
        }
      ]
    },
    {
      "cell_type": "code",
      "source": [
        "print(caractrst_cocaleros$hectareas)"
      ],
      "metadata": {
        "colab": {
          "base_uri": "https://localhost:8080/"
        },
        "id": "frAo1FD-6UYT",
        "outputId": "466f0c90-29a4-4725-a4af-19f9eb23f569"
      },
      "execution_count": null,
      "outputs": [
        {
          "output_type": "stream",
          "name": "stdout",
          "text": [
            "[1]  3.4  0.8 12.3\n"
          ]
        }
      ]
    },
    {
      "cell_type": "markdown",
      "source": [
        "# Taller 1. Aplicaciones de programación en R\n",
        "\n",
        "**Objetivo:** Comprender y aplicar los conceptos de vectores, data frames, listas, ciclos, condicionales y funciones en R para la organización y clasificación de información poblacional.\n",
        "\n",
        "### Punto 1.  \n",
        "\n",
        "1.1 Crear cinco vectores con longitud N = 5.\n",
        "\n",
        "1.2 Cada vector representará una característica diferente de una muestra de persona:\n",
        "\n",
        "* Fecha de nacimiento.\n",
        "* Nombre: vector de carácter con nombres de personas.\n",
        "* Hectáreas: vector numérico double (puede tener decimales), que represente hectáreas cultivadas.\n",
        "* Edad en años: vector numérico entero (int) con edades de las personas.\n",
        "* Adscrito_pnis: vector booleano (TRUE o FALSE) que indique si la persona está adscrita al PNIS (Programa Nacional Integral de Sustitución de Cultivos).\n",
        "\n",
        "### Punto 2.  \n",
        "\n",
        "2.1 Unir los vectores creados en el paso anterior en un único data frame llamado datos_poblacion.\n",
        "\n",
        "2.2 Imprimir el data frame para verificar su contenido.\n",
        "\n",
        "### Punto 3.  \n",
        "\n",
        "3.1 Utilizar un ciclo for para recorrer cada fila del data frame. Según la edad, clasificar a cada persona en uno de los siguientes grupos etarios del DANE:\n",
        "\n",
        "* Niños y jóvenes: 0 - 14 años\n",
        "\n",
        "* Adultos: 15 - 64 años\n",
        "\n",
        "* Adultos mayores: 65 años en adelante\n",
        "\n",
        "### Punto 4. (reto)\n",
        "\n",
        "4.1 Calcular el promedio de hectáreas cultivadas con una función."
      ],
      "metadata": {
        "id": "cF3sWwux0FkM"
      }
    },
    {
      "cell_type": "code",
      "source": [
        "## solucion punto 1\n",
        "\n",
        "vect_date <- c(2001, 2005, 2000, 2010, 2020)\n",
        "\n",
        "vector_name <- c (\"ana\", \"paula\", \"pepe\", \"ursula\", \"laura\")\n",
        "\n",
        "vect_hect <- c(22.5, 10.7, 12.6, 20.3, 18.2)\n",
        "\n",
        "vect_edad <- c(9, 32, 45, 51, 88)\n",
        "\n",
        "adscrito_pnis <- c(TRUE, FALSE, FALSE, TRUE, TRUE)"
      ],
      "metadata": {
        "id": "pMX9Ba7a2k8F"
      },
      "execution_count": null,
      "outputs": []
    },
    {
      "cell_type": "code",
      "source": [
        "## solucion punto 2\n",
        "\n",
        "datos_poblacion <- data.frame(nombre = vector_name,\n",
        "                      fecha_nacimiento = vect_date,\n",
        "                      edad = vect_edad,\n",
        "                      has = vect_hect,\n",
        "                      inscrito = adscrito_pnis)\n",
        "\n",
        "View(datos_poblacion)"
      ],
      "metadata": {
        "colab": {
          "base_uri": "https://localhost:8080/",
          "height": 255
        },
        "id": "CChn320C2lHg",
        "outputId": "efe5f8ec-028a-4fbb-f576-379c118fcc31"
      },
      "execution_count": null,
      "outputs": [
        {
          "output_type": "display_data",
          "data": {
            "text/plain": [
              "  nombre fecha_nacimiento edad has  inscrito\n",
              "1 ana    2001              9   22.5  TRUE   \n",
              "2 paula  2005             32   10.7 FALSE   \n",
              "3 pepe   2000             45   12.6 FALSE   \n",
              "4 ursula 2010             51   20.3  TRUE   \n",
              "5 laura  2020             88   18.2  TRUE   "
            ],
            "text/html": [
              "<table class=\"dataframe\">\n",
              "<caption>A data.frame: 5 × 5</caption>\n",
              "<thead>\n",
              "\t<tr><th scope=col>nombre</th><th scope=col>fecha_nacimiento</th><th scope=col>edad</th><th scope=col>has</th><th scope=col>inscrito</th></tr>\n",
              "\t<tr><th scope=col>&lt;chr&gt;</th><th scope=col>&lt;dbl&gt;</th><th scope=col>&lt;dbl&gt;</th><th scope=col>&lt;dbl&gt;</th><th scope=col>&lt;lgl&gt;</th></tr>\n",
              "</thead>\n",
              "<tbody>\n",
              "\t<tr><td>ana   </td><td>2001</td><td> 9</td><td>22.5</td><td> TRUE</td></tr>\n",
              "\t<tr><td>paula </td><td>2005</td><td>32</td><td>10.7</td><td>FALSE</td></tr>\n",
              "\t<tr><td>pepe  </td><td>2000</td><td>45</td><td>12.6</td><td>FALSE</td></tr>\n",
              "\t<tr><td>ursula</td><td>2010</td><td>51</td><td>20.3</td><td> TRUE</td></tr>\n",
              "\t<tr><td>laura </td><td>2020</td><td>88</td><td>18.2</td><td> TRUE</td></tr>\n",
              "</tbody>\n",
              "</table>\n"
            ],
            "text/markdown": "\nA data.frame: 5 × 5\n\n| nombre &lt;chr&gt; | fecha_nacimiento &lt;dbl&gt; | edad &lt;dbl&gt; | has &lt;dbl&gt; | inscrito &lt;lgl&gt; |\n|---|---|---|---|---|\n| ana    | 2001 |  9 | 22.5 |  TRUE |\n| paula  | 2005 | 32 | 10.7 | FALSE |\n| pepe   | 2000 | 45 | 12.6 | FALSE |\n| ursula | 2010 | 51 | 20.3 |  TRUE |\n| laura  | 2020 | 88 | 18.2 |  TRUE |\n\n",
            "text/latex": "A data.frame: 5 × 5\n\\begin{tabular}{lllll}\n nombre & fecha\\_nacimiento & edad & has & inscrito\\\\\n <chr> & <dbl> & <dbl> & <dbl> & <lgl>\\\\\n\\hline\n\t ana    & 2001 &  9 & 22.5 &  TRUE\\\\\n\t paula  & 2005 & 32 & 10.7 & FALSE\\\\\n\t pepe   & 2000 & 45 & 12.6 & FALSE\\\\\n\t ursula & 2010 & 51 & 20.3 &  TRUE\\\\\n\t laura  & 2020 & 88 & 18.2 &  TRUE\\\\\n\\end{tabular}\n"
          },
          "metadata": {}
        }
      ]
    },
    {
      "cell_type": "code",
      "source": [
        "## solucion punto 3\n",
        "\n",
        "## utilizar la función for()\n",
        "\n",
        "## utilizar la función if()\n",
        "\n",
        "for (edad in datos_poblacion$edad) {\n",
        "\n",
        "  if (edad > 0 && edad < 14) {\n",
        "\n",
        "    print(edad)\n",
        "\n",
        "    print(\"Niños y jóvenes\")\n",
        "\n",
        "  }\n",
        "\n",
        "  if (edad > 14 && edad < 64) {\n",
        "\n",
        "    print(edad)\n",
        "\n",
        "    print(\"Adultos\")\n",
        "  }\n",
        "\n",
        "  if (edad >= 64){\n",
        "    print(edad)\n",
        "    print(\"Adultos mayor\")\n",
        "  }\n",
        "}"
      ],
      "metadata": {
        "colab": {
          "base_uri": "https://localhost:8080/"
        },
        "id": "qoJKKCz43gLz",
        "outputId": "37f4b45e-74c7-4215-e4d2-bfdcae954a03"
      },
      "execution_count": null,
      "outputs": [
        {
          "output_type": "stream",
          "name": "stdout",
          "text": [
            "[1] 9\n",
            "[1] \"Niños y jóvenes\"\n",
            "[1] 32\n",
            "[1] \"Adultos\"\n",
            "[1] 45\n",
            "[1] \"Adultos\"\n",
            "[1] 51\n",
            "[1] \"Adultos\"\n",
            "[1] 88\n",
            "[1] \"Adultos mayor\"\n"
          ]
        }
      ]
    },
    {
      "cell_type": "code",
      "source": [
        "## solucion punto 4\n",
        "\n",
        "## Utilizar la función length() para contar la cantidad de elementos de un vector.\n",
        "\n",
        "## Utilizar la función sum() para sumar la totalidad de valores de un vector.\n",
        "\n",
        "# primera forma de solución\n",
        "n_vals <- length(datos_poblacion$has)\n",
        "\n",
        "sum_has <- sum(datos_poblacion$has)\n",
        "\n",
        "prom_hectareas_1 <- sum_has/n_vals\n",
        "\n",
        "print(prom_hectareas_1)"
      ],
      "metadata": {
        "colab": {
          "base_uri": "https://localhost:8080/"
        },
        "id": "I2ArOdBm34bI",
        "outputId": "5a38c2da-cf0e-4cdd-e3be-87f40dbff442"
      },
      "execution_count": null,
      "outputs": [
        {
          "output_type": "stream",
          "name": "stdout",
          "text": [
            "[1] 16.86\n"
          ]
        }
      ]
    },
    {
      "cell_type": "code",
      "source": [
        "## solucion punto 4\n",
        "\n",
        "## Utilizar la función mean().\n",
        "\n",
        "# segunda forma de solución\n",
        "promedio_hectareas_2 <- mean(datos_poblacion$has)\n",
        "\n",
        "print(promedio_hectareas_2)"
      ],
      "metadata": {
        "colab": {
          "base_uri": "https://localhost:8080/"
        },
        "id": "9gU8Ylfc6xLU",
        "outputId": "e3cb42ad-4ffe-468b-ff5e-088f5652c09c"
      },
      "execution_count": null,
      "outputs": [
        {
          "output_type": "stream",
          "name": "stdout",
          "text": [
            "[1] 16.86\n"
          ]
        }
      ]
    },
    {
      "cell_type": "markdown",
      "source": [
        "## Funciones\n",
        "\n",
        "Las funciones son fragmentos de código que nos permiten realizar una tarea u operación específica. Su estructura está dada por:\n",
        "\n",
        "*   **Nombre:** corresponde a la forma de nombrear y de llamar la función, por ejemplo, mean(), sum(), mutate(), read_xlsx() etc. Nótese que la funciones poseen paréntesis, puesto que esperan recibir algún tipo de argumento.\n",
        "\n",
        "*   **Argumentos o parámetros:** Es quello que recibe la función o, en otras palabras, las entradas de la función. La funciones reciben pueden recibir objetos generales como vectores, dataframes o listas, y también poseen parámetros específicos que solamente están diseñados para una función en concreto. Así, por ejemplo, sum() puede recibir un vector de números o de valores lógicos, y a la vez posee el párametro na.rm = el cuál espera un valor lógico (TRUE o FALSE) a fin de determinar si debe ignorar o tener en cuenta los valores en *NA*. Otro ejemplo de funciones -en la que profundizaremos más adelante- es la función read_parquet(), esta función recibe como parámetros una cadena de texto con la ruta de un archivo a importar y también, con el parámetro col_select =, recibe un vector con los nombres de las columnas que queremos seleccionar. Dos realizaciones de nuestros dos ejemplos anteriores serían:\n",
        "\n",
        "  *   sum(vec_num, na.rm = TRUE)\n",
        "  *   read_parquet(\"/c/Users/sebas/Documents/clase_r_cs/tabla_pnis.xlsx\", col_select = c(\"nombres\", \"hectareas\"))\n",
        "\n",
        "\n",
        "*   **Cuerpo:** El cuerpo de la función corresponde al código que está \"por debajo\" y realiza las operaciones que estamos llamando. Cuando llamamos una función de R base o de un paquete externo, no necesitamos definir un cuerpo. No obstante, cuando somos nosotras quienes la creamos, debemos delimitar los parámetros que recibirá la función así como las instrucciones de las operaciones que R ejecutará para con dichos parámetros. En el caso de R, el cuerpo de la función se encuentra encapsulado entre llaves {}.\n",
        "\n",
        "*   **Retorno:** Una vez se definen los parámetros y las operaciones, R debe regresar algún tipo de salida para con nuestra función. Al igual que con el cuerpo, el especificar el retorno de la función es exclusivo de las funciones en las que somos sus creadores. Para ello, a su vez, se hace uso de la función return() la cuál espera la salida que queremos regresar a los y las usuarias de nuestras funciones.\n",
        "\n",
        "El lenguaje R nos brinda la posibilidad de crear nuestras propias funciones. Esto es especialmente útil cuando debemos realizar una tarea muy específica y repetirla varias veces a lo largo de un script. Para este propósito, haremos uso de function() y del operador de asignación a fin de dotar de un nombre a nuestra función. A continuación, algunos ejemplos de funciones inventadas.\n",
        "\n",
        "En primer lugar, vamos a crear una función llamada num_cuadrado la cual espera recibir un valor numérico y la operación que realiza es la de elevar el número al cuadrado. Posteriormente, almacenaremos el resultado en un nuevo objeto y procedemos a imprimirlo."
      ],
      "metadata": {
        "id": "sL81JKlKwsU3"
      }
    },
    {
      "cell_type": "code",
      "source": [
        "## funcion para elevar un número a cuadrado.\n",
        "\n",
        "num_cuadrado <- function(x) {\n",
        "\n",
        "  resultado <- x*x\n",
        "\n",
        "  return(resultado)\n",
        "}\n",
        "\n",
        "cuadrado_de_nueve <- num_cuadrado(9)\n",
        "\n",
        "veinticinco_al_cuadrado <- num_cuadrado(25)\n",
        "\n",
        "print(cuadrado_de_nueve)\n",
        "print(veinticinco_al_cuadrado)"
      ],
      "metadata": {
        "colab": {
          "base_uri": "https://localhost:8080/"
        },
        "id": "zXKrAbs288og",
        "outputId": "52604264-21e7-497e-a1ea-7ab72d9581fa"
      },
      "execution_count": null,
      "outputs": [
        {
          "output_type": "stream",
          "name": "stdout",
          "text": [
            "[1] 81\n",
            "[1] 625\n"
          ]
        }
      ]
    },
    {
      "cell_type": "markdown",
      "source": [
        "En segundo lugar, se contruye una función llamada div_par, la cual recibe un vector de números y procede a dvidirlos por 2."
      ],
      "metadata": {
        "id": "yFxSuE5p8Cr6"
      }
    },
    {
      "cell_type": "code",
      "source": [
        "## función para dividir por dos.\n",
        "\n",
        "div_par <- function(vec_nums){\n",
        "\n",
        "  resl_div <- vec_nums/2\n",
        "\n",
        "  return(resl_div)\n",
        "}\n",
        "\n",
        "vector_prueba_1 <- c(20, 34, 13, 6, 56)\n",
        "\n",
        "vector_prueba_2 <- c(1235, 3456)\n",
        "\n",
        "division_par_nums_a <- div_par(vector_prueba_1)\n",
        "\n",
        "division_par_nums_b <- div_par(vector_prueba_2)\n",
        "\n",
        "print(division_par_nums_a)\n",
        "print(division_par_nums_b)"
      ],
      "metadata": {
        "colab": {
          "base_uri": "https://localhost:8080/"
        },
        "id": "sa54GkU_8Bws",
        "outputId": "fd37b431-8ca0-4303-941b-162a99bf810f"
      },
      "execution_count": null,
      "outputs": [
        {
          "output_type": "stream",
          "name": "stdout",
          "text": [
            "[1] 10.0 17.0  6.5  3.0 28.0\n",
            "[1]  617.5 1728.0\n"
          ]
        }
      ]
    },
    {
      "cell_type": "markdown",
      "source": [
        "A continuación, realizaremos un ejercicio de estandarización para un conjunto de valores numéricos. Para ello, se procede con la creación de una función que le resta a cada número la media y luego lo divide por la desviación estándar."
      ],
      "metadata": {
        "id": "Q_qJ83Qb-Dzp"
      }
    },
    {
      "cell_type": "code",
      "source": [
        "# Función para estandarizar valores numéricos.\n",
        "standrzcn_num <- function(vec_x) {\n",
        "\n",
        "  media_num <- mean(vec_x)\n",
        "\n",
        "  sd_num <- sd(vec_x)\n",
        "\n",
        "  var_stand <- (vec_x - media_num)/sd_num\n",
        "\n",
        "  return(var_stand)\n",
        "}\n",
        "\n",
        "\n",
        "prueba_nums <- c(34, 45, 4, 567, 23, 56)\n",
        "\n",
        "segund_prueba_nums <- c(20, 45, 54, 45, 78, 45)\n",
        "\n",
        "reslt_standrzcn <- standrzcn_num(prueba_nums)\n",
        "\n",
        "seg_reslt_standrzcn <- standrzcn_num(segund_prueba_nums)\n",
        "\n",
        "print(reslt_standrzcn)\n",
        "print(seg_reslt_standrzcn)"
      ],
      "metadata": {
        "colab": {
          "base_uri": "https://localhost:8080/"
        },
        "id": "GfQqB7mb-C7k",
        "outputId": "0b21bf98-9d71-459a-9605-897752e8745a"
      },
      "execution_count": null,
      "outputs": [
        {
          "output_type": "stream",
          "name": "stdout",
          "text": [
            "[1] -0.3995663 -0.3493351 -0.5365604  2.0343632 -0.4497975 -0.2991039\n",
            "[1] -1.4891021 -0.1515852  0.3299208 -0.1515852  1.6139370 -0.1515852\n"
          ]
        }
      ]
    },
    {
      "cell_type": "markdown",
      "source": [
        "## Librerías\n",
        "\n",
        "Las librerías (también llamadas paquetes) tienen como propósito extender las funcionalidades de R. Las librerían incluyen múltiples funciones que nos permiten realziar tareas específicas sin tener que programar cada funcionalidad desde cero.\n",
        "\n",
        "Si bien R cuenta con una buena cantidad de funciones por defecto, el descargar e instalar librerías adicionales nos permite potenciar la capacidad del lenguaje para importar datos, procesarlos, visualizarlos y exportarlos entre una larga lista de posibilidades.\n",
        "\n",
        "De manera predefinida, R posee una gran cantidad de funcionalidades. Sin embargo, potenciamos las posibilidades toda vez que descargamos e instalamos librerías que nos brindan nuevas cajas de herramientas.\n",
        "\n",
        "La función predefinida para descargar e instalar librerías es install.packages(). Su estructura es la siguiente:\n",
        "\n",
        "install.packages(\"nombre_librería_a_instalar\")\n",
        "\n",
        "En la celda siguiente se descarga la librería pacman. Esta librería permite a su vez instalar y cargar múltiples librerías."
      ],
      "metadata": {
        "id": "TKaIMMqI6743"
      }
    },
    {
      "cell_type": "code",
      "source": [
        "install.packages(\"pacman\")"
      ],
      "metadata": {
        "colab": {
          "base_uri": "https://localhost:8080/"
        },
        "id": "zpBqw8m6slOe",
        "outputId": "67ee2e67-6382-4776-dc51-03e397370ca6"
      },
      "execution_count": null,
      "outputs": [
        {
          "output_type": "stream",
          "name": "stderr",
          "text": [
            "Installing package into ‘/usr/local/lib/R/site-library’\n",
            "(as ‘lib’ is unspecified)\n",
            "\n"
          ]
        }
      ]
    },
    {
      "cell_type": "markdown",
      "source": [
        "No basta con descargar e instalar la librería, es necesario cargarla a nuestra sesión. Para cargar la librería se utiliza la función library()\n",
        "\n",
        "Su estructura es:\n",
        "\n",
        "library(nombre_librería_previamente_instalada)"
      ],
      "metadata": {
        "id": "6UVNQZSps1OV"
      }
    },
    {
      "cell_type": "code",
      "source": [
        "library(pacman)"
      ],
      "metadata": {
        "id": "IRfWRNSxszMy"
      },
      "execution_count": null,
      "outputs": []
    },
    {
      "cell_type": "markdown",
      "source": [
        "Otra forma de llamar una librería para usar una de las funciones que ésta trae, es utilizando el operador ::. Su estructura es la siguiente:\n",
        "\n",
        "librería::funcion_a_ejecutar(parámetro_de_la_funcion)\n",
        "\n",
        "En el caso de pacman, se procede a utilizar la función p_load(). Esta función recibe los nombres de librerías y procede a identificar si están o no están instaladas. En caso de que estén instaladas, procede a cargarlas a la sesión de R. En caso de que no estén instaladas, se descargan, se instalan y se cargan.\n",
        "\n",
        "Su sintaxis es la siguiente:\n",
        "\n",
        "pacman::p_load(librería_1, librería_2, librería_3)"
      ],
      "metadata": {
        "id": "AuFol8oruwev"
      }
    },
    {
      "cell_type": "code",
      "source": [
        "pacman::p_load(arrow, writexl, readr, openxlsx, haven, here)"
      ],
      "metadata": {
        "id": "6UV_aQhKwrnF"
      },
      "execution_count": null,
      "outputs": []
    },
    {
      "cell_type": "markdown",
      "source": [
        "En la línea anterior se instalaron múltiples librerías para cargar y exportar tablas en distintas arquitecturas de datos."
      ],
      "metadata": {
        "id": "l3KnYoSoxCmc"
      }
    },
    {
      "cell_type": "markdown",
      "source": [
        "## Importar\n",
        "\n",
        "En la presente sección se expone la forma en la que se importan tablas de distintas arquitecturas a fin de llevarlas a R. Es uno de los primeros pasos del análisis de datos.\n",
        "\n",
        "En primer lugar, se requiere la ruta (directorio) en la que se ubican las tablas que queremos importar a R. En segundo lugar se identificar el formato o la arquitecctura de datos en la que se encuentra la tabla y se procede a identificar la librería y la función que permiten importarla a R. A continuación, se presentan algunas funciones y librerías sugeridas:\n",
        "\n",
        "\n",
        "\n",
        "*   Función read_parquet() de la librería arrow para archivos en formato .parquet.\n",
        "*   Función read_delim() de la librería stringr para archivos en formato .csv.\n",
        "*   Función read_dta() de la librería haven para archivos en formato .dta.\n",
        "*   Función read.xlsx() de la librería openxlsx para archivos en formato .xlsx.\n",
        "\n",
        "En lo que sigue se muestran algunos ejemplos de la implementación de estas funciones.\n",
        "\n",
        "\n",
        "\n"
      ],
      "metadata": {
        "id": "1_NUI1-P5TcC"
      }
    },
    {
      "cell_type": "code",
      "source": [
        "# Se crean objetos que almacenan rutas de archivos.\n",
        "\n",
        "input_pnis <- \"drive_sebas/economias_ilicitas/Datos-anónimos-encuesta-PNIS.xlsx\"\n",
        "\n",
        "input_hogares <- \"drive_sebas/agropecuario/S15H(Hogares).csv\"\n",
        "\n",
        "input_ins_viol <- \"drive_sebas/violencia/Replication Dataset-Panel Data.dta\"\n",
        "\n",
        "input_cnmh_df <- \"drive_sebas/violencia/CasosDF_202409.parquet\"\n",
        "\n",
        "input_censo <- \"drive_sebas/agropecuario/censo_agro_import.parquet\""
      ],
      "metadata": {
        "id": "6Dvh2N3Q5Vs7"
      },
      "execution_count": null,
      "outputs": []
    },
    {
      "cell_type": "markdown",
      "source": [
        "Ahora, se procede a implementar las funciones, las cuales reciben la ruta del archivo como parámetro e importan los datos en formato dataframe.\n",
        "\n",
        "Asimismo, se utiliza la función head() la cual reduce la tabla a las primeras 6 filas del dataframe."
      ],
      "metadata": {
        "id": "3Apr0tUT0grl"
      }
    },
    {
      "cell_type": "code",
      "source": [
        "table_pnis <- read.xlsx(input_pnis)\n",
        "\n",
        "View(head(table_pnis))"
      ],
      "metadata": {
        "colab": {
          "base_uri": "https://localhost:8080/",
          "height": 532
        },
        "id": "TT8Y7Spj-nsW",
        "outputId": "f81d6f31-43a0-4c73-9fbd-ca737e552402"
      },
      "execution_count": null,
      "outputs": [
        {
          "output_type": "display_data",
          "data": {
            "text/plain": [
              "  ID F0          P93          P1_EXACTA P1_1_RANGO         P2       \n",
              "1 1  Puerto asís Recolector/a 70        Más de 67 años     Masculino\n",
              "2 2  Puerto asís Recolector/a 39        Entre 36 – 45 años Masculino\n",
              "3 3  Puerto asís Recolector/a 42        Entre 36 – 45 años Masculino\n",
              "4 4  Puerto asís Recolector/a 24        Entre 18 – 25 años Masculino\n",
              "5 5  Tumaco      Recolector/a 32        Entre 26 – 35 años Femenino \n",
              "6 6  Puerto asís Recolector/a 34        Entre 26 – 35 años Masculino\n",
              "  P4                                                       P5 P6_MUNICIPIO\n",
              "1 Indígena                                                 Sí El Encanto  \n",
              "2 Blanco o Mestizo                                         Sí Leguizamo   \n",
              "3 Blanco o Mestizo                                         Sí Puerto Asís \n",
              "4 Blanco o Mestizo                                         Sí Puerto Asís \n",
              "5 Negro(a), mulato(a), afrocolombiano(a), afrodescendiente Sí Tumaco      \n",
              "6 Blanco o Mestizo                                         Sí Pitalito    \n",
              "  P6_DEPARTAMENTO ⋯ P192_NINGUNO P194_FISICAMENTE P194_AMENAZADO P194_AGREDIDO\n",
              "1 Amazonas        ⋯ Ninguno      NA               NA             NA           \n",
              "2 Putumayo        ⋯ Ninguno      NA               NA             NA           \n",
              "3 Putumayo        ⋯ Ninguno      NA               NA             NA           \n",
              "4 Putumayo        ⋯ Ninguno      NA               NA             NA           \n",
              "5 Nariño          ⋯ Ninguno      NA               NA             NA           \n",
              "6 Huila           ⋯ Ninguno      NA               NA             NA           \n",
              "  P194_ESTIGMATIZACION P194_VIOLENCIA P194_ASESINADO\n",
              "1 NA                   NA             NA            \n",
              "2 NA                   NA             NA            \n",
              "3 NA                   NA             NA            \n",
              "4 NA                   NA             NA            \n",
              "5 NA                   NA             NA            \n",
              "6 NA                   NA             NA            \n",
              "  P194_NINGUNO                      GRUPO FACTOR     \n",
              "1 No he sido testigo de ningún caso 4     0.002335060\n",
              "2 No he sido testigo de ningún caso 1     0.001530465\n",
              "3 No he sido testigo de ningún caso 3     0.001371111\n",
              "4 No he sido testigo de ningún caso 2     0.001019736\n",
              "5 No he sido testigo de ningún caso 1     0.003719592\n",
              "6 No he sido testigo de ningún caso 1     0.001530465"
            ],
            "text/html": [
              "<table class=\"dataframe\">\n",
              "<caption>A data.frame: 6 × 640</caption>\n",
              "<thead>\n",
              "\t<tr><th></th><th scope=col>ID</th><th scope=col>F0</th><th scope=col>P93</th><th scope=col>P1_EXACTA</th><th scope=col>P1_1_RANGO</th><th scope=col>P2</th><th scope=col>P4</th><th scope=col>P5</th><th scope=col>P6_MUNICIPIO</th><th scope=col>P6_DEPARTAMENTO</th><th scope=col>⋯</th><th scope=col>P192_NINGUNO</th><th scope=col>P194_FISICAMENTE</th><th scope=col>P194_AMENAZADO</th><th scope=col>P194_AGREDIDO</th><th scope=col>P194_ESTIGMATIZACION</th><th scope=col>P194_VIOLENCIA</th><th scope=col>P194_ASESINADO</th><th scope=col>P194_NINGUNO</th><th scope=col>GRUPO</th><th scope=col>FACTOR</th></tr>\n",
              "\t<tr><th></th><th scope=col>&lt;dbl&gt;</th><th scope=col>&lt;chr&gt;</th><th scope=col>&lt;chr&gt;</th><th scope=col>&lt;dbl&gt;</th><th scope=col>&lt;chr&gt;</th><th scope=col>&lt;chr&gt;</th><th scope=col>&lt;chr&gt;</th><th scope=col>&lt;chr&gt;</th><th scope=col>&lt;chr&gt;</th><th scope=col>&lt;chr&gt;</th><th scope=col>⋯</th><th scope=col>&lt;chr&gt;</th><th scope=col>&lt;chr&gt;</th><th scope=col>&lt;chr&gt;</th><th scope=col>&lt;chr&gt;</th><th scope=col>&lt;chr&gt;</th><th scope=col>&lt;dbl&gt;</th><th scope=col>&lt;chr&gt;</th><th scope=col>&lt;chr&gt;</th><th scope=col>&lt;dbl&gt;</th><th scope=col>&lt;dbl&gt;</th></tr>\n",
              "</thead>\n",
              "<tbody>\n",
              "\t<tr><th scope=row>1</th><td>1</td><td>Puerto asís</td><td>Recolector/a</td><td>70</td><td>Más de 67 años    </td><td>Masculino</td><td>Indígena                                                </td><td>Sí</td><td>El Encanto </td><td>Amazonas</td><td>⋯</td><td>Ninguno</td><td>NA</td><td>NA</td><td>NA</td><td>NA</td><td>NA</td><td>NA</td><td>No he sido testigo de ningún caso</td><td>4</td><td>0.002335060</td></tr>\n",
              "\t<tr><th scope=row>2</th><td>2</td><td>Puerto asís</td><td>Recolector/a</td><td>39</td><td>Entre 36 – 45 años</td><td>Masculino</td><td>Blanco o Mestizo                                        </td><td>Sí</td><td>Leguizamo  </td><td>Putumayo</td><td>⋯</td><td>Ninguno</td><td>NA</td><td>NA</td><td>NA</td><td>NA</td><td>NA</td><td>NA</td><td>No he sido testigo de ningún caso</td><td>1</td><td>0.001530465</td></tr>\n",
              "\t<tr><th scope=row>3</th><td>3</td><td>Puerto asís</td><td>Recolector/a</td><td>42</td><td>Entre 36 – 45 años</td><td>Masculino</td><td>Blanco o Mestizo                                        </td><td>Sí</td><td>Puerto Asís</td><td>Putumayo</td><td>⋯</td><td>Ninguno</td><td>NA</td><td>NA</td><td>NA</td><td>NA</td><td>NA</td><td>NA</td><td>No he sido testigo de ningún caso</td><td>3</td><td>0.001371111</td></tr>\n",
              "\t<tr><th scope=row>4</th><td>4</td><td>Puerto asís</td><td>Recolector/a</td><td>24</td><td>Entre 18 – 25 años</td><td>Masculino</td><td>Blanco o Mestizo                                        </td><td>Sí</td><td>Puerto Asís</td><td>Putumayo</td><td>⋯</td><td>Ninguno</td><td>NA</td><td>NA</td><td>NA</td><td>NA</td><td>NA</td><td>NA</td><td>No he sido testigo de ningún caso</td><td>2</td><td>0.001019736</td></tr>\n",
              "\t<tr><th scope=row>5</th><td>5</td><td>Tumaco     </td><td>Recolector/a</td><td>32</td><td>Entre 26 – 35 años</td><td>Femenino </td><td>Negro(a), mulato(a), afrocolombiano(a), afrodescendiente</td><td>Sí</td><td>Tumaco     </td><td>Nariño  </td><td>⋯</td><td>Ninguno</td><td>NA</td><td>NA</td><td>NA</td><td>NA</td><td>NA</td><td>NA</td><td>No he sido testigo de ningún caso</td><td>1</td><td>0.003719592</td></tr>\n",
              "\t<tr><th scope=row>6</th><td>6</td><td>Puerto asís</td><td>Recolector/a</td><td>34</td><td>Entre 26 – 35 años</td><td>Masculino</td><td>Blanco o Mestizo                                        </td><td>Sí</td><td>Pitalito   </td><td>Huila   </td><td>⋯</td><td>Ninguno</td><td>NA</td><td>NA</td><td>NA</td><td>NA</td><td>NA</td><td>NA</td><td>No he sido testigo de ningún caso</td><td>1</td><td>0.001530465</td></tr>\n",
              "</tbody>\n",
              "</table>\n"
            ],
            "text/markdown": "\nA data.frame: 6 × 640\n\n| <!--/--> | ID &lt;dbl&gt; | F0 &lt;chr&gt; | P93 &lt;chr&gt; | P1_EXACTA &lt;dbl&gt; | P1_1_RANGO &lt;chr&gt; | P2 &lt;chr&gt; | P4 &lt;chr&gt; | P5 &lt;chr&gt; | P6_MUNICIPIO &lt;chr&gt; | P6_DEPARTAMENTO &lt;chr&gt; | ⋯ ⋯ | P192_NINGUNO &lt;chr&gt; | P194_FISICAMENTE &lt;chr&gt; | P194_AMENAZADO &lt;chr&gt; | P194_AGREDIDO &lt;chr&gt; | P194_ESTIGMATIZACION &lt;chr&gt; | P194_VIOLENCIA &lt;dbl&gt; | P194_ASESINADO &lt;chr&gt; | P194_NINGUNO &lt;chr&gt; | GRUPO &lt;dbl&gt; | FACTOR &lt;dbl&gt; |\n|---|---|---|---|---|---|---|---|---|---|---|---|---|---|---|---|---|---|---|---|---|---|\n| 1 | 1 | Puerto asís | Recolector/a | 70 | Más de 67 años     | Masculino | Indígena                                                 | Sí | El Encanto  | Amazonas | ⋯ | Ninguno | NA | NA | NA | NA | NA | NA | No he sido testigo de ningún caso | 4 | 0.002335060 |\n| 2 | 2 | Puerto asís | Recolector/a | 39 | Entre 36 – 45 años | Masculino | Blanco o Mestizo                                         | Sí | Leguizamo   | Putumayo | ⋯ | Ninguno | NA | NA | NA | NA | NA | NA | No he sido testigo de ningún caso | 1 | 0.001530465 |\n| 3 | 3 | Puerto asís | Recolector/a | 42 | Entre 36 – 45 años | Masculino | Blanco o Mestizo                                         | Sí | Puerto Asís | Putumayo | ⋯ | Ninguno | NA | NA | NA | NA | NA | NA | No he sido testigo de ningún caso | 3 | 0.001371111 |\n| 4 | 4 | Puerto asís | Recolector/a | 24 | Entre 18 – 25 años | Masculino | Blanco o Mestizo                                         | Sí | Puerto Asís | Putumayo | ⋯ | Ninguno | NA | NA | NA | NA | NA | NA | No he sido testigo de ningún caso | 2 | 0.001019736 |\n| 5 | 5 | Tumaco      | Recolector/a | 32 | Entre 26 – 35 años | Femenino  | Negro(a), mulato(a), afrocolombiano(a), afrodescendiente | Sí | Tumaco      | Nariño   | ⋯ | Ninguno | NA | NA | NA | NA | NA | NA | No he sido testigo de ningún caso | 1 | 0.003719592 |\n| 6 | 6 | Puerto asís | Recolector/a | 34 | Entre 26 – 35 años | Masculino | Blanco o Mestizo                                         | Sí | Pitalito    | Huila    | ⋯ | Ninguno | NA | NA | NA | NA | NA | NA | No he sido testigo de ningún caso | 1 | 0.001530465 |\n\n",
            "text/latex": "A data.frame: 6 × 640\n\\begin{tabular}{r|lllllllllllllllllllll}\n  & ID & F0 & P93 & P1\\_EXACTA & P1\\_1\\_RANGO & P2 & P4 & P5 & P6\\_MUNICIPIO & P6\\_DEPARTAMENTO & ⋯ & P192\\_NINGUNO & P194\\_FISICAMENTE & P194\\_AMENAZADO & P194\\_AGREDIDO & P194\\_ESTIGMATIZACION & P194\\_VIOLENCIA & P194\\_ASESINADO & P194\\_NINGUNO & GRUPO & FACTOR\\\\\n  & <dbl> & <chr> & <chr> & <dbl> & <chr> & <chr> & <chr> & <chr> & <chr> & <chr> & ⋯ & <chr> & <chr> & <chr> & <chr> & <chr> & <dbl> & <chr> & <chr> & <dbl> & <dbl>\\\\\n\\hline\n\t1 & 1 & Puerto asís & Recolector/a & 70 & Más de 67 años     & Masculino & Indígena                                                 & Sí & El Encanto  & Amazonas & ⋯ & Ninguno & NA & NA & NA & NA & NA & NA & No he sido testigo de ningún caso & 4 & 0.002335060\\\\\n\t2 & 2 & Puerto asís & Recolector/a & 39 & Entre 36 – 45 años & Masculino & Blanco o Mestizo                                         & Sí & Leguizamo   & Putumayo & ⋯ & Ninguno & NA & NA & NA & NA & NA & NA & No he sido testigo de ningún caso & 1 & 0.001530465\\\\\n\t3 & 3 & Puerto asís & Recolector/a & 42 & Entre 36 – 45 años & Masculino & Blanco o Mestizo                                         & Sí & Puerto Asís & Putumayo & ⋯ & Ninguno & NA & NA & NA & NA & NA & NA & No he sido testigo de ningún caso & 3 & 0.001371111\\\\\n\t4 & 4 & Puerto asís & Recolector/a & 24 & Entre 18 – 25 años & Masculino & Blanco o Mestizo                                         & Sí & Puerto Asís & Putumayo & ⋯ & Ninguno & NA & NA & NA & NA & NA & NA & No he sido testigo de ningún caso & 2 & 0.001019736\\\\\n\t5 & 5 & Tumaco      & Recolector/a & 32 & Entre 26 – 35 años & Femenino  & Negro(a), mulato(a), afrocolombiano(a), afrodescendiente & Sí & Tumaco      & Nariño   & ⋯ & Ninguno & NA & NA & NA & NA & NA & NA & No he sido testigo de ningún caso & 1 & 0.003719592\\\\\n\t6 & 6 & Puerto asís & Recolector/a & 34 & Entre 26 – 35 años & Masculino & Blanco o Mestizo                                         & Sí & Pitalito    & Huila    & ⋯ & Ninguno & NA & NA & NA & NA & NA & NA & No he sido testigo de ningún caso & 1 & 0.001530465\\\\\n\\end{tabular}\n"
          },
          "metadata": {}
        }
      ]
    },
    {
      "cell_type": "code",
      "source": [
        "table_hogares <- read_delim(input_hogares)\n",
        "\n",
        "View(head(table_hogares))"
      ],
      "metadata": {
        "id": "-eZlsIzA-9a5",
        "colab": {
          "base_uri": "https://localhost:8080/",
          "height": 451
        },
        "outputId": "2373ee35-a6f5-430d-e711-d8c755dcfd6d"
      },
      "execution_count": null,
      "outputs": [
        {
          "output_type": "stream",
          "name": "stderr",
          "text": [
            "\u001b[1mRows: \u001b[22m\u001b[34m1543134\u001b[39m \u001b[1mColumns: \u001b[22m\u001b[34m21\u001b[39m\n",
            "\u001b[36m──\u001b[39m \u001b[1mColumn specification\u001b[22m \u001b[36m────────────────────────────────────────────────────────\u001b[39m\n",
            "\u001b[1mDelimiter:\u001b[22m \",\"\n",
            "\u001b[31mchr\u001b[39m  (7): TIPO_REG, P_DEPTO, P_MUNIC, UC_UO, ENCUESTA, COD_VEREDA, ITER_HG\n",
            "\u001b[32mdbl\u001b[39m (14): PAIS, P_S15P165A, P_S15P165B, P_S15P177, P_S15P178, P_S15P179_SP1,...\n",
            "\n",
            "\u001b[36mℹ\u001b[39m Use `spec()` to retrieve the full column specification for this data.\n",
            "\u001b[36mℹ\u001b[39m Specify the column types or set `show_col_types = FALSE` to quiet this message.\n"
          ]
        },
        {
          "output_type": "display_data",
          "data": {
            "text/plain": [
              "  TIPO_REG PAIS P_DEPTO P_MUNIC UC_UO    ENCUESTA  COD_VEREDA ITER_HG\n",
              "1 N        170  05      05001   00010001 000157501 05001038   00101  \n",
              "2 N        170  05      05001   00010001 000158442 05360006   00101  \n",
              "3 N        170  05      05001   00010001 000158442 05360006   00201  \n",
              "4 N        170  05      05001   00010001 000160666 05001999   00101  \n",
              "5 N        170  05      05001   00010001 000161543 05001029   00101  \n",
              "6 N        170  05      05001   00010001 000162857 05001043   00101  \n",
              "  P_S15P165A P_S15P165B ⋯ P_S15P178 P_S15P179_SP1 P_S15P179A P_S15P179_SP2\n",
              "1 1          1          ⋯ 2         NA              NA       NA           \n",
              "2 1          1          ⋯ 3         NA              NA       NA           \n",
              "3 2          1          ⋯ 2          1            2002       NA           \n",
              "4 1          1          ⋯ 2         NA              NA       NA           \n",
              "5 1          1          ⋯ 3         NA              NA       NA           \n",
              "6 1          1          ⋯ 2         NA              NA       NA           \n",
              "  P_S15P179B P_S15P179_SP3 P_S15P179C P_S15P179_SP4 P_S15P180 TOT_PROD_HOGAR\n",
              "1 NA         NA            NA          1            NA        NA            \n",
              "2 NA         NA            NA          1            NA         1            \n",
              "3 NA         NA            NA         NA             2        NA            \n",
              "4 NA         NA            NA          1            NA        NA            \n",
              "5 NA         NA            NA          1            NA        NA            \n",
              "6 NA         NA            NA          1            NA         1            "
            ],
            "text/html": [
              "<table class=\"dataframe\">\n",
              "<caption>A tibble: 6 × 21</caption>\n",
              "<thead>\n",
              "\t<tr><th scope=col>TIPO_REG</th><th scope=col>PAIS</th><th scope=col>P_DEPTO</th><th scope=col>P_MUNIC</th><th scope=col>UC_UO</th><th scope=col>ENCUESTA</th><th scope=col>COD_VEREDA</th><th scope=col>ITER_HG</th><th scope=col>P_S15P165A</th><th scope=col>P_S15P165B</th><th scope=col>⋯</th><th scope=col>P_S15P178</th><th scope=col>P_S15P179_SP1</th><th scope=col>P_S15P179A</th><th scope=col>P_S15P179_SP2</th><th scope=col>P_S15P179B</th><th scope=col>P_S15P179_SP3</th><th scope=col>P_S15P179C</th><th scope=col>P_S15P179_SP4</th><th scope=col>P_S15P180</th><th scope=col>TOT_PROD_HOGAR</th></tr>\n",
              "\t<tr><th scope=col>&lt;chr&gt;</th><th scope=col>&lt;dbl&gt;</th><th scope=col>&lt;chr&gt;</th><th scope=col>&lt;chr&gt;</th><th scope=col>&lt;chr&gt;</th><th scope=col>&lt;chr&gt;</th><th scope=col>&lt;chr&gt;</th><th scope=col>&lt;chr&gt;</th><th scope=col>&lt;dbl&gt;</th><th scope=col>&lt;dbl&gt;</th><th scope=col>⋯</th><th scope=col>&lt;dbl&gt;</th><th scope=col>&lt;dbl&gt;</th><th scope=col>&lt;dbl&gt;</th><th scope=col>&lt;dbl&gt;</th><th scope=col>&lt;dbl&gt;</th><th scope=col>&lt;dbl&gt;</th><th scope=col>&lt;dbl&gt;</th><th scope=col>&lt;dbl&gt;</th><th scope=col>&lt;dbl&gt;</th><th scope=col>&lt;dbl&gt;</th></tr>\n",
              "</thead>\n",
              "<tbody>\n",
              "\t<tr><td>N</td><td>170</td><td>05</td><td>05001</td><td>00010001</td><td>000157501</td><td>05001038</td><td>00101</td><td>1</td><td>1</td><td>⋯</td><td>2</td><td>NA</td><td>  NA</td><td>NA</td><td>NA</td><td>NA</td><td>NA</td><td> 1</td><td>NA</td><td>NA</td></tr>\n",
              "\t<tr><td>N</td><td>170</td><td>05</td><td>05001</td><td>00010001</td><td>000158442</td><td>05360006</td><td>00101</td><td>1</td><td>1</td><td>⋯</td><td>3</td><td>NA</td><td>  NA</td><td>NA</td><td>NA</td><td>NA</td><td>NA</td><td> 1</td><td>NA</td><td> 1</td></tr>\n",
              "\t<tr><td>N</td><td>170</td><td>05</td><td>05001</td><td>00010001</td><td>000158442</td><td>05360006</td><td>00201</td><td>2</td><td>1</td><td>⋯</td><td>2</td><td> 1</td><td>2002</td><td>NA</td><td>NA</td><td>NA</td><td>NA</td><td>NA</td><td> 2</td><td>NA</td></tr>\n",
              "\t<tr><td>N</td><td>170</td><td>05</td><td>05001</td><td>00010001</td><td>000160666</td><td>05001999</td><td>00101</td><td>1</td><td>1</td><td>⋯</td><td>2</td><td>NA</td><td>  NA</td><td>NA</td><td>NA</td><td>NA</td><td>NA</td><td> 1</td><td>NA</td><td>NA</td></tr>\n",
              "\t<tr><td>N</td><td>170</td><td>05</td><td>05001</td><td>00010001</td><td>000161543</td><td>05001029</td><td>00101</td><td>1</td><td>1</td><td>⋯</td><td>3</td><td>NA</td><td>  NA</td><td>NA</td><td>NA</td><td>NA</td><td>NA</td><td> 1</td><td>NA</td><td>NA</td></tr>\n",
              "\t<tr><td>N</td><td>170</td><td>05</td><td>05001</td><td>00010001</td><td>000162857</td><td>05001043</td><td>00101</td><td>1</td><td>1</td><td>⋯</td><td>2</td><td>NA</td><td>  NA</td><td>NA</td><td>NA</td><td>NA</td><td>NA</td><td> 1</td><td>NA</td><td> 1</td></tr>\n",
              "</tbody>\n",
              "</table>\n"
            ],
            "text/markdown": "\nA tibble: 6 × 21\n\n| TIPO_REG &lt;chr&gt; | PAIS &lt;dbl&gt; | P_DEPTO &lt;chr&gt; | P_MUNIC &lt;chr&gt; | UC_UO &lt;chr&gt; | ENCUESTA &lt;chr&gt; | COD_VEREDA &lt;chr&gt; | ITER_HG &lt;chr&gt; | P_S15P165A &lt;dbl&gt; | P_S15P165B &lt;dbl&gt; | ⋯ ⋯ | P_S15P178 &lt;dbl&gt; | P_S15P179_SP1 &lt;dbl&gt; | P_S15P179A &lt;dbl&gt; | P_S15P179_SP2 &lt;dbl&gt; | P_S15P179B &lt;dbl&gt; | P_S15P179_SP3 &lt;dbl&gt; | P_S15P179C &lt;dbl&gt; | P_S15P179_SP4 &lt;dbl&gt; | P_S15P180 &lt;dbl&gt; | TOT_PROD_HOGAR &lt;dbl&gt; |\n|---|---|---|---|---|---|---|---|---|---|---|---|---|---|---|---|---|---|---|---|---|\n| N | 170 | 05 | 05001 | 00010001 | 000157501 | 05001038 | 00101 | 1 | 1 | ⋯ | 2 | NA |   NA | NA | NA | NA | NA |  1 | NA | NA |\n| N | 170 | 05 | 05001 | 00010001 | 000158442 | 05360006 | 00101 | 1 | 1 | ⋯ | 3 | NA |   NA | NA | NA | NA | NA |  1 | NA |  1 |\n| N | 170 | 05 | 05001 | 00010001 | 000158442 | 05360006 | 00201 | 2 | 1 | ⋯ | 2 |  1 | 2002 | NA | NA | NA | NA | NA |  2 | NA |\n| N | 170 | 05 | 05001 | 00010001 | 000160666 | 05001999 | 00101 | 1 | 1 | ⋯ | 2 | NA |   NA | NA | NA | NA | NA |  1 | NA | NA |\n| N | 170 | 05 | 05001 | 00010001 | 000161543 | 05001029 | 00101 | 1 | 1 | ⋯ | 3 | NA |   NA | NA | NA | NA | NA |  1 | NA | NA |\n| N | 170 | 05 | 05001 | 00010001 | 000162857 | 05001043 | 00101 | 1 | 1 | ⋯ | 2 | NA |   NA | NA | NA | NA | NA |  1 | NA |  1 |\n\n",
            "text/latex": "A tibble: 6 × 21\n\\begin{tabular}{lllllllllllllllllllll}\n TIPO\\_REG & PAIS & P\\_DEPTO & P\\_MUNIC & UC\\_UO & ENCUESTA & COD\\_VEREDA & ITER\\_HG & P\\_S15P165A & P\\_S15P165B & ⋯ & P\\_S15P178 & P\\_S15P179\\_SP1 & P\\_S15P179A & P\\_S15P179\\_SP2 & P\\_S15P179B & P\\_S15P179\\_SP3 & P\\_S15P179C & P\\_S15P179\\_SP4 & P\\_S15P180 & TOT\\_PROD\\_HOGAR\\\\\n <chr> & <dbl> & <chr> & <chr> & <chr> & <chr> & <chr> & <chr> & <dbl> & <dbl> & ⋯ & <dbl> & <dbl> & <dbl> & <dbl> & <dbl> & <dbl> & <dbl> & <dbl> & <dbl> & <dbl>\\\\\n\\hline\n\t N & 170 & 05 & 05001 & 00010001 & 000157501 & 05001038 & 00101 & 1 & 1 & ⋯ & 2 & NA &   NA & NA & NA & NA & NA &  1 & NA & NA\\\\\n\t N & 170 & 05 & 05001 & 00010001 & 000158442 & 05360006 & 00101 & 1 & 1 & ⋯ & 3 & NA &   NA & NA & NA & NA & NA &  1 & NA &  1\\\\\n\t N & 170 & 05 & 05001 & 00010001 & 000158442 & 05360006 & 00201 & 2 & 1 & ⋯ & 2 &  1 & 2002 & NA & NA & NA & NA & NA &  2 & NA\\\\\n\t N & 170 & 05 & 05001 & 00010001 & 000160666 & 05001999 & 00101 & 1 & 1 & ⋯ & 2 & NA &   NA & NA & NA & NA & NA &  1 & NA & NA\\\\\n\t N & 170 & 05 & 05001 & 00010001 & 000161543 & 05001029 & 00101 & 1 & 1 & ⋯ & 3 & NA &   NA & NA & NA & NA & NA &  1 & NA & NA\\\\\n\t N & 170 & 05 & 05001 & 00010001 & 000162857 & 05001043 & 00101 & 1 & 1 & ⋯ & 2 & NA &   NA & NA & NA & NA & NA &  1 & NA &  1\\\\\n\\end{tabular}\n"
          },
          "metadata": {}
        }
      ]
    },
    {
      "cell_type": "code",
      "source": [
        "table_ins_viol <- read_dta(input_ins_viol)\n",
        "\n",
        "View(head(table_ins_viol))"
      ],
      "metadata": {
        "id": "2Am0pZ9R_d0_",
        "colab": {
          "base_uri": "https://localhost:8080/",
          "height": 306
        },
        "outputId": "6a1a9ad0-82dc-43b1-ef1e-d799f1c0dd50"
      },
      "execution_count": null,
      "outputs": [
        {
          "output_type": "display_data",
          "data": {
            "text/plain": [
              "  codigo year month latitude longitude insurg_violence orgncap1 orgncap2\n",
              "1 5001   1965 7     6.27     75.58     0               0        1       \n",
              "2 5001   1978 6     6.27     75.58     0               0        1       \n",
              "3 5001   1971 7     6.27     75.58     1               0        1       \n",
              "4 5001   1965 1     6.27     75.58     0               0        1       \n",
              "5 5001   1974 1     6.27     75.58     0               0        1       \n",
              "6 5001   1979 9     6.27     75.58     1               0        1       \n",
              "  mountains1 mountains2 ⋯ ethdom inequality discap disbog   peaceyears _spline1\n",
              "1 1486       NA         ⋯ 0      0.5256     0      177.8103  1            -0.75\n",
              "2 1486       NA         ⋯ 0      0.5256     0      177.8103  0             0.00\n",
              "3 1486       NA         ⋯ 0      0.5256     0      177.8103  0             0.00\n",
              "4 1486       NA         ⋯ 0      0.5256     0      177.8103  1            -0.75\n",
              "5 1486       NA         ⋯ 0      0.5256     0      177.8103  0             0.00\n",
              "6 1486       NA         ⋯ 0      0.5256     0      177.8103 15         -1531.25\n",
              "  _spline2 _spline3 _est_A _est_B\n",
              "1    -0.5    -0.25  0      0     \n",
              "2     0.0     0.00  0      0     \n",
              "3     0.0     0.00  0      0     \n",
              "4    -0.5    -0.25  0      0     \n",
              "5     0.0     0.00  0      0     \n",
              "6 -1562.5  -843.75  0      0     "
            ],
            "text/html": [
              "<table class=\"dataframe\">\n",
              "<caption>A tibble: 6 × 31</caption>\n",
              "<thead>\n",
              "\t<tr><th scope=col>codigo</th><th scope=col>year</th><th scope=col>month</th><th scope=col>latitude</th><th scope=col>longitude</th><th scope=col>insurg_violence</th><th scope=col>orgncap1</th><th scope=col>orgncap2</th><th scope=col>mountains1</th><th scope=col>mountains2</th><th scope=col>⋯</th><th scope=col>ethdom</th><th scope=col>inequality</th><th scope=col>discap</th><th scope=col>disbog</th><th scope=col>peaceyears</th><th scope=col>_spline1</th><th scope=col>_spline2</th><th scope=col>_spline3</th><th scope=col>_est_A</th><th scope=col>_est_B</th></tr>\n",
              "\t<tr><th scope=col>&lt;dbl&gt;</th><th scope=col>&lt;dbl&gt;</th><th scope=col>&lt;dbl&gt;</th><th scope=col>&lt;dbl&gt;</th><th scope=col>&lt;dbl&gt;</th><th scope=col>&lt;dbl&gt;</th><th scope=col>&lt;dbl&gt;</th><th scope=col>&lt;dbl&gt;</th><th scope=col>&lt;dbl&gt;</th><th scope=col>&lt;dbl&gt;</th><th scope=col>⋯</th><th scope=col>&lt;dbl&gt;</th><th scope=col>&lt;dbl&gt;</th><th scope=col>&lt;dbl&gt;</th><th scope=col>&lt;dbl&gt;</th><th scope=col>&lt;dbl&gt;</th><th scope=col>&lt;dbl&gt;</th><th scope=col>&lt;dbl&gt;</th><th scope=col>&lt;dbl&gt;</th><th scope=col>&lt;dbl&gt;</th><th scope=col>&lt;dbl&gt;</th></tr>\n",
              "</thead>\n",
              "<tbody>\n",
              "\t<tr><td>5001</td><td>1965</td><td>7</td><td>6.27</td><td>75.58</td><td>0</td><td>0</td><td>1</td><td>1486</td><td>NA</td><td>⋯</td><td>0</td><td>0.5256</td><td>0</td><td>177.8103</td><td> 1</td><td>   -0.75</td><td>   -0.5</td><td>  -0.25</td><td>0</td><td>0</td></tr>\n",
              "\t<tr><td>5001</td><td>1978</td><td>6</td><td>6.27</td><td>75.58</td><td>0</td><td>0</td><td>1</td><td>1486</td><td>NA</td><td>⋯</td><td>0</td><td>0.5256</td><td>0</td><td>177.8103</td><td> 0</td><td>    0.00</td><td>    0.0</td><td>   0.00</td><td>0</td><td>0</td></tr>\n",
              "\t<tr><td>5001</td><td>1971</td><td>7</td><td>6.27</td><td>75.58</td><td>1</td><td>0</td><td>1</td><td>1486</td><td>NA</td><td>⋯</td><td>0</td><td>0.5256</td><td>0</td><td>177.8103</td><td> 0</td><td>    0.00</td><td>    0.0</td><td>   0.00</td><td>0</td><td>0</td></tr>\n",
              "\t<tr><td>5001</td><td>1965</td><td>1</td><td>6.27</td><td>75.58</td><td>0</td><td>0</td><td>1</td><td>1486</td><td>NA</td><td>⋯</td><td>0</td><td>0.5256</td><td>0</td><td>177.8103</td><td> 1</td><td>   -0.75</td><td>   -0.5</td><td>  -0.25</td><td>0</td><td>0</td></tr>\n",
              "\t<tr><td>5001</td><td>1974</td><td>1</td><td>6.27</td><td>75.58</td><td>0</td><td>0</td><td>1</td><td>1486</td><td>NA</td><td>⋯</td><td>0</td><td>0.5256</td><td>0</td><td>177.8103</td><td> 0</td><td>    0.00</td><td>    0.0</td><td>   0.00</td><td>0</td><td>0</td></tr>\n",
              "\t<tr><td>5001</td><td>1979</td><td>9</td><td>6.27</td><td>75.58</td><td>1</td><td>0</td><td>1</td><td>1486</td><td>NA</td><td>⋯</td><td>0</td><td>0.5256</td><td>0</td><td>177.8103</td><td>15</td><td>-1531.25</td><td>-1562.5</td><td>-843.75</td><td>0</td><td>0</td></tr>\n",
              "</tbody>\n",
              "</table>\n"
            ],
            "text/markdown": "\nA tibble: 6 × 31\n\n| codigo &lt;dbl&gt; | year &lt;dbl&gt; | month &lt;dbl&gt; | latitude &lt;dbl&gt; | longitude &lt;dbl&gt; | insurg_violence &lt;dbl&gt; | orgncap1 &lt;dbl&gt; | orgncap2 &lt;dbl&gt; | mountains1 &lt;dbl&gt; | mountains2 &lt;dbl&gt; | ⋯ ⋯ | ethdom &lt;dbl&gt; | inequality &lt;dbl&gt; | discap &lt;dbl&gt; | disbog &lt;dbl&gt; | peaceyears &lt;dbl&gt; | _spline1 &lt;dbl&gt; | _spline2 &lt;dbl&gt; | _spline3 &lt;dbl&gt; | _est_A &lt;dbl&gt; | _est_B &lt;dbl&gt; |\n|---|---|---|---|---|---|---|---|---|---|---|---|---|---|---|---|---|---|---|---|---|\n| 5001 | 1965 | 7 | 6.27 | 75.58 | 0 | 0 | 1 | 1486 | NA | ⋯ | 0 | 0.5256 | 0 | 177.8103 |  1 |    -0.75 |    -0.5 |   -0.25 | 0 | 0 |\n| 5001 | 1978 | 6 | 6.27 | 75.58 | 0 | 0 | 1 | 1486 | NA | ⋯ | 0 | 0.5256 | 0 | 177.8103 |  0 |     0.00 |     0.0 |    0.00 | 0 | 0 |\n| 5001 | 1971 | 7 | 6.27 | 75.58 | 1 | 0 | 1 | 1486 | NA | ⋯ | 0 | 0.5256 | 0 | 177.8103 |  0 |     0.00 |     0.0 |    0.00 | 0 | 0 |\n| 5001 | 1965 | 1 | 6.27 | 75.58 | 0 | 0 | 1 | 1486 | NA | ⋯ | 0 | 0.5256 | 0 | 177.8103 |  1 |    -0.75 |    -0.5 |   -0.25 | 0 | 0 |\n| 5001 | 1974 | 1 | 6.27 | 75.58 | 0 | 0 | 1 | 1486 | NA | ⋯ | 0 | 0.5256 | 0 | 177.8103 |  0 |     0.00 |     0.0 |    0.00 | 0 | 0 |\n| 5001 | 1979 | 9 | 6.27 | 75.58 | 1 | 0 | 1 | 1486 | NA | ⋯ | 0 | 0.5256 | 0 | 177.8103 | 15 | -1531.25 | -1562.5 | -843.75 | 0 | 0 |\n\n",
            "text/latex": "A tibble: 6 × 31\n\\begin{tabular}{lllllllllllllllllllll}\n codigo & year & month & latitude & longitude & insurg\\_violence & orgncap1 & orgncap2 & mountains1 & mountains2 & ⋯ & ethdom & inequality & discap & disbog & peaceyears & \\_spline1 & \\_spline2 & \\_spline3 & \\_est\\_A & \\_est\\_B\\\\\n <dbl> & <dbl> & <dbl> & <dbl> & <dbl> & <dbl> & <dbl> & <dbl> & <dbl> & <dbl> & ⋯ & <dbl> & <dbl> & <dbl> & <dbl> & <dbl> & <dbl> & <dbl> & <dbl> & <dbl> & <dbl>\\\\\n\\hline\n\t 5001 & 1965 & 7 & 6.27 & 75.58 & 0 & 0 & 1 & 1486 & NA & ⋯ & 0 & 0.5256 & 0 & 177.8103 &  1 &    -0.75 &    -0.5 &   -0.25 & 0 & 0\\\\\n\t 5001 & 1978 & 6 & 6.27 & 75.58 & 0 & 0 & 1 & 1486 & NA & ⋯ & 0 & 0.5256 & 0 & 177.8103 &  0 &     0.00 &     0.0 &    0.00 & 0 & 0\\\\\n\t 5001 & 1971 & 7 & 6.27 & 75.58 & 1 & 0 & 1 & 1486 & NA & ⋯ & 0 & 0.5256 & 0 & 177.8103 &  0 &     0.00 &     0.0 &    0.00 & 0 & 0\\\\\n\t 5001 & 1965 & 1 & 6.27 & 75.58 & 0 & 0 & 1 & 1486 & NA & ⋯ & 0 & 0.5256 & 0 & 177.8103 &  1 &    -0.75 &    -0.5 &   -0.25 & 0 & 0\\\\\n\t 5001 & 1974 & 1 & 6.27 & 75.58 & 0 & 0 & 1 & 1486 & NA & ⋯ & 0 & 0.5256 & 0 & 177.8103 &  0 &     0.00 &     0.0 &    0.00 & 0 & 0\\\\\n\t 5001 & 1979 & 9 & 6.27 & 75.58 & 1 & 0 & 1 & 1486 & NA & ⋯ & 0 & 0.5256 & 0 & 177.8103 & 15 & -1531.25 & -1562.5 & -843.75 & 0 & 0\\\\\n\\end{tabular}\n"
          },
          "metadata": {}
        }
      ]
    },
    {
      "cell_type": "code",
      "source": [
        "table_cnmhdf <- read_parquet(input_cnmh_df)\n",
        "\n",
        "View(head(table_cnmhdf))"
      ],
      "metadata": {
        "id": "e-skZgW3_mgG",
        "colab": {
          "base_uri": "https://localhost:8080/",
          "height": 445
        },
        "outputId": "1fafc40c-2c1f-4692-a29c-ce8ed8e1e380"
      },
      "execution_count": null,
      "outputs": [
        {
          "output_type": "display_data",
          "data": {
            "text/plain": [
              "  ID.Caso ID.Caso.Relacionado Año  Mes Día Código.DANE.de.Municipio Municipio\n",
              "1 100265  NA                  1991 05  25  25368                    JERUSALEN\n",
              "2 100282  NA                  2004 12  02  25386                    LA MESA  \n",
              "3 101616  CR000088            1993 03  09  25885                    YACOPI   \n",
              "4 102204  NA                  1997 06  08  27099                    BOJAYA   \n",
              "5 102489  NA                  2000 06  12  27413                    LLORO    \n",
              "6 102675  NA                  1997 05  10  27615                    RIOSUCIO \n",
              "  Departamento Región                       Modalidad           ⋯ Extorsión\n",
              "1 CUNDINAMARCA SUROCCIDENTE DE CUNDINAMARCA DESCONOCIDA         ⋯ 0        \n",
              "2 CUNDINAMARCA SUROCCIDENTE DE CUNDINAMARCA RETENCIÓN           ⋯ 0        \n",
              "3 CUNDINAMARCA MAGDALENA MEDIO              ASALTO              ⋯ 0        \n",
              "4 CHOCO        ATRATO                       DESCONOCIDA         ⋯ 0        \n",
              "5 CHOCO        ATRATO                       RETENCIÓN/EJECUCIÓN ⋯ 0        \n",
              "6 CHOCO        URABA                        ASALTO              ⋯ 0        \n",
              "  Lesionados.Civiles Pillaje Tortura Violencia.Basada.en.Género\n",
              "1 0                  0       0       NA                        \n",
              "2 0                  0       1       NA                        \n",
              "3 0                  0       3       NA                        \n",
              "4 0                  0       0       NA                        \n",
              "5 0                  0       0       NA                        \n",
              "6 0                  0       0       NA                        \n",
              "  Otro.Hecho.Simultáneo Total.de.Víctimas.del.Caso\n",
              "1 NA                    1                         \n",
              "2 NA                    1                         \n",
              "3 NA                    2                         \n",
              "4 NA                    1                         \n",
              "5 NA                    1                         \n",
              "6 NA                    1                         \n",
              "  Tipo.de.Armas                       Latitud  Longitud \n",
              "1 ND                                  4.571350 -74.68916\n",
              "2 ARMA DE FUEGO                       4.650773 -74.47322\n",
              "3 ARMA CORTO PUNZANTE - ARMA DE FUEGO 5.459290 -74.33802\n",
              "4 ND                                  6.474667 -77.09933\n",
              "5 ARMA CORTO PUNZANTE                 5.585101 -76.38544\n",
              "6 ND                                  7.375606 -77.35636"
            ],
            "text/html": [
              "<table class=\"dataframe\">\n",
              "<caption>A tibble: 6 × 27</caption>\n",
              "<thead>\n",
              "\t<tr><th scope=col>ID.Caso</th><th scope=col>ID.Caso.Relacionado</th><th scope=col>Año</th><th scope=col>Mes</th><th scope=col>Día</th><th scope=col>Código.DANE.de.Municipio</th><th scope=col>Municipio</th><th scope=col>Departamento</th><th scope=col>Región</th><th scope=col>Modalidad</th><th scope=col>⋯</th><th scope=col>Extorsión</th><th scope=col>Lesionados.Civiles</th><th scope=col>Pillaje</th><th scope=col>Tortura</th><th scope=col>Violencia.Basada.en.Género</th><th scope=col>Otro.Hecho.Simultáneo</th><th scope=col>Total.de.Víctimas.del.Caso</th><th scope=col>Tipo.de.Armas</th><th scope=col>Latitud</th><th scope=col>Longitud</th></tr>\n",
              "\t<tr><th scope=col>&lt;chr&gt;</th><th scope=col>&lt;chr&gt;</th><th scope=col>&lt;chr&gt;</th><th scope=col>&lt;chr&gt;</th><th scope=col>&lt;chr&gt;</th><th scope=col>&lt;chr&gt;</th><th scope=col>&lt;chr&gt;</th><th scope=col>&lt;chr&gt;</th><th scope=col>&lt;chr&gt;</th><th scope=col>&lt;chr&gt;</th><th scope=col>⋯</th><th scope=col>&lt;dbl&gt;</th><th scope=col>&lt;dbl&gt;</th><th scope=col>&lt;dbl&gt;</th><th scope=col>&lt;dbl&gt;</th><th scope=col>&lt;chr&gt;</th><th scope=col>&lt;chr&gt;</th><th scope=col>&lt;dbl&gt;</th><th scope=col>&lt;chr&gt;</th><th scope=col>&lt;dbl&gt;</th><th scope=col>&lt;dbl&gt;</th></tr>\n",
              "</thead>\n",
              "<tbody>\n",
              "\t<tr><td>100265</td><td>NA      </td><td>1991</td><td>05</td><td>25</td><td>25368</td><td>JERUSALEN</td><td>CUNDINAMARCA</td><td>SUROCCIDENTE DE CUNDINAMARCA</td><td>DESCONOCIDA        </td><td>⋯</td><td>0</td><td>0</td><td>0</td><td>0</td><td>NA</td><td>NA</td><td>1</td><td>ND                                 </td><td>4.571350</td><td>-74.68916</td></tr>\n",
              "\t<tr><td>100282</td><td>NA      </td><td>2004</td><td>12</td><td>02</td><td>25386</td><td>LA MESA  </td><td>CUNDINAMARCA</td><td>SUROCCIDENTE DE CUNDINAMARCA</td><td>RETENCIÓN          </td><td>⋯</td><td>0</td><td>0</td><td>0</td><td>1</td><td>NA</td><td>NA</td><td>1</td><td>ARMA DE FUEGO                      </td><td>4.650773</td><td>-74.47322</td></tr>\n",
              "\t<tr><td>101616</td><td>CR000088</td><td>1993</td><td>03</td><td>09</td><td>25885</td><td>YACOPI   </td><td>CUNDINAMARCA</td><td>MAGDALENA MEDIO             </td><td>ASALTO             </td><td>⋯</td><td>0</td><td>0</td><td>0</td><td>3</td><td>NA</td><td>NA</td><td>2</td><td>ARMA CORTO PUNZANTE - ARMA DE FUEGO</td><td>5.459290</td><td>-74.33802</td></tr>\n",
              "\t<tr><td>102204</td><td>NA      </td><td>1997</td><td>06</td><td>08</td><td>27099</td><td>BOJAYA   </td><td>CHOCO       </td><td>ATRATO                      </td><td>DESCONOCIDA        </td><td>⋯</td><td>0</td><td>0</td><td>0</td><td>0</td><td>NA</td><td>NA</td><td>1</td><td>ND                                 </td><td>6.474667</td><td>-77.09933</td></tr>\n",
              "\t<tr><td>102489</td><td>NA      </td><td>2000</td><td>06</td><td>12</td><td>27413</td><td>LLORO    </td><td>CHOCO       </td><td>ATRATO                      </td><td>RETENCIÓN/EJECUCIÓN</td><td>⋯</td><td>0</td><td>0</td><td>0</td><td>0</td><td>NA</td><td>NA</td><td>1</td><td>ARMA CORTO PUNZANTE                </td><td>5.585101</td><td>-76.38544</td></tr>\n",
              "\t<tr><td>102675</td><td>NA      </td><td>1997</td><td>05</td><td>10</td><td>27615</td><td>RIOSUCIO </td><td>CHOCO       </td><td>URABA                       </td><td>ASALTO             </td><td>⋯</td><td>0</td><td>0</td><td>0</td><td>0</td><td>NA</td><td>NA</td><td>1</td><td>ND                                 </td><td>7.375606</td><td>-77.35636</td></tr>\n",
              "</tbody>\n",
              "</table>\n"
            ],
            "text/markdown": "\nA tibble: 6 × 27\n\n| ID.Caso &lt;chr&gt; | ID.Caso.Relacionado &lt;chr&gt; | Año &lt;chr&gt; | Mes &lt;chr&gt; | Día &lt;chr&gt; | Código.DANE.de.Municipio &lt;chr&gt; | Municipio &lt;chr&gt; | Departamento &lt;chr&gt; | Región &lt;chr&gt; | Modalidad &lt;chr&gt; | ⋯ ⋯ | Extorsión &lt;dbl&gt; | Lesionados.Civiles &lt;dbl&gt; | Pillaje &lt;dbl&gt; | Tortura &lt;dbl&gt; | Violencia.Basada.en.Género &lt;chr&gt; | Otro.Hecho.Simultáneo &lt;chr&gt; | Total.de.Víctimas.del.Caso &lt;dbl&gt; | Tipo.de.Armas &lt;chr&gt; | Latitud &lt;dbl&gt; | Longitud &lt;dbl&gt; |\n|---|---|---|---|---|---|---|---|---|---|---|---|---|---|---|---|---|---|---|---|---|\n| 100265 | NA       | 1991 | 05 | 25 | 25368 | JERUSALEN | CUNDINAMARCA | SUROCCIDENTE DE CUNDINAMARCA | DESCONOCIDA         | ⋯ | 0 | 0 | 0 | 0 | NA | NA | 1 | ND                                  | 4.571350 | -74.68916 |\n| 100282 | NA       | 2004 | 12 | 02 | 25386 | LA MESA   | CUNDINAMARCA | SUROCCIDENTE DE CUNDINAMARCA | RETENCIÓN           | ⋯ | 0 | 0 | 0 | 1 | NA | NA | 1 | ARMA DE FUEGO                       | 4.650773 | -74.47322 |\n| 101616 | CR000088 | 1993 | 03 | 09 | 25885 | YACOPI    | CUNDINAMARCA | MAGDALENA MEDIO              | ASALTO              | ⋯ | 0 | 0 | 0 | 3 | NA | NA | 2 | ARMA CORTO PUNZANTE - ARMA DE FUEGO | 5.459290 | -74.33802 |\n| 102204 | NA       | 1997 | 06 | 08 | 27099 | BOJAYA    | CHOCO        | ATRATO                       | DESCONOCIDA         | ⋯ | 0 | 0 | 0 | 0 | NA | NA | 1 | ND                                  | 6.474667 | -77.09933 |\n| 102489 | NA       | 2000 | 06 | 12 | 27413 | LLORO     | CHOCO        | ATRATO                       | RETENCIÓN/EJECUCIÓN | ⋯ | 0 | 0 | 0 | 0 | NA | NA | 1 | ARMA CORTO PUNZANTE                 | 5.585101 | -76.38544 |\n| 102675 | NA       | 1997 | 05 | 10 | 27615 | RIOSUCIO  | CHOCO        | URABA                        | ASALTO              | ⋯ | 0 | 0 | 0 | 0 | NA | NA | 1 | ND                                  | 7.375606 | -77.35636 |\n\n",
            "text/latex": "A tibble: 6 × 27\n\\begin{tabular}{lllllllllllllllllllll}\n ID.Caso & ID.Caso.Relacionado & Año & Mes & Día & Código.DANE.de.Municipio & Municipio & Departamento & Región & Modalidad & ⋯ & Extorsión & Lesionados.Civiles & Pillaje & Tortura & Violencia.Basada.en.Género & Otro.Hecho.Simultáneo & Total.de.Víctimas.del.Caso & Tipo.de.Armas & Latitud & Longitud\\\\\n <chr> & <chr> & <chr> & <chr> & <chr> & <chr> & <chr> & <chr> & <chr> & <chr> & ⋯ & <dbl> & <dbl> & <dbl> & <dbl> & <chr> & <chr> & <dbl> & <chr> & <dbl> & <dbl>\\\\\n\\hline\n\t 100265 & NA       & 1991 & 05 & 25 & 25368 & JERUSALEN & CUNDINAMARCA & SUROCCIDENTE DE CUNDINAMARCA & DESCONOCIDA         & ⋯ & 0 & 0 & 0 & 0 & NA & NA & 1 & ND                                  & 4.571350 & -74.68916\\\\\n\t 100282 & NA       & 2004 & 12 & 02 & 25386 & LA MESA   & CUNDINAMARCA & SUROCCIDENTE DE CUNDINAMARCA & RETENCIÓN           & ⋯ & 0 & 0 & 0 & 1 & NA & NA & 1 & ARMA DE FUEGO                       & 4.650773 & -74.47322\\\\\n\t 101616 & CR000088 & 1993 & 03 & 09 & 25885 & YACOPI    & CUNDINAMARCA & MAGDALENA MEDIO              & ASALTO              & ⋯ & 0 & 0 & 0 & 3 & NA & NA & 2 & ARMA CORTO PUNZANTE - ARMA DE FUEGO & 5.459290 & -74.33802\\\\\n\t 102204 & NA       & 1997 & 06 & 08 & 27099 & BOJAYA    & CHOCO        & ATRATO                       & DESCONOCIDA         & ⋯ & 0 & 0 & 0 & 0 & NA & NA & 1 & ND                                  & 6.474667 & -77.09933\\\\\n\t 102489 & NA       & 2000 & 06 & 12 & 27413 & LLORO     & CHOCO        & ATRATO                       & RETENCIÓN/EJECUCIÓN & ⋯ & 0 & 0 & 0 & 0 & NA & NA & 1 & ARMA CORTO PUNZANTE                 & 5.585101 & -76.38544\\\\\n\t 102675 & NA       & 1997 & 05 & 10 & 27615 & RIOSUCIO  & CHOCO        & URABA                        & ASALTO              & ⋯ & 0 & 0 & 0 & 0 & NA & NA & 1 & ND                                  & 7.375606 & -77.35636\\\\\n\\end{tabular}\n"
          },
          "metadata": {}
        }
      ]
    },
    {
      "cell_type": "code",
      "source": [
        "table_censo <- read_parquet(input_censo, col_select = c(\"recordid\", \"p_s12p150a\", \"s05_tenencia\"))\n",
        "\n",
        "View(head(table_censo))"
      ],
      "metadata": {
        "id": "Iys3qs2c_sn5",
        "colab": {
          "base_uri": "https://localhost:8080/",
          "height": 286
        },
        "outputId": "328a5ec5-8e95-409d-9337-3f5a4a99ec24"
      },
      "execution_count": null,
      "outputs": [
        {
          "output_type": "display_data",
          "data": {
            "text/plain": [
              "  recordid                                 p_s12p150a s05_tenencia\n",
              "1 a2ab5453636255c085c3be26ed0fd9c296c1e103 153936.128 99          \n",
              "2 c1a023bb5a55bf3ee1143a63ef7888bc45a66513  96405.598  1          \n",
              "3 99298a9579f45c067611a435e5f99b493fdd99ec         NA NA          \n",
              "4 ec2224f3a9e1aa5f8dc178ede773a827e00e324a   3172.055  1          \n",
              "5 cf0cb407a2650b26560bfd6e5b8fb5fbec523cf4 111173.102  1          \n",
              "6 55abe9c02431be685c856d5df2762f128718e103   3881.098  1          "
            ],
            "text/html": [
              "<table class=\"dataframe\">\n",
              "<caption>A tibble: 6 × 3</caption>\n",
              "<thead>\n",
              "\t<tr><th scope=col>recordid</th><th scope=col>p_s12p150a</th><th scope=col>s05_tenencia</th></tr>\n",
              "\t<tr><th scope=col>&lt;chr&gt;</th><th scope=col>&lt;dbl&gt;</th><th scope=col>&lt;dbl&gt;</th></tr>\n",
              "</thead>\n",
              "<tbody>\n",
              "\t<tr><td>a2ab5453636255c085c3be26ed0fd9c296c1e103</td><td>153936.128</td><td>99</td></tr>\n",
              "\t<tr><td>c1a023bb5a55bf3ee1143a63ef7888bc45a66513</td><td> 96405.598</td><td> 1</td></tr>\n",
              "\t<tr><td>99298a9579f45c067611a435e5f99b493fdd99ec</td><td>        NA</td><td>NA</td></tr>\n",
              "\t<tr><td>ec2224f3a9e1aa5f8dc178ede773a827e00e324a</td><td>  3172.055</td><td> 1</td></tr>\n",
              "\t<tr><td>cf0cb407a2650b26560bfd6e5b8fb5fbec523cf4</td><td>111173.102</td><td> 1</td></tr>\n",
              "\t<tr><td>55abe9c02431be685c856d5df2762f128718e103</td><td>  3881.098</td><td> 1</td></tr>\n",
              "</tbody>\n",
              "</table>\n"
            ],
            "text/markdown": "\nA tibble: 6 × 3\n\n| recordid &lt;chr&gt; | p_s12p150a &lt;dbl&gt; | s05_tenencia &lt;dbl&gt; |\n|---|---|---|\n| a2ab5453636255c085c3be26ed0fd9c296c1e103 | 153936.128 | 99 |\n| c1a023bb5a55bf3ee1143a63ef7888bc45a66513 |  96405.598 |  1 |\n| 99298a9579f45c067611a435e5f99b493fdd99ec |         NA | NA |\n| ec2224f3a9e1aa5f8dc178ede773a827e00e324a |   3172.055 |  1 |\n| cf0cb407a2650b26560bfd6e5b8fb5fbec523cf4 | 111173.102 |  1 |\n| 55abe9c02431be685c856d5df2762f128718e103 |   3881.098 |  1 |\n\n",
            "text/latex": "A tibble: 6 × 3\n\\begin{tabular}{lll}\n recordid & p\\_s12p150a & s05\\_tenencia\\\\\n <chr> & <dbl> & <dbl>\\\\\n\\hline\n\t a2ab5453636255c085c3be26ed0fd9c296c1e103 & 153936.128 & 99\\\\\n\t c1a023bb5a55bf3ee1143a63ef7888bc45a66513 &  96405.598 &  1\\\\\n\t 99298a9579f45c067611a435e5f99b493fdd99ec &         NA & NA\\\\\n\t ec2224f3a9e1aa5f8dc178ede773a827e00e324a &   3172.055 &  1\\\\\n\t cf0cb407a2650b26560bfd6e5b8fb5fbec523cf4 & 111173.102 &  1\\\\\n\t 55abe9c02431be685c856d5df2762f128718e103 &   3881.098 &  1\\\\\n\\end{tabular}\n"
          },
          "metadata": {}
        }
      ]
    },
    {
      "cell_type": "markdown",
      "source": [
        "En la implementación anterior, nótese que se tiene un segundo parámetro llamado col_select. Este parámetro debe asignarse a un vector de nombres de columnas. El resultado es que solamente se importarán las columnas seleccionadas. Esto permite trabajar solamente con la información que necesitamos y así evitar saturar la memoria de nuestra máquina."
      ],
      "metadata": {
        "id": "uK8TMCkh06oU"
      }
    },
    {
      "cell_type": "markdown",
      "source": [
        "## Importar con parámetros\n",
        "\n",
        "En este apartado se presentan algunos de los parámetros más importantes que reciben las funciones."
      ],
      "metadata": {
        "id": "BFEp5_UvVF5D"
      }
    },
    {
      "cell_type": "code",
      "source": [
        "input_coca <- \"drive_sebas/economias_ilicitas/RPT_CultivosIlicitos_2024-12-22--194158.xlsx\"\n",
        "\n",
        "input_gini_t <- \"drive_sebas/agropecuario/GINI_COL_IGAC_V3_07052024.xlsx\"\n",
        "\n",
        "input_cnmh_df <- \"drive_sebas/violencia/CasosDF_202409.parquet\"\n",
        "\n",
        "input_censo <- \"drive_sebas/agropecuario/censo_agro_import.parquet\""
      ],
      "metadata": {
        "id": "7ldRdb0PVJck"
      },
      "execution_count": null,
      "outputs": []
    },
    {
      "cell_type": "markdown",
      "source": [
        "En la celda siguiente, nuevamente se utiliza read_parquet() para seleccionar solamente las columnas que necesitamos e importarlas con el parámetro col_select(). Esta es una propiedad exclusiva de la función read_parquet()."
      ],
      "metadata": {
        "id": "Zj8GuVHa1kAZ"
      }
    },
    {
      "cell_type": "code",
      "source": [
        "table_censo <- read_parquet(input_censo, col_select = c(\"recordid\", \"p_s12p150a\", \"s05_tenencia\"))\n",
        "\n",
        "View(head(table_censo))"
      ],
      "metadata": {
        "id": "5T8n7g5fVz_x",
        "colab": {
          "base_uri": "https://localhost:8080/",
          "height": 286
        },
        "outputId": "b739ba89-53b1-4d03-ee55-4cc30ad2585b"
      },
      "execution_count": null,
      "outputs": [
        {
          "output_type": "display_data",
          "data": {
            "text/plain": [
              "  recordid                                 p_s12p150a s05_tenencia\n",
              "1 a2ab5453636255c085c3be26ed0fd9c296c1e103 153936.128 99          \n",
              "2 c1a023bb5a55bf3ee1143a63ef7888bc45a66513  96405.598  1          \n",
              "3 99298a9579f45c067611a435e5f99b493fdd99ec         NA NA          \n",
              "4 ec2224f3a9e1aa5f8dc178ede773a827e00e324a   3172.055  1          \n",
              "5 cf0cb407a2650b26560bfd6e5b8fb5fbec523cf4 111173.102  1          \n",
              "6 55abe9c02431be685c856d5df2762f128718e103   3881.098  1          "
            ],
            "text/html": [
              "<table class=\"dataframe\">\n",
              "<caption>A tibble: 6 × 3</caption>\n",
              "<thead>\n",
              "\t<tr><th scope=col>recordid</th><th scope=col>p_s12p150a</th><th scope=col>s05_tenencia</th></tr>\n",
              "\t<tr><th scope=col>&lt;chr&gt;</th><th scope=col>&lt;dbl&gt;</th><th scope=col>&lt;dbl&gt;</th></tr>\n",
              "</thead>\n",
              "<tbody>\n",
              "\t<tr><td>a2ab5453636255c085c3be26ed0fd9c296c1e103</td><td>153936.128</td><td>99</td></tr>\n",
              "\t<tr><td>c1a023bb5a55bf3ee1143a63ef7888bc45a66513</td><td> 96405.598</td><td> 1</td></tr>\n",
              "\t<tr><td>99298a9579f45c067611a435e5f99b493fdd99ec</td><td>        NA</td><td>NA</td></tr>\n",
              "\t<tr><td>ec2224f3a9e1aa5f8dc178ede773a827e00e324a</td><td>  3172.055</td><td> 1</td></tr>\n",
              "\t<tr><td>cf0cb407a2650b26560bfd6e5b8fb5fbec523cf4</td><td>111173.102</td><td> 1</td></tr>\n",
              "\t<tr><td>55abe9c02431be685c856d5df2762f128718e103</td><td>  3881.098</td><td> 1</td></tr>\n",
              "</tbody>\n",
              "</table>\n"
            ],
            "text/markdown": "\nA tibble: 6 × 3\n\n| recordid &lt;chr&gt; | p_s12p150a &lt;dbl&gt; | s05_tenencia &lt;dbl&gt; |\n|---|---|---|\n| a2ab5453636255c085c3be26ed0fd9c296c1e103 | 153936.128 | 99 |\n| c1a023bb5a55bf3ee1143a63ef7888bc45a66513 |  96405.598 |  1 |\n| 99298a9579f45c067611a435e5f99b493fdd99ec |         NA | NA |\n| ec2224f3a9e1aa5f8dc178ede773a827e00e324a |   3172.055 |  1 |\n| cf0cb407a2650b26560bfd6e5b8fb5fbec523cf4 | 111173.102 |  1 |\n| 55abe9c02431be685c856d5df2762f128718e103 |   3881.098 |  1 |\n\n",
            "text/latex": "A tibble: 6 × 3\n\\begin{tabular}{lll}\n recordid & p\\_s12p150a & s05\\_tenencia\\\\\n <chr> & <dbl> & <dbl>\\\\\n\\hline\n\t a2ab5453636255c085c3be26ed0fd9c296c1e103 & 153936.128 & 99\\\\\n\t c1a023bb5a55bf3ee1143a63ef7888bc45a66513 &  96405.598 &  1\\\\\n\t 99298a9579f45c067611a435e5f99b493fdd99ec &         NA & NA\\\\\n\t ec2224f3a9e1aa5f8dc178ede773a827e00e324a &   3172.055 &  1\\\\\n\t cf0cb407a2650b26560bfd6e5b8fb5fbec523cf4 & 111173.102 &  1\\\\\n\t 55abe9c02431be685c856d5df2762f128718e103 &   3881.098 &  1\\\\\n\\end{tabular}\n"
          },
          "metadata": {}
        }
      ]
    },
    {
      "cell_type": "markdown",
      "source": [
        "En la siguiente línea se define la fila desde la que se procederá a importar el archivo. En este caso, se importa desde la fila 9 y el contenido de esta fila corresponderá a los nombres de las columnas del dataframe."
      ],
      "metadata": {
        "id": "5TLosPJv1v-Q"
      }
    },
    {
      "cell_type": "code",
      "source": [
        "table_coca <- read.xlsx(input_coca, startRow = 9)\n",
        "\n",
        "View(head(table_coca))"
      ],
      "metadata": {
        "id": "Cq-CXhgZV3-M",
        "colab": {
          "base_uri": "https://localhost:8080/",
          "height": 549
        },
        "outputId": "1f6b7442-a0ab-49de-c64b-ccebf03c775d"
      },
      "execution_count": null,
      "outputs": [
        {
          "output_type": "display_data",
          "data": {
            "text/plain": [
              "  CODDEPTO DEPARTAMENTO CODMPIO MUNICIPIO                                     \n",
              "1 91       AMAZONAS     91263   EL ENCANTO (Cor. Departamental)               \n",
              "2 91       AMAZONAS     91405   LA CHORRERA (Cor. Departamental)              \n",
              "3 91       AMAZONAS     91407   LA PEDRERA (Cor. Departamental)               \n",
              "4 91       AMAZONAS     91430   LA VICTORIA (Pacoa) (Cor. Departamental)      \n",
              "5 91       AMAZONAS     91460   MIRITÍ-PARANÁ (Campoamor) (Cor. Departamental)\n",
              "6 91       AMAZONAS     91530   PUERTO ALEGRÍA (Cor. Departamental)           \n",
              "  1999 2000 2001   2002 2003  2004 ⋯ 2014 2015  2016   2017   2018   2019  \n",
              "1           191.82 264  164   270  ⋯ 20   11.77 12.65  8.04   4.12   2.52  \n",
              "2           65     236  209   271  ⋯ 51   13.61 14.09  18.2   6.04   3.16  \n",
              "3                                  ⋯                                       \n",
              "4                                  ⋯                                       \n",
              "5           6      43   36.18 30   ⋯                                       \n",
              "6           212.34 195  173   174  ⋯ 102  85.79 140.03 139.38 111.49 118.96\n",
              "  2020  2021  2022   2023 \n",
              "1                         \n",
              "2                         \n",
              "3                         \n",
              "4                         \n",
              "5                         \n",
              "6 61.45 72.76 103.39 65.97"
            ],
            "text/html": [
              "<table class=\"dataframe\">\n",
              "<caption>A data.frame: 6 × 29</caption>\n",
              "<thead>\n",
              "\t<tr><th></th><th scope=col>CODDEPTO</th><th scope=col>DEPARTAMENTO</th><th scope=col>CODMPIO</th><th scope=col>MUNICIPIO</th><th scope=col>1999</th><th scope=col>2000</th><th scope=col>2001</th><th scope=col>2002</th><th scope=col>2003</th><th scope=col>2004</th><th scope=col>⋯</th><th scope=col>2014</th><th scope=col>2015</th><th scope=col>2016</th><th scope=col>2017</th><th scope=col>2018</th><th scope=col>2019</th><th scope=col>2020</th><th scope=col>2021</th><th scope=col>2022</th><th scope=col>2023</th></tr>\n",
              "\t<tr><th></th><th scope=col>&lt;chr&gt;</th><th scope=col>&lt;chr&gt;</th><th scope=col>&lt;chr&gt;</th><th scope=col>&lt;chr&gt;</th><th scope=col>&lt;chr&gt;</th><th scope=col>&lt;chr&gt;</th><th scope=col>&lt;chr&gt;</th><th scope=col>&lt;chr&gt;</th><th scope=col>&lt;chr&gt;</th><th scope=col>&lt;chr&gt;</th><th scope=col>⋯</th><th scope=col>&lt;chr&gt;</th><th scope=col>&lt;chr&gt;</th><th scope=col>&lt;chr&gt;</th><th scope=col>&lt;chr&gt;</th><th scope=col>&lt;chr&gt;</th><th scope=col>&lt;chr&gt;</th><th scope=col>&lt;chr&gt;</th><th scope=col>&lt;chr&gt;</th><th scope=col>&lt;chr&gt;</th><th scope=col>&lt;chr&gt;</th></tr>\n",
              "</thead>\n",
              "<tbody>\n",
              "\t<tr><th scope=row>1</th><td>91</td><td>AMAZONAS</td><td>91263</td><td>EL ENCANTO (Cor. Departamental)               </td><td></td><td></td><td>191.82</td><td>264</td><td>164  </td><td>270</td><td>⋯</td><td>20 </td><td>11.77</td><td>12.65 </td><td>8.04  </td><td>4.12  </td><td>2.52  </td><td>     </td><td>     </td><td>      </td><td>     </td></tr>\n",
              "\t<tr><th scope=row>2</th><td>91</td><td>AMAZONAS</td><td>91405</td><td>LA CHORRERA (Cor. Departamental)              </td><td></td><td></td><td>65    </td><td>236</td><td>209  </td><td>271</td><td>⋯</td><td>51 </td><td>13.61</td><td>14.09 </td><td>18.2  </td><td>6.04  </td><td>3.16  </td><td>     </td><td>     </td><td>      </td><td>     </td></tr>\n",
              "\t<tr><th scope=row>3</th><td>91</td><td>AMAZONAS</td><td>91407</td><td>LA PEDRERA (Cor. Departamental)               </td><td></td><td></td><td>      </td><td>   </td><td>     </td><td>   </td><td>⋯</td><td>   </td><td>     </td><td>      </td><td>      </td><td>      </td><td>      </td><td>     </td><td>     </td><td>      </td><td>     </td></tr>\n",
              "\t<tr><th scope=row>4</th><td>91</td><td>AMAZONAS</td><td>91430</td><td>LA VICTORIA (Pacoa) (Cor. Departamental)      </td><td></td><td></td><td>      </td><td>   </td><td>     </td><td>   </td><td>⋯</td><td>   </td><td>     </td><td>      </td><td>      </td><td>      </td><td>      </td><td>     </td><td>     </td><td>      </td><td>     </td></tr>\n",
              "\t<tr><th scope=row>5</th><td>91</td><td>AMAZONAS</td><td>91460</td><td>MIRITÍ-PARANÁ (Campoamor) (Cor. Departamental)</td><td></td><td></td><td>6     </td><td>43 </td><td>36.18</td><td>30 </td><td>⋯</td><td>   </td><td>     </td><td>      </td><td>      </td><td>      </td><td>      </td><td>     </td><td>     </td><td>      </td><td>     </td></tr>\n",
              "\t<tr><th scope=row>6</th><td>91</td><td>AMAZONAS</td><td>91530</td><td>PUERTO ALEGRÍA (Cor. Departamental)           </td><td></td><td></td><td>212.34</td><td>195</td><td>173  </td><td>174</td><td>⋯</td><td>102</td><td>85.79</td><td>140.03</td><td>139.38</td><td>111.49</td><td>118.96</td><td>61.45</td><td>72.76</td><td>103.39</td><td>65.97</td></tr>\n",
              "</tbody>\n",
              "</table>\n"
            ],
            "text/markdown": "\nA data.frame: 6 × 29\n\n| <!--/--> | CODDEPTO &lt;chr&gt; | DEPARTAMENTO &lt;chr&gt; | CODMPIO &lt;chr&gt; | MUNICIPIO &lt;chr&gt; | 1999 &lt;chr&gt; | 2000 &lt;chr&gt; | 2001 &lt;chr&gt; | 2002 &lt;chr&gt; | 2003 &lt;chr&gt; | 2004 &lt;chr&gt; | ⋯ ⋯ | 2014 &lt;chr&gt; | 2015 &lt;chr&gt; | 2016 &lt;chr&gt; | 2017 &lt;chr&gt; | 2018 &lt;chr&gt; | 2019 &lt;chr&gt; | 2020 &lt;chr&gt; | 2021 &lt;chr&gt; | 2022 &lt;chr&gt; | 2023 &lt;chr&gt; |\n|---|---|---|---|---|---|---|---|---|---|---|---|---|---|---|---|---|---|---|---|---|---|\n| 1 | 91 | AMAZONAS | 91263 | EL ENCANTO (Cor. Departamental)                | <!----> | <!----> | 191.82 | 264 | 164   | 270 | ⋯ | 20  | 11.77 | 12.65  | 8.04   | 4.12   | 2.52   | <!----> | <!----> | <!----> | <!----> |\n| 2 | 91 | AMAZONAS | 91405 | LA CHORRERA (Cor. Departamental)               | <!----> | <!----> | 65     | 236 | 209   | 271 | ⋯ | 51  | 13.61 | 14.09  | 18.2   | 6.04   | 3.16   | <!----> | <!----> | <!----> | <!----> |\n| 3 | 91 | AMAZONAS | 91407 | LA PEDRERA (Cor. Departamental)                | <!----> | <!----> | <!----> | <!----> | <!----> | <!----> | ⋯ | <!----> | <!----> | <!----> | <!----> | <!----> | <!----> | <!----> | <!----> | <!----> | <!----> |\n| 4 | 91 | AMAZONAS | 91430 | LA VICTORIA (Pacoa) (Cor. Departamental)       | <!----> | <!----> | <!----> | <!----> | <!----> | <!----> | ⋯ | <!----> | <!----> | <!----> | <!----> | <!----> | <!----> | <!----> | <!----> | <!----> | <!----> |\n| 5 | 91 | AMAZONAS | 91460 | MIRITÍ-PARANÁ (Campoamor) (Cor. Departamental) | <!----> | <!----> | 6      | 43  | 36.18 | 30  | ⋯ | <!----> | <!----> | <!----> | <!----> | <!----> | <!----> | <!----> | <!----> | <!----> | <!----> |\n| 6 | 91 | AMAZONAS | 91530 | PUERTO ALEGRÍA (Cor. Departamental)            | <!----> | <!----> | 212.34 | 195 | 173   | 174 | ⋯ | 102 | 85.79 | 140.03 | 139.38 | 111.49 | 118.96 | 61.45 | 72.76 | 103.39 | 65.97 |\n\n",
            "text/latex": "A data.frame: 6 × 29\n\\begin{tabular}{r|lllllllllllllllllllll}\n  & CODDEPTO & DEPARTAMENTO & CODMPIO & MUNICIPIO & 1999 & 2000 & 2001 & 2002 & 2003 & 2004 & ⋯ & 2014 & 2015 & 2016 & 2017 & 2018 & 2019 & 2020 & 2021 & 2022 & 2023\\\\\n  & <chr> & <chr> & <chr> & <chr> & <chr> & <chr> & <chr> & <chr> & <chr> & <chr> & ⋯ & <chr> & <chr> & <chr> & <chr> & <chr> & <chr> & <chr> & <chr> & <chr> & <chr>\\\\\n\\hline\n\t1 & 91 & AMAZONAS & 91263 & EL ENCANTO (Cor. Departamental)                &  &  & 191.82 & 264 & 164   & 270 & ⋯ & 20  & 11.77 & 12.65  & 8.04   & 4.12   & 2.52   &       &       &        &      \\\\\n\t2 & 91 & AMAZONAS & 91405 & LA CHORRERA (Cor. Departamental)               &  &  & 65     & 236 & 209   & 271 & ⋯ & 51  & 13.61 & 14.09  & 18.2   & 6.04   & 3.16   &       &       &        &      \\\\\n\t3 & 91 & AMAZONAS & 91407 & LA PEDRERA (Cor. Departamental)                &  &  &        &     &       &     & ⋯ &     &       &        &        &        &        &       &       &        &      \\\\\n\t4 & 91 & AMAZONAS & 91430 & LA VICTORIA (Pacoa) (Cor. Departamental)       &  &  &        &     &       &     & ⋯ &     &       &        &        &        &        &       &       &        &      \\\\\n\t5 & 91 & AMAZONAS & 91460 & MIRITÍ-PARANÁ (Campoamor) (Cor. Departamental) &  &  & 6      & 43  & 36.18 & 30  & ⋯ &     &       &        &        &        &        &       &       &        &      \\\\\n\t6 & 91 & AMAZONAS & 91530 & PUERTO ALEGRÍA (Cor. Departamental)            &  &  & 212.34 & 195 & 173   & 174 & ⋯ & 102 & 85.79 & 140.03 & 139.38 & 111.49 & 118.96 & 61.45 & 72.76 & 103.39 & 65.97\\\\\n\\end{tabular}\n"
          },
          "metadata": {}
        }
      ]
    },
    {
      "cell_type": "markdown",
      "source": [
        "Se utiliza un nuevo parámetro, el parámetro sheet, el cual recibe el nombre de la pestaña de una archivo excel a fin de importar dicha pestaña."
      ],
      "metadata": {
        "id": "BAVGVwew2Zd1"
      }
    },
    {
      "cell_type": "code",
      "source": [
        "table_gini <- read.xlsx(input_gini_t, sheet = \"Gini Municipal\", startRow = 4)\n",
        "\n",
        "View(head(table_gini))"
      ],
      "metadata": {
        "id": "zmXWWaasV5bT",
        "colab": {
          "base_uri": "https://localhost:8080/",
          "height": 306
        },
        "outputId": "ce416e0f-eae1-4c94-9763-19bac11a93de"
      },
      "execution_count": null,
      "outputs": [
        {
          "output_type": "display_data",
          "data": {
            "text/plain": [
              "  CÓDIGO.DEPARTAMENTO DEPARTAMENTO CÓDIGO.MUNICIPIO MUNICIPIO  PREDIOS\n",
              "1 05                  ANTIOQUIA    05002            ABEJORRAL  6923   \n",
              "2 05                  ANTIOQUIA    05004            ABRIAQUÍ    671   \n",
              "3 05                  ANTIOQUIA    05021            ALEJANDRÍA 1318   \n",
              "4 05                  ANTIOQUIA    05030            AMAGÁ      4034   \n",
              "5 05                  ANTIOQUIA    05031            AMALFI     2739   \n",
              "6 05                  ANTIOQUIA    05034            ANDES      6653   \n",
              "  PROPIETARIOS ÁREA.DE.TERRENO.Ha GINI      DISPARIDAD.SUPERIOR PREDIOS\n",
              "1 6649         49342.531          0.7204944 5.885660            6626   \n",
              "2  759         28843.172          0.7168624 5.833670              70   \n",
              "3 1333         11856.432          0.6914164 5.758229            1262   \n",
              "4 4406          6841.981          0.8733692 8.069152            2846   \n",
              "5 3149         97150.453          0.7356233 6.123068            2498   \n",
              "6 6791         26553.727          0.7878380 6.968936            6361   \n",
              "  PROPIETARIOS ÁREA.DE.TERRENO.Ha GINI      DISPARIDAD.SUPERIOR PREDIOS\n",
              "1 6423         48009.58           0.7193563 5.878156            6264   \n",
              "2  101          4696.32           0.6356558 4.232261              70   \n",
              "3 1280         11558.54           0.6939004 5.836089            1110   \n",
              "4 3053          6297.12           0.8382175 7.615653            2125   \n",
              "5 2923         87355.46           0.7358366 6.126120            2175   \n",
              "6 6509         24317.67           0.7713518 6.752471            5697   \n",
              "  PROPIETARIOS ÁREA.DE.TERRENO.Ha GINI      DISPARIDAD.SUPERIOR\n",
              "1 6127         47814.826          0.7068689 5.775364           \n",
              "2  101          4696.320          0.6356558 4.232261           \n",
              "3 1223          8696.652          0.5907120 4.506474           \n",
              "4 2355          5822.769          0.8189741 7.431878           \n",
              "5 2629         85536.217          0.7123749 5.921797           \n",
              "6 5959         23963.834          0.7596878 6.658301           "
            ],
            "text/html": [
              "<table class=\"dataframe\">\n",
              "<caption>A data.frame: 6 × 19</caption>\n",
              "<thead>\n",
              "\t<tr><th></th><th scope=col>CÓDIGO.DEPARTAMENTO</th><th scope=col>DEPARTAMENTO</th><th scope=col>CÓDIGO.MUNICIPIO</th><th scope=col>MUNICIPIO</th><th scope=col>PREDIOS</th><th scope=col>PROPIETARIOS</th><th scope=col>ÁREA.DE.TERRENO.Ha</th><th scope=col>GINI</th><th scope=col>DISPARIDAD.SUPERIOR</th><th scope=col>PREDIOS</th><th scope=col>PROPIETARIOS</th><th scope=col>ÁREA.DE.TERRENO.Ha</th><th scope=col>GINI</th><th scope=col>DISPARIDAD.SUPERIOR</th><th scope=col>PREDIOS</th><th scope=col>PROPIETARIOS</th><th scope=col>ÁREA.DE.TERRENO.Ha</th><th scope=col>GINI</th><th scope=col>DISPARIDAD.SUPERIOR</th></tr>\n",
              "\t<tr><th></th><th scope=col>&lt;chr&gt;</th><th scope=col>&lt;chr&gt;</th><th scope=col>&lt;chr&gt;</th><th scope=col>&lt;chr&gt;</th><th scope=col>&lt;dbl&gt;</th><th scope=col>&lt;dbl&gt;</th><th scope=col>&lt;dbl&gt;</th><th scope=col>&lt;dbl&gt;</th><th scope=col>&lt;dbl&gt;</th><th scope=col>&lt;dbl&gt;</th><th scope=col>&lt;dbl&gt;</th><th scope=col>&lt;dbl&gt;</th><th scope=col>&lt;dbl&gt;</th><th scope=col>&lt;dbl&gt;</th><th scope=col>&lt;dbl&gt;</th><th scope=col>&lt;dbl&gt;</th><th scope=col>&lt;dbl&gt;</th><th scope=col>&lt;dbl&gt;</th><th scope=col>&lt;dbl&gt;</th></tr>\n",
              "</thead>\n",
              "<tbody>\n",
              "\t<tr><th scope=row>1</th><td>05</td><td>ANTIOQUIA</td><td>05002</td><td>ABEJORRAL </td><td>6923</td><td>6649</td><td>49342.531</td><td>0.7204944</td><td>5.885660</td><td>6626</td><td>6423</td><td>48009.58</td><td>0.7193563</td><td>5.878156</td><td>6264</td><td>6127</td><td>47814.826</td><td>0.7068689</td><td>5.775364</td></tr>\n",
              "\t<tr><th scope=row>2</th><td>05</td><td>ANTIOQUIA</td><td>05004</td><td>ABRIAQUÍ  </td><td> 671</td><td> 759</td><td>28843.172</td><td>0.7168624</td><td>5.833670</td><td>  70</td><td> 101</td><td> 4696.32</td><td>0.6356558</td><td>4.232261</td><td>  70</td><td> 101</td><td> 4696.320</td><td>0.6356558</td><td>4.232261</td></tr>\n",
              "\t<tr><th scope=row>3</th><td>05</td><td>ANTIOQUIA</td><td>05021</td><td>ALEJANDRÍA</td><td>1318</td><td>1333</td><td>11856.432</td><td>0.6914164</td><td>5.758229</td><td>1262</td><td>1280</td><td>11558.54</td><td>0.6939004</td><td>5.836089</td><td>1110</td><td>1223</td><td> 8696.652</td><td>0.5907120</td><td>4.506474</td></tr>\n",
              "\t<tr><th scope=row>4</th><td>05</td><td>ANTIOQUIA</td><td>05030</td><td>AMAGÁ     </td><td>4034</td><td>4406</td><td> 6841.981</td><td>0.8733692</td><td>8.069152</td><td>2846</td><td>3053</td><td> 6297.12</td><td>0.8382175</td><td>7.615653</td><td>2125</td><td>2355</td><td> 5822.769</td><td>0.8189741</td><td>7.431878</td></tr>\n",
              "\t<tr><th scope=row>5</th><td>05</td><td>ANTIOQUIA</td><td>05031</td><td>AMALFI    </td><td>2739</td><td>3149</td><td>97150.453</td><td>0.7356233</td><td>6.123068</td><td>2498</td><td>2923</td><td>87355.46</td><td>0.7358366</td><td>6.126120</td><td>2175</td><td>2629</td><td>85536.217</td><td>0.7123749</td><td>5.921797</td></tr>\n",
              "\t<tr><th scope=row>6</th><td>05</td><td>ANTIOQUIA</td><td>05034</td><td>ANDES     </td><td>6653</td><td>6791</td><td>26553.727</td><td>0.7878380</td><td>6.968936</td><td>6361</td><td>6509</td><td>24317.67</td><td>0.7713518</td><td>6.752471</td><td>5697</td><td>5959</td><td>23963.834</td><td>0.7596878</td><td>6.658301</td></tr>\n",
              "</tbody>\n",
              "</table>\n"
            ],
            "text/markdown": "\nA data.frame: 6 × 19\n\n| <!--/--> | CÓDIGO.DEPARTAMENTO &lt;chr&gt; | DEPARTAMENTO &lt;chr&gt; | CÓDIGO.MUNICIPIO &lt;chr&gt; | MUNICIPIO &lt;chr&gt; | PREDIOS &lt;dbl&gt; | PROPIETARIOS &lt;dbl&gt; | ÁREA.DE.TERRENO.Ha &lt;dbl&gt; | GINI &lt;dbl&gt; | DISPARIDAD.SUPERIOR &lt;dbl&gt; | PREDIOS &lt;dbl&gt; | PROPIETARIOS &lt;dbl&gt; | ÁREA.DE.TERRENO.Ha &lt;dbl&gt; | GINI &lt;dbl&gt; | DISPARIDAD.SUPERIOR &lt;dbl&gt; | PREDIOS &lt;dbl&gt; | PROPIETARIOS &lt;dbl&gt; | ÁREA.DE.TERRENO.Ha &lt;dbl&gt; | GINI &lt;dbl&gt; | DISPARIDAD.SUPERIOR &lt;dbl&gt; |\n|---|---|---|---|---|---|---|---|---|---|---|---|---|---|---|---|---|---|---|---|\n| 1 | 05 | ANTIOQUIA | 05002 | ABEJORRAL  | 6923 | 6649 | 49342.531 | 0.7204944 | 5.885660 | 6626 | 6423 | 48009.58 | 0.7193563 | 5.878156 | 6264 | 6127 | 47814.826 | 0.7068689 | 5.775364 |\n| 2 | 05 | ANTIOQUIA | 05004 | ABRIAQUÍ   |  671 |  759 | 28843.172 | 0.7168624 | 5.833670 |   70 |  101 |  4696.32 | 0.6356558 | 4.232261 |   70 |  101 |  4696.320 | 0.6356558 | 4.232261 |\n| 3 | 05 | ANTIOQUIA | 05021 | ALEJANDRÍA | 1318 | 1333 | 11856.432 | 0.6914164 | 5.758229 | 1262 | 1280 | 11558.54 | 0.6939004 | 5.836089 | 1110 | 1223 |  8696.652 | 0.5907120 | 4.506474 |\n| 4 | 05 | ANTIOQUIA | 05030 | AMAGÁ      | 4034 | 4406 |  6841.981 | 0.8733692 | 8.069152 | 2846 | 3053 |  6297.12 | 0.8382175 | 7.615653 | 2125 | 2355 |  5822.769 | 0.8189741 | 7.431878 |\n| 5 | 05 | ANTIOQUIA | 05031 | AMALFI     | 2739 | 3149 | 97150.453 | 0.7356233 | 6.123068 | 2498 | 2923 | 87355.46 | 0.7358366 | 6.126120 | 2175 | 2629 | 85536.217 | 0.7123749 | 5.921797 |\n| 6 | 05 | ANTIOQUIA | 05034 | ANDES      | 6653 | 6791 | 26553.727 | 0.7878380 | 6.968936 | 6361 | 6509 | 24317.67 | 0.7713518 | 6.752471 | 5697 | 5959 | 23963.834 | 0.7596878 | 6.658301 |\n\n",
            "text/latex": "A data.frame: 6 × 19\n\\begin{tabular}{r|lllllllllllllllllll}\n  & CÓDIGO.DEPARTAMENTO & DEPARTAMENTO & CÓDIGO.MUNICIPIO & MUNICIPIO & PREDIOS & PROPIETARIOS & ÁREA.DE.TERRENO.Ha & GINI & DISPARIDAD.SUPERIOR & PREDIOS & PROPIETARIOS & ÁREA.DE.TERRENO.Ha & GINI & DISPARIDAD.SUPERIOR & PREDIOS & PROPIETARIOS & ÁREA.DE.TERRENO.Ha & GINI & DISPARIDAD.SUPERIOR\\\\\n  & <chr> & <chr> & <chr> & <chr> & <dbl> & <dbl> & <dbl> & <dbl> & <dbl> & <dbl> & <dbl> & <dbl> & <dbl> & <dbl> & <dbl> & <dbl> & <dbl> & <dbl> & <dbl>\\\\\n\\hline\n\t1 & 05 & ANTIOQUIA & 05002 & ABEJORRAL  & 6923 & 6649 & 49342.531 & 0.7204944 & 5.885660 & 6626 & 6423 & 48009.58 & 0.7193563 & 5.878156 & 6264 & 6127 & 47814.826 & 0.7068689 & 5.775364\\\\\n\t2 & 05 & ANTIOQUIA & 05004 & ABRIAQUÍ   &  671 &  759 & 28843.172 & 0.7168624 & 5.833670 &   70 &  101 &  4696.32 & 0.6356558 & 4.232261 &   70 &  101 &  4696.320 & 0.6356558 & 4.232261\\\\\n\t3 & 05 & ANTIOQUIA & 05021 & ALEJANDRÍA & 1318 & 1333 & 11856.432 & 0.6914164 & 5.758229 & 1262 & 1280 & 11558.54 & 0.6939004 & 5.836089 & 1110 & 1223 &  8696.652 & 0.5907120 & 4.506474\\\\\n\t4 & 05 & ANTIOQUIA & 05030 & AMAGÁ      & 4034 & 4406 &  6841.981 & 0.8733692 & 8.069152 & 2846 & 3053 &  6297.12 & 0.8382175 & 7.615653 & 2125 & 2355 &  5822.769 & 0.8189741 & 7.431878\\\\\n\t5 & 05 & ANTIOQUIA & 05031 & AMALFI     & 2739 & 3149 & 97150.453 & 0.7356233 & 6.123068 & 2498 & 2923 & 87355.46 & 0.7358366 & 6.126120 & 2175 & 2629 & 85536.217 & 0.7123749 & 5.921797\\\\\n\t6 & 05 & ANTIOQUIA & 05034 & ANDES      & 6653 & 6791 & 26553.727 & 0.7878380 & 6.968936 & 6361 & 6509 & 24317.67 & 0.7713518 & 6.752471 & 5697 & 5959 & 23963.834 & 0.7596878 & 6.658301\\\\\n\\end{tabular}\n"
          },
          "metadata": {}
        }
      ]
    },
    {
      "cell_type": "markdown",
      "source": [
        "## Export\n",
        "\n",
        "En la presente sección se busca ahora exportar la información desde R a otras múltiples arquitecturas de información. Algunas de las funciones recomendadas son:\n",
        "\n",
        "\n",
        "\n",
        "*   write_parquet() de la librería arrow, recibe el nombre del objeto a exportar y la ruta en la que se almacenaría (ruta de destino) del objeto.\n",
        "*   write_csv() de la librería stringr, recibe el nombre del objeto a exportar y la ruta en la que se almacenaría (ruta de destino) del objeto.\n",
        "*   write_xlsx() de la librería writexl,recibe el nombre del objeto a exportar y la ruta en la que se almacenaría (ruta de destino) del objeto.\n",
        "\n"
      ],
      "metadata": {
        "id": "nVjPFpt38AqA"
      }
    },
    {
      "cell_type": "markdown",
      "source": [
        "Antes de continar es necesario importar la librería dplyr. Esta libería incluye un amplio conjunto de funciones eficientes para el manejo de datos. Asimismo, nos permite encadenar funciones sin requerir llamar múltiples veces al nombre del dataframe por medio del operador pipe el cual se escribe %>%.\n",
        "\n",
        "nombre_dataframe %>% funcion(nombre_columna)\n",
        "\n",
        "En el caso anterior, aplicamos una función a una columna determinada. Ahora aplicaremos múltiples funciones.\n",
        "\n",
        "nombre_dataframe %>% funcion1(nombre_columna_1) %>% funcion2(nombre_columa2)\n",
        "\n",
        "En caso de no colocar ninguna columna entre los paréntesis de la función, la función se aplicará sobre todo el dataframe, así:\n",
        "\n",
        "nombre_dataframe %>% funcion()\n",
        "\n",
        "En caso de que se quiera crear un nuevo dataframe que quiera almacenar el nuevo resultado, se debe utilizar el operador de asignación.\n",
        "\n",
        "nombre_df_nuevo <- nombre_dataframe %>% funcion_1(nombre_columna_1) %>% funcion_2(nombre_columna_2)\n",
        "\n",
        "En las siguiente celdas se procede a reducir los dataframes cargados previamente a sus primeras 6 filas."
      ],
      "metadata": {
        "id": "Cke3GQmo4Q3b"
      }
    },
    {
      "cell_type": "code",
      "source": [
        "# Descargar, instalar y cargar dplyr\n",
        "\n",
        "pacman::p_load(dplyr)"
      ],
      "metadata": {
        "id": "KvNR3LjvH01n"
      },
      "execution_count": null,
      "outputs": []
    },
    {
      "cell_type": "code",
      "source": [
        "output_pnis <- \"drive_sebas/carpeta_salida/pnis.parquet\"\n",
        "\n",
        "output_hogares <- \"drive_sebas/carpeta_salida/s15h_hogares.csv\"\n",
        "\n",
        "output_ins_viol <- \"drive_sebas/carpeta_salida/ins_viol.xlsx\"\n",
        "\n",
        "output_censo <- \"drive_sebas/carpeta_salida/censo_agro_vars.ods\""
      ],
      "metadata": {
        "id": "eBizK4iG6Xux"
      },
      "execution_count": null,
      "outputs": []
    },
    {
      "cell_type": "code",
      "source": [
        "table_pnis <- table_pnis %>%\n",
        "  head(10)\n",
        "\n",
        "View(table_pnis)"
      ],
      "metadata": {
        "id": "0RxC6UgFIogx",
        "colab": {
          "base_uri": "https://localhost:8080/",
          "height": 796
        },
        "outputId": "65cd11b1-9cf5-4d34-8b1e-bb25733a3678"
      },
      "execution_count": null,
      "outputs": [
        {
          "output_type": "display_data",
          "data": {
            "text/plain": [
              "   ID F0          P93          P1_EXACTA P1_1_RANGO         P2       \n",
              "1   1 Puerto asís Recolector/a 70        Más de 67 años     Masculino\n",
              "2   2 Puerto asís Recolector/a 39        Entre 36 – 45 años Masculino\n",
              "3   3 Puerto asís Recolector/a 42        Entre 36 – 45 años Masculino\n",
              "4   4 Puerto asís Recolector/a 24        Entre 18 – 25 años Masculino\n",
              "5   5 Tumaco      Recolector/a 32        Entre 26 – 35 años Femenino \n",
              "6   6 Puerto asís Recolector/a 34        Entre 26 – 35 años Masculino\n",
              "7   7 Puerto asís Recolector/a 70        Más de 67 años     Masculino\n",
              "8   8 Puerto asís Recolector/a 36        Entre 36 – 45 años Masculino\n",
              "9   9 Puerto asís Recolector/a 21        Entre 18 – 25 años Masculino\n",
              "10 10 Puerto asís Recolector/a 43        Entre 36 – 45 años Femenino \n",
              "   P4                                                       P5 P6_MUNICIPIO    \n",
              "1  Indígena                                                 Sí El Encanto      \n",
              "2  Blanco o Mestizo                                         Sí Leguizamo       \n",
              "3  Blanco o Mestizo                                         Sí Puerto Asís     \n",
              "4  Blanco o Mestizo                                         Sí Puerto Asís     \n",
              "5  Negro(a), mulato(a), afrocolombiano(a), afrodescendiente Sí Tumaco          \n",
              "6  Blanco o Mestizo                                         Sí Pitalito        \n",
              "7  Blanco o Mestizo                                         Sí Policarpa       \n",
              "8  Blanco o Mestizo                                         Sí Puerto Asís     \n",
              "9  Blanco o Mestizo                                         Sí Puerto Asís     \n",
              "10 Blanco o Mestizo                                         Sí La Hormiga Narño\n",
              "   P6_DEPARTAMENTO ⋯ P192_NINGUNO P194_FISICAMENTE P194_AMENAZADO P194_AGREDIDO\n",
              "1  Amazonas        ⋯ Ninguno      NA               NA             NA           \n",
              "2  Putumayo        ⋯ Ninguno      NA               NA             NA           \n",
              "3  Putumayo        ⋯ Ninguno      NA               NA             NA           \n",
              "4  Putumayo        ⋯ Ninguno      NA               NA             NA           \n",
              "5  Nariño          ⋯ Ninguno      NA               NA             NA           \n",
              "6  Huila           ⋯ Ninguno      NA               NA             NA           \n",
              "7  Nariño          ⋯ Ninguno      NA               NA             NA           \n",
              "8  Putumayo        ⋯ Ninguno      NA               NA             NA           \n",
              "9  Putumayo        ⋯ Ninguno      NA               NA             NA           \n",
              "10 Putumayo        ⋯ Ninguno      NA               NA             NA           \n",
              "   P194_ESTIGMATIZACION P194_VIOLENCIA P194_ASESINADO\n",
              "1  NA                   NA             NA            \n",
              "2  NA                   NA             NA            \n",
              "3  NA                   NA             NA            \n",
              "4  NA                   NA             NA            \n",
              "5  NA                   NA             NA            \n",
              "6  NA                   NA             NA            \n",
              "7  NA                   NA             NA            \n",
              "8  NA                   NA             NA            \n",
              "9  NA                   NA             NA            \n",
              "10 NA                   NA             NA            \n",
              "   P194_NINGUNO                      GRUPO FACTOR     \n",
              "1  No he sido testigo de ningún caso 4     0.002335060\n",
              "2  No he sido testigo de ningún caso 1     0.001530465\n",
              "3  No he sido testigo de ningún caso 3     0.001371111\n",
              "4  No he sido testigo de ningún caso 2     0.001019736\n",
              "5  No he sido testigo de ningún caso 1     0.003719592\n",
              "6  No he sido testigo de ningún caso 1     0.001530465\n",
              "7  No he sido testigo de ningún caso 2     0.001019736\n",
              "8  No he sido testigo de ningún caso 1     0.001530465\n",
              "9  No he sido testigo de ningún caso 2     0.001019736\n",
              "10 No he sido testigo de ningún caso 1     0.001530465"
            ],
            "text/html": [
              "<table class=\"dataframe\">\n",
              "<caption>A data.frame: 10 × 640</caption>\n",
              "<thead>\n",
              "\t<tr><th></th><th scope=col>ID</th><th scope=col>F0</th><th scope=col>P93</th><th scope=col>P1_EXACTA</th><th scope=col>P1_1_RANGO</th><th scope=col>P2</th><th scope=col>P4</th><th scope=col>P5</th><th scope=col>P6_MUNICIPIO</th><th scope=col>P6_DEPARTAMENTO</th><th scope=col>⋯</th><th scope=col>P192_NINGUNO</th><th scope=col>P194_FISICAMENTE</th><th scope=col>P194_AMENAZADO</th><th scope=col>P194_AGREDIDO</th><th scope=col>P194_ESTIGMATIZACION</th><th scope=col>P194_VIOLENCIA</th><th scope=col>P194_ASESINADO</th><th scope=col>P194_NINGUNO</th><th scope=col>GRUPO</th><th scope=col>FACTOR</th></tr>\n",
              "\t<tr><th></th><th scope=col>&lt;dbl&gt;</th><th scope=col>&lt;chr&gt;</th><th scope=col>&lt;chr&gt;</th><th scope=col>&lt;dbl&gt;</th><th scope=col>&lt;chr&gt;</th><th scope=col>&lt;chr&gt;</th><th scope=col>&lt;chr&gt;</th><th scope=col>&lt;chr&gt;</th><th scope=col>&lt;chr&gt;</th><th scope=col>&lt;chr&gt;</th><th scope=col>⋯</th><th scope=col>&lt;chr&gt;</th><th scope=col>&lt;chr&gt;</th><th scope=col>&lt;chr&gt;</th><th scope=col>&lt;chr&gt;</th><th scope=col>&lt;chr&gt;</th><th scope=col>&lt;dbl&gt;</th><th scope=col>&lt;chr&gt;</th><th scope=col>&lt;chr&gt;</th><th scope=col>&lt;dbl&gt;</th><th scope=col>&lt;dbl&gt;</th></tr>\n",
              "</thead>\n",
              "<tbody>\n",
              "\t<tr><th scope=row>1</th><td> 1</td><td>Puerto asís</td><td>Recolector/a</td><td>70</td><td>Más de 67 años    </td><td>Masculino</td><td>Indígena                                                </td><td>Sí</td><td>El Encanto      </td><td>Amazonas</td><td>⋯</td><td>Ninguno</td><td>NA</td><td>NA</td><td>NA</td><td>NA</td><td>NA</td><td>NA</td><td>No he sido testigo de ningún caso</td><td>4</td><td>0.002335060</td></tr>\n",
              "\t<tr><th scope=row>2</th><td> 2</td><td>Puerto asís</td><td>Recolector/a</td><td>39</td><td>Entre 36 – 45 años</td><td>Masculino</td><td>Blanco o Mestizo                                        </td><td>Sí</td><td>Leguizamo       </td><td>Putumayo</td><td>⋯</td><td>Ninguno</td><td>NA</td><td>NA</td><td>NA</td><td>NA</td><td>NA</td><td>NA</td><td>No he sido testigo de ningún caso</td><td>1</td><td>0.001530465</td></tr>\n",
              "\t<tr><th scope=row>3</th><td> 3</td><td>Puerto asís</td><td>Recolector/a</td><td>42</td><td>Entre 36 – 45 años</td><td>Masculino</td><td>Blanco o Mestizo                                        </td><td>Sí</td><td>Puerto Asís     </td><td>Putumayo</td><td>⋯</td><td>Ninguno</td><td>NA</td><td>NA</td><td>NA</td><td>NA</td><td>NA</td><td>NA</td><td>No he sido testigo de ningún caso</td><td>3</td><td>0.001371111</td></tr>\n",
              "\t<tr><th scope=row>4</th><td> 4</td><td>Puerto asís</td><td>Recolector/a</td><td>24</td><td>Entre 18 – 25 años</td><td>Masculino</td><td>Blanco o Mestizo                                        </td><td>Sí</td><td>Puerto Asís     </td><td>Putumayo</td><td>⋯</td><td>Ninguno</td><td>NA</td><td>NA</td><td>NA</td><td>NA</td><td>NA</td><td>NA</td><td>No he sido testigo de ningún caso</td><td>2</td><td>0.001019736</td></tr>\n",
              "\t<tr><th scope=row>5</th><td> 5</td><td>Tumaco     </td><td>Recolector/a</td><td>32</td><td>Entre 26 – 35 años</td><td>Femenino </td><td>Negro(a), mulato(a), afrocolombiano(a), afrodescendiente</td><td>Sí</td><td>Tumaco          </td><td>Nariño  </td><td>⋯</td><td>Ninguno</td><td>NA</td><td>NA</td><td>NA</td><td>NA</td><td>NA</td><td>NA</td><td>No he sido testigo de ningún caso</td><td>1</td><td>0.003719592</td></tr>\n",
              "\t<tr><th scope=row>6</th><td> 6</td><td>Puerto asís</td><td>Recolector/a</td><td>34</td><td>Entre 26 – 35 años</td><td>Masculino</td><td>Blanco o Mestizo                                        </td><td>Sí</td><td>Pitalito        </td><td>Huila   </td><td>⋯</td><td>Ninguno</td><td>NA</td><td>NA</td><td>NA</td><td>NA</td><td>NA</td><td>NA</td><td>No he sido testigo de ningún caso</td><td>1</td><td>0.001530465</td></tr>\n",
              "\t<tr><th scope=row>7</th><td> 7</td><td>Puerto asís</td><td>Recolector/a</td><td>70</td><td>Más de 67 años    </td><td>Masculino</td><td>Blanco o Mestizo                                        </td><td>Sí</td><td>Policarpa       </td><td>Nariño  </td><td>⋯</td><td>Ninguno</td><td>NA</td><td>NA</td><td>NA</td><td>NA</td><td>NA</td><td>NA</td><td>No he sido testigo de ningún caso</td><td>2</td><td>0.001019736</td></tr>\n",
              "\t<tr><th scope=row>8</th><td> 8</td><td>Puerto asís</td><td>Recolector/a</td><td>36</td><td>Entre 36 – 45 años</td><td>Masculino</td><td>Blanco o Mestizo                                        </td><td>Sí</td><td>Puerto Asís     </td><td>Putumayo</td><td>⋯</td><td>Ninguno</td><td>NA</td><td>NA</td><td>NA</td><td>NA</td><td>NA</td><td>NA</td><td>No he sido testigo de ningún caso</td><td>1</td><td>0.001530465</td></tr>\n",
              "\t<tr><th scope=row>9</th><td> 9</td><td>Puerto asís</td><td>Recolector/a</td><td>21</td><td>Entre 18 – 25 años</td><td>Masculino</td><td>Blanco o Mestizo                                        </td><td>Sí</td><td>Puerto Asís     </td><td>Putumayo</td><td>⋯</td><td>Ninguno</td><td>NA</td><td>NA</td><td>NA</td><td>NA</td><td>NA</td><td>NA</td><td>No he sido testigo de ningún caso</td><td>2</td><td>0.001019736</td></tr>\n",
              "\t<tr><th scope=row>10</th><td>10</td><td>Puerto asís</td><td>Recolector/a</td><td>43</td><td>Entre 36 – 45 años</td><td>Femenino </td><td>Blanco o Mestizo                                        </td><td>Sí</td><td>La Hormiga Narño</td><td>Putumayo</td><td>⋯</td><td>Ninguno</td><td>NA</td><td>NA</td><td>NA</td><td>NA</td><td>NA</td><td>NA</td><td>No he sido testigo de ningún caso</td><td>1</td><td>0.001530465</td></tr>\n",
              "</tbody>\n",
              "</table>\n"
            ],
            "text/markdown": "\nA data.frame: 10 × 640\n\n| <!--/--> | ID &lt;dbl&gt; | F0 &lt;chr&gt; | P93 &lt;chr&gt; | P1_EXACTA &lt;dbl&gt; | P1_1_RANGO &lt;chr&gt; | P2 &lt;chr&gt; | P4 &lt;chr&gt; | P5 &lt;chr&gt; | P6_MUNICIPIO &lt;chr&gt; | P6_DEPARTAMENTO &lt;chr&gt; | ⋯ ⋯ | P192_NINGUNO &lt;chr&gt; | P194_FISICAMENTE &lt;chr&gt; | P194_AMENAZADO &lt;chr&gt; | P194_AGREDIDO &lt;chr&gt; | P194_ESTIGMATIZACION &lt;chr&gt; | P194_VIOLENCIA &lt;dbl&gt; | P194_ASESINADO &lt;chr&gt; | P194_NINGUNO &lt;chr&gt; | GRUPO &lt;dbl&gt; | FACTOR &lt;dbl&gt; |\n|---|---|---|---|---|---|---|---|---|---|---|---|---|---|---|---|---|---|---|---|---|---|\n| 1 |  1 | Puerto asís | Recolector/a | 70 | Más de 67 años     | Masculino | Indígena                                                 | Sí | El Encanto       | Amazonas | ⋯ | Ninguno | NA | NA | NA | NA | NA | NA | No he sido testigo de ningún caso | 4 | 0.002335060 |\n| 2 |  2 | Puerto asís | Recolector/a | 39 | Entre 36 – 45 años | Masculino | Blanco o Mestizo                                         | Sí | Leguizamo        | Putumayo | ⋯ | Ninguno | NA | NA | NA | NA | NA | NA | No he sido testigo de ningún caso | 1 | 0.001530465 |\n| 3 |  3 | Puerto asís | Recolector/a | 42 | Entre 36 – 45 años | Masculino | Blanco o Mestizo                                         | Sí | Puerto Asís      | Putumayo | ⋯ | Ninguno | NA | NA | NA | NA | NA | NA | No he sido testigo de ningún caso | 3 | 0.001371111 |\n| 4 |  4 | Puerto asís | Recolector/a | 24 | Entre 18 – 25 años | Masculino | Blanco o Mestizo                                         | Sí | Puerto Asís      | Putumayo | ⋯ | Ninguno | NA | NA | NA | NA | NA | NA | No he sido testigo de ningún caso | 2 | 0.001019736 |\n| 5 |  5 | Tumaco      | Recolector/a | 32 | Entre 26 – 35 años | Femenino  | Negro(a), mulato(a), afrocolombiano(a), afrodescendiente | Sí | Tumaco           | Nariño   | ⋯ | Ninguno | NA | NA | NA | NA | NA | NA | No he sido testigo de ningún caso | 1 | 0.003719592 |\n| 6 |  6 | Puerto asís | Recolector/a | 34 | Entre 26 – 35 años | Masculino | Blanco o Mestizo                                         | Sí | Pitalito         | Huila    | ⋯ | Ninguno | NA | NA | NA | NA | NA | NA | No he sido testigo de ningún caso | 1 | 0.001530465 |\n| 7 |  7 | Puerto asís | Recolector/a | 70 | Más de 67 años     | Masculino | Blanco o Mestizo                                         | Sí | Policarpa        | Nariño   | ⋯ | Ninguno | NA | NA | NA | NA | NA | NA | No he sido testigo de ningún caso | 2 | 0.001019736 |\n| 8 |  8 | Puerto asís | Recolector/a | 36 | Entre 36 – 45 años | Masculino | Blanco o Mestizo                                         | Sí | Puerto Asís      | Putumayo | ⋯ | Ninguno | NA | NA | NA | NA | NA | NA | No he sido testigo de ningún caso | 1 | 0.001530465 |\n| 9 |  9 | Puerto asís | Recolector/a | 21 | Entre 18 – 25 años | Masculino | Blanco o Mestizo                                         | Sí | Puerto Asís      | Putumayo | ⋯ | Ninguno | NA | NA | NA | NA | NA | NA | No he sido testigo de ningún caso | 2 | 0.001019736 |\n| 10 | 10 | Puerto asís | Recolector/a | 43 | Entre 36 – 45 años | Femenino  | Blanco o Mestizo                                         | Sí | La Hormiga Narño | Putumayo | ⋯ | Ninguno | NA | NA | NA | NA | NA | NA | No he sido testigo de ningún caso | 1 | 0.001530465 |\n\n",
            "text/latex": "A data.frame: 10 × 640\n\\begin{tabular}{r|lllllllllllllllllllll}\n  & ID & F0 & P93 & P1\\_EXACTA & P1\\_1\\_RANGO & P2 & P4 & P5 & P6\\_MUNICIPIO & P6\\_DEPARTAMENTO & ⋯ & P192\\_NINGUNO & P194\\_FISICAMENTE & P194\\_AMENAZADO & P194\\_AGREDIDO & P194\\_ESTIGMATIZACION & P194\\_VIOLENCIA & P194\\_ASESINADO & P194\\_NINGUNO & GRUPO & FACTOR\\\\\n  & <dbl> & <chr> & <chr> & <dbl> & <chr> & <chr> & <chr> & <chr> & <chr> & <chr> & ⋯ & <chr> & <chr> & <chr> & <chr> & <chr> & <dbl> & <chr> & <chr> & <dbl> & <dbl>\\\\\n\\hline\n\t1 &  1 & Puerto asís & Recolector/a & 70 & Más de 67 años     & Masculino & Indígena                                                 & Sí & El Encanto       & Amazonas & ⋯ & Ninguno & NA & NA & NA & NA & NA & NA & No he sido testigo de ningún caso & 4 & 0.002335060\\\\\n\t2 &  2 & Puerto asís & Recolector/a & 39 & Entre 36 – 45 años & Masculino & Blanco o Mestizo                                         & Sí & Leguizamo        & Putumayo & ⋯ & Ninguno & NA & NA & NA & NA & NA & NA & No he sido testigo de ningún caso & 1 & 0.001530465\\\\\n\t3 &  3 & Puerto asís & Recolector/a & 42 & Entre 36 – 45 años & Masculino & Blanco o Mestizo                                         & Sí & Puerto Asís      & Putumayo & ⋯ & Ninguno & NA & NA & NA & NA & NA & NA & No he sido testigo de ningún caso & 3 & 0.001371111\\\\\n\t4 &  4 & Puerto asís & Recolector/a & 24 & Entre 18 – 25 años & Masculino & Blanco o Mestizo                                         & Sí & Puerto Asís      & Putumayo & ⋯ & Ninguno & NA & NA & NA & NA & NA & NA & No he sido testigo de ningún caso & 2 & 0.001019736\\\\\n\t5 &  5 & Tumaco      & Recolector/a & 32 & Entre 26 – 35 años & Femenino  & Negro(a), mulato(a), afrocolombiano(a), afrodescendiente & Sí & Tumaco           & Nariño   & ⋯ & Ninguno & NA & NA & NA & NA & NA & NA & No he sido testigo de ningún caso & 1 & 0.003719592\\\\\n\t6 &  6 & Puerto asís & Recolector/a & 34 & Entre 26 – 35 años & Masculino & Blanco o Mestizo                                         & Sí & Pitalito         & Huila    & ⋯ & Ninguno & NA & NA & NA & NA & NA & NA & No he sido testigo de ningún caso & 1 & 0.001530465\\\\\n\t7 &  7 & Puerto asís & Recolector/a & 70 & Más de 67 años     & Masculino & Blanco o Mestizo                                         & Sí & Policarpa        & Nariño   & ⋯ & Ninguno & NA & NA & NA & NA & NA & NA & No he sido testigo de ningún caso & 2 & 0.001019736\\\\\n\t8 &  8 & Puerto asís & Recolector/a & 36 & Entre 36 – 45 años & Masculino & Blanco o Mestizo                                         & Sí & Puerto Asís      & Putumayo & ⋯ & Ninguno & NA & NA & NA & NA & NA & NA & No he sido testigo de ningún caso & 1 & 0.001530465\\\\\n\t9 &  9 & Puerto asís & Recolector/a & 21 & Entre 18 – 25 años & Masculino & Blanco o Mestizo                                         & Sí & Puerto Asís      & Putumayo & ⋯ & Ninguno & NA & NA & NA & NA & NA & NA & No he sido testigo de ningún caso & 2 & 0.001019736\\\\\n\t10 & 10 & Puerto asís & Recolector/a & 43 & Entre 36 – 45 años & Femenino  & Blanco o Mestizo                                         & Sí & La Hormiga Narño & Putumayo & ⋯ & Ninguno & NA & NA & NA & NA & NA & NA & No he sido testigo de ningún caso & 1 & 0.001530465\\\\\n\\end{tabular}\n"
          },
          "metadata": {}
        }
      ]
    },
    {
      "cell_type": "code",
      "source": [
        "table_hogares <- table_hogares %>%\n",
        "  head(12)\n",
        "\n",
        "View(table_hogares)"
      ],
      "metadata": {
        "id": "ape1Evb_IwJ-",
        "colab": {
          "base_uri": "https://localhost:8080/",
          "height": 494
        },
        "outputId": "191ebeb2-1f18-4efc-ee4c-a8006bf83fb6"
      },
      "execution_count": null,
      "outputs": [
        {
          "output_type": "display_data",
          "data": {
            "text/plain": [
              "   TIPO_REG PAIS P_DEPTO P_MUNIC UC_UO    ENCUESTA  COD_VEREDA ITER_HG\n",
              "1  N        170  05      05001   00010001 000157501 05001038   00101  \n",
              "2  N        170  05      05001   00010001 000158442 05360006   00101  \n",
              "3  N        170  05      05001   00010001 000158442 05360006   00201  \n",
              "4  N        170  05      05001   00010001 000160666 05001999   00101  \n",
              "5  N        170  05      05001   00010001 000161543 05001029   00101  \n",
              "6  N        170  05      05001   00010001 000162857 05001043   00101  \n",
              "7  N        170  05      05001   00010001 000439440 05266003   00101  \n",
              "8  N        170  05      05001   00010001 000445920 05001045   00101  \n",
              "9  N        170  05      05001   00010001 000449436 05001011   00101  \n",
              "10 N        170  05      05001   00010001 000449436 05001011   00201  \n",
              "11 N        170  05      05001   00010001 000449436 05001011   00301  \n",
              "12 N        170  05      05001   00010001 000449436 05001011   00401  \n",
              "   P_S15P165A P_S15P165B ⋯ P_S15P178 P_S15P179_SP1 P_S15P179A P_S15P179_SP2\n",
              "1  1          1          ⋯ 2         NA              NA       NA           \n",
              "2  1          1          ⋯ 3         NA              NA       NA           \n",
              "3  2          1          ⋯ 2          1            2002       NA           \n",
              "4  1          1          ⋯ 2         NA              NA       NA           \n",
              "5  1          1          ⋯ 3         NA              NA       NA           \n",
              "6  1          1          ⋯ 2         NA              NA       NA           \n",
              "7  1          1          ⋯ 2         NA              NA       NA           \n",
              "8  1          1          ⋯ 2         NA              NA       NA           \n",
              "9  1          1          ⋯ 3         NA              NA       NA           \n",
              "10 2          1          ⋯ 3         NA              NA       NA           \n",
              "11 3          1          ⋯ 1         NA              NA       NA           \n",
              "12 4          1          ⋯ 2         NA              NA       NA           \n",
              "   P_S15P179B P_S15P179_SP3 P_S15P179C P_S15P179_SP4 P_S15P180 TOT_PROD_HOGAR\n",
              "1  NA         NA            NA          1            NA        NA            \n",
              "2  NA         NA            NA          1            NA         1            \n",
              "3  NA         NA            NA         NA             2        NA            \n",
              "4  NA         NA            NA          1            NA        NA            \n",
              "5  NA         NA            NA          1            NA        NA            \n",
              "6  NA         NA            NA          1            NA         1            \n",
              "7  NA         NA            NA          1            NA        NA            \n",
              "8  NA         NA            NA          1            NA        NA            \n",
              "9  NA         NA            NA          1            NA        NA            \n",
              "10 NA         NA            NA          1            NA        NA            \n",
              "11 NA         NA            NA          1            NA        NA            \n",
              "12 NA         NA            NA          1            NA        NA            "
            ],
            "text/html": [
              "<table class=\"dataframe\">\n",
              "<caption>A tibble: 12 × 21</caption>\n",
              "<thead>\n",
              "\t<tr><th scope=col>TIPO_REG</th><th scope=col>PAIS</th><th scope=col>P_DEPTO</th><th scope=col>P_MUNIC</th><th scope=col>UC_UO</th><th scope=col>ENCUESTA</th><th scope=col>COD_VEREDA</th><th scope=col>ITER_HG</th><th scope=col>P_S15P165A</th><th scope=col>P_S15P165B</th><th scope=col>⋯</th><th scope=col>P_S15P178</th><th scope=col>P_S15P179_SP1</th><th scope=col>P_S15P179A</th><th scope=col>P_S15P179_SP2</th><th scope=col>P_S15P179B</th><th scope=col>P_S15P179_SP3</th><th scope=col>P_S15P179C</th><th scope=col>P_S15P179_SP4</th><th scope=col>P_S15P180</th><th scope=col>TOT_PROD_HOGAR</th></tr>\n",
              "\t<tr><th scope=col>&lt;chr&gt;</th><th scope=col>&lt;dbl&gt;</th><th scope=col>&lt;chr&gt;</th><th scope=col>&lt;chr&gt;</th><th scope=col>&lt;chr&gt;</th><th scope=col>&lt;chr&gt;</th><th scope=col>&lt;chr&gt;</th><th scope=col>&lt;chr&gt;</th><th scope=col>&lt;dbl&gt;</th><th scope=col>&lt;dbl&gt;</th><th scope=col>⋯</th><th scope=col>&lt;dbl&gt;</th><th scope=col>&lt;dbl&gt;</th><th scope=col>&lt;dbl&gt;</th><th scope=col>&lt;dbl&gt;</th><th scope=col>&lt;dbl&gt;</th><th scope=col>&lt;dbl&gt;</th><th scope=col>&lt;dbl&gt;</th><th scope=col>&lt;dbl&gt;</th><th scope=col>&lt;dbl&gt;</th><th scope=col>&lt;dbl&gt;</th></tr>\n",
              "</thead>\n",
              "<tbody>\n",
              "\t<tr><td>N</td><td>170</td><td>05</td><td>05001</td><td>00010001</td><td>000157501</td><td>05001038</td><td>00101</td><td>1</td><td>1</td><td>⋯</td><td>2</td><td>NA</td><td>  NA</td><td>NA</td><td>NA</td><td>NA</td><td>NA</td><td> 1</td><td>NA</td><td>NA</td></tr>\n",
              "\t<tr><td>N</td><td>170</td><td>05</td><td>05001</td><td>00010001</td><td>000158442</td><td>05360006</td><td>00101</td><td>1</td><td>1</td><td>⋯</td><td>3</td><td>NA</td><td>  NA</td><td>NA</td><td>NA</td><td>NA</td><td>NA</td><td> 1</td><td>NA</td><td> 1</td></tr>\n",
              "\t<tr><td>N</td><td>170</td><td>05</td><td>05001</td><td>00010001</td><td>000158442</td><td>05360006</td><td>00201</td><td>2</td><td>1</td><td>⋯</td><td>2</td><td> 1</td><td>2002</td><td>NA</td><td>NA</td><td>NA</td><td>NA</td><td>NA</td><td> 2</td><td>NA</td></tr>\n",
              "\t<tr><td>N</td><td>170</td><td>05</td><td>05001</td><td>00010001</td><td>000160666</td><td>05001999</td><td>00101</td><td>1</td><td>1</td><td>⋯</td><td>2</td><td>NA</td><td>  NA</td><td>NA</td><td>NA</td><td>NA</td><td>NA</td><td> 1</td><td>NA</td><td>NA</td></tr>\n",
              "\t<tr><td>N</td><td>170</td><td>05</td><td>05001</td><td>00010001</td><td>000161543</td><td>05001029</td><td>00101</td><td>1</td><td>1</td><td>⋯</td><td>3</td><td>NA</td><td>  NA</td><td>NA</td><td>NA</td><td>NA</td><td>NA</td><td> 1</td><td>NA</td><td>NA</td></tr>\n",
              "\t<tr><td>N</td><td>170</td><td>05</td><td>05001</td><td>00010001</td><td>000162857</td><td>05001043</td><td>00101</td><td>1</td><td>1</td><td>⋯</td><td>2</td><td>NA</td><td>  NA</td><td>NA</td><td>NA</td><td>NA</td><td>NA</td><td> 1</td><td>NA</td><td> 1</td></tr>\n",
              "\t<tr><td>N</td><td>170</td><td>05</td><td>05001</td><td>00010001</td><td>000439440</td><td>05266003</td><td>00101</td><td>1</td><td>1</td><td>⋯</td><td>2</td><td>NA</td><td>  NA</td><td>NA</td><td>NA</td><td>NA</td><td>NA</td><td> 1</td><td>NA</td><td>NA</td></tr>\n",
              "\t<tr><td>N</td><td>170</td><td>05</td><td>05001</td><td>00010001</td><td>000445920</td><td>05001045</td><td>00101</td><td>1</td><td>1</td><td>⋯</td><td>2</td><td>NA</td><td>  NA</td><td>NA</td><td>NA</td><td>NA</td><td>NA</td><td> 1</td><td>NA</td><td>NA</td></tr>\n",
              "\t<tr><td>N</td><td>170</td><td>05</td><td>05001</td><td>00010001</td><td>000449436</td><td>05001011</td><td>00101</td><td>1</td><td>1</td><td>⋯</td><td>3</td><td>NA</td><td>  NA</td><td>NA</td><td>NA</td><td>NA</td><td>NA</td><td> 1</td><td>NA</td><td>NA</td></tr>\n",
              "\t<tr><td>N</td><td>170</td><td>05</td><td>05001</td><td>00010001</td><td>000449436</td><td>05001011</td><td>00201</td><td>2</td><td>1</td><td>⋯</td><td>3</td><td>NA</td><td>  NA</td><td>NA</td><td>NA</td><td>NA</td><td>NA</td><td> 1</td><td>NA</td><td>NA</td></tr>\n",
              "\t<tr><td>N</td><td>170</td><td>05</td><td>05001</td><td>00010001</td><td>000449436</td><td>05001011</td><td>00301</td><td>3</td><td>1</td><td>⋯</td><td>1</td><td>NA</td><td>  NA</td><td>NA</td><td>NA</td><td>NA</td><td>NA</td><td> 1</td><td>NA</td><td>NA</td></tr>\n",
              "\t<tr><td>N</td><td>170</td><td>05</td><td>05001</td><td>00010001</td><td>000449436</td><td>05001011</td><td>00401</td><td>4</td><td>1</td><td>⋯</td><td>2</td><td>NA</td><td>  NA</td><td>NA</td><td>NA</td><td>NA</td><td>NA</td><td> 1</td><td>NA</td><td>NA</td></tr>\n",
              "</tbody>\n",
              "</table>\n"
            ],
            "text/markdown": "\nA tibble: 12 × 21\n\n| TIPO_REG &lt;chr&gt; | PAIS &lt;dbl&gt; | P_DEPTO &lt;chr&gt; | P_MUNIC &lt;chr&gt; | UC_UO &lt;chr&gt; | ENCUESTA &lt;chr&gt; | COD_VEREDA &lt;chr&gt; | ITER_HG &lt;chr&gt; | P_S15P165A &lt;dbl&gt; | P_S15P165B &lt;dbl&gt; | ⋯ ⋯ | P_S15P178 &lt;dbl&gt; | P_S15P179_SP1 &lt;dbl&gt; | P_S15P179A &lt;dbl&gt; | P_S15P179_SP2 &lt;dbl&gt; | P_S15P179B &lt;dbl&gt; | P_S15P179_SP3 &lt;dbl&gt; | P_S15P179C &lt;dbl&gt; | P_S15P179_SP4 &lt;dbl&gt; | P_S15P180 &lt;dbl&gt; | TOT_PROD_HOGAR &lt;dbl&gt; |\n|---|---|---|---|---|---|---|---|---|---|---|---|---|---|---|---|---|---|---|---|---|\n| N | 170 | 05 | 05001 | 00010001 | 000157501 | 05001038 | 00101 | 1 | 1 | ⋯ | 2 | NA |   NA | NA | NA | NA | NA |  1 | NA | NA |\n| N | 170 | 05 | 05001 | 00010001 | 000158442 | 05360006 | 00101 | 1 | 1 | ⋯ | 3 | NA |   NA | NA | NA | NA | NA |  1 | NA |  1 |\n| N | 170 | 05 | 05001 | 00010001 | 000158442 | 05360006 | 00201 | 2 | 1 | ⋯ | 2 |  1 | 2002 | NA | NA | NA | NA | NA |  2 | NA |\n| N | 170 | 05 | 05001 | 00010001 | 000160666 | 05001999 | 00101 | 1 | 1 | ⋯ | 2 | NA |   NA | NA | NA | NA | NA |  1 | NA | NA |\n| N | 170 | 05 | 05001 | 00010001 | 000161543 | 05001029 | 00101 | 1 | 1 | ⋯ | 3 | NA |   NA | NA | NA | NA | NA |  1 | NA | NA |\n| N | 170 | 05 | 05001 | 00010001 | 000162857 | 05001043 | 00101 | 1 | 1 | ⋯ | 2 | NA |   NA | NA | NA | NA | NA |  1 | NA |  1 |\n| N | 170 | 05 | 05001 | 00010001 | 000439440 | 05266003 | 00101 | 1 | 1 | ⋯ | 2 | NA |   NA | NA | NA | NA | NA |  1 | NA | NA |\n| N | 170 | 05 | 05001 | 00010001 | 000445920 | 05001045 | 00101 | 1 | 1 | ⋯ | 2 | NA |   NA | NA | NA | NA | NA |  1 | NA | NA |\n| N | 170 | 05 | 05001 | 00010001 | 000449436 | 05001011 | 00101 | 1 | 1 | ⋯ | 3 | NA |   NA | NA | NA | NA | NA |  1 | NA | NA |\n| N | 170 | 05 | 05001 | 00010001 | 000449436 | 05001011 | 00201 | 2 | 1 | ⋯ | 3 | NA |   NA | NA | NA | NA | NA |  1 | NA | NA |\n| N | 170 | 05 | 05001 | 00010001 | 000449436 | 05001011 | 00301 | 3 | 1 | ⋯ | 1 | NA |   NA | NA | NA | NA | NA |  1 | NA | NA |\n| N | 170 | 05 | 05001 | 00010001 | 000449436 | 05001011 | 00401 | 4 | 1 | ⋯ | 2 | NA |   NA | NA | NA | NA | NA |  1 | NA | NA |\n\n",
            "text/latex": "A tibble: 12 × 21\n\\begin{tabular}{lllllllllllllllllllll}\n TIPO\\_REG & PAIS & P\\_DEPTO & P\\_MUNIC & UC\\_UO & ENCUESTA & COD\\_VEREDA & ITER\\_HG & P\\_S15P165A & P\\_S15P165B & ⋯ & P\\_S15P178 & P\\_S15P179\\_SP1 & P\\_S15P179A & P\\_S15P179\\_SP2 & P\\_S15P179B & P\\_S15P179\\_SP3 & P\\_S15P179C & P\\_S15P179\\_SP4 & P\\_S15P180 & TOT\\_PROD\\_HOGAR\\\\\n <chr> & <dbl> & <chr> & <chr> & <chr> & <chr> & <chr> & <chr> & <dbl> & <dbl> & ⋯ & <dbl> & <dbl> & <dbl> & <dbl> & <dbl> & <dbl> & <dbl> & <dbl> & <dbl> & <dbl>\\\\\n\\hline\n\t N & 170 & 05 & 05001 & 00010001 & 000157501 & 05001038 & 00101 & 1 & 1 & ⋯ & 2 & NA &   NA & NA & NA & NA & NA &  1 & NA & NA\\\\\n\t N & 170 & 05 & 05001 & 00010001 & 000158442 & 05360006 & 00101 & 1 & 1 & ⋯ & 3 & NA &   NA & NA & NA & NA & NA &  1 & NA &  1\\\\\n\t N & 170 & 05 & 05001 & 00010001 & 000158442 & 05360006 & 00201 & 2 & 1 & ⋯ & 2 &  1 & 2002 & NA & NA & NA & NA & NA &  2 & NA\\\\\n\t N & 170 & 05 & 05001 & 00010001 & 000160666 & 05001999 & 00101 & 1 & 1 & ⋯ & 2 & NA &   NA & NA & NA & NA & NA &  1 & NA & NA\\\\\n\t N & 170 & 05 & 05001 & 00010001 & 000161543 & 05001029 & 00101 & 1 & 1 & ⋯ & 3 & NA &   NA & NA & NA & NA & NA &  1 & NA & NA\\\\\n\t N & 170 & 05 & 05001 & 00010001 & 000162857 & 05001043 & 00101 & 1 & 1 & ⋯ & 2 & NA &   NA & NA & NA & NA & NA &  1 & NA &  1\\\\\n\t N & 170 & 05 & 05001 & 00010001 & 000439440 & 05266003 & 00101 & 1 & 1 & ⋯ & 2 & NA &   NA & NA & NA & NA & NA &  1 & NA & NA\\\\\n\t N & 170 & 05 & 05001 & 00010001 & 000445920 & 05001045 & 00101 & 1 & 1 & ⋯ & 2 & NA &   NA & NA & NA & NA & NA &  1 & NA & NA\\\\\n\t N & 170 & 05 & 05001 & 00010001 & 000449436 & 05001011 & 00101 & 1 & 1 & ⋯ & 3 & NA &   NA & NA & NA & NA & NA &  1 & NA & NA\\\\\n\t N & 170 & 05 & 05001 & 00010001 & 000449436 & 05001011 & 00201 & 2 & 1 & ⋯ & 3 & NA &   NA & NA & NA & NA & NA &  1 & NA & NA\\\\\n\t N & 170 & 05 & 05001 & 00010001 & 000449436 & 05001011 & 00301 & 3 & 1 & ⋯ & 1 & NA &   NA & NA & NA & NA & NA &  1 & NA & NA\\\\\n\t N & 170 & 05 & 05001 & 00010001 & 000449436 & 05001011 & 00401 & 4 & 1 & ⋯ & 2 & NA &   NA & NA & NA & NA & NA &  1 & NA & NA\\\\\n\\end{tabular}\n"
          },
          "metadata": {}
        }
      ]
    },
    {
      "cell_type": "code",
      "source": [
        "table_ins_viol <- table_ins_viol %>%\n",
        "  head(4)\n",
        "\n",
        "View(table_ins_viol)"
      ],
      "metadata": {
        "id": "fB7AOlkYIx2v",
        "colab": {
          "base_uri": "https://localhost:8080/",
          "height": 243
        },
        "outputId": "54a575fa-f7c5-44b1-f9f6-f5696c577868"
      },
      "execution_count": null,
      "outputs": [
        {
          "output_type": "display_data",
          "data": {
            "text/plain": [
              "  codigo year month latitude longitude insurg_violence orgncap1 orgncap2\n",
              "1 5001   1965 7     6.27     75.58     0               0        1       \n",
              "2 5001   1978 6     6.27     75.58     0               0        1       \n",
              "3 5001   1971 7     6.27     75.58     1               0        1       \n",
              "4 5001   1965 1     6.27     75.58     0               0        1       \n",
              "  mountains1 mountains2 ⋯ ethdom inequality discap disbog   peaceyears _spline1\n",
              "1 1486       NA         ⋯ 0      0.5256     0      177.8103 1          -0.75   \n",
              "2 1486       NA         ⋯ 0      0.5256     0      177.8103 0           0.00   \n",
              "3 1486       NA         ⋯ 0      0.5256     0      177.8103 0           0.00   \n",
              "4 1486       NA         ⋯ 0      0.5256     0      177.8103 1          -0.75   \n",
              "  _spline2 _spline3 _est_A _est_B\n",
              "1 -0.5     -0.25    0      0     \n",
              "2  0.0      0.00    0      0     \n",
              "3  0.0      0.00    0      0     \n",
              "4 -0.5     -0.25    0      0     "
            ],
            "text/html": [
              "<table class=\"dataframe\">\n",
              "<caption>A tibble: 4 × 31</caption>\n",
              "<thead>\n",
              "\t<tr><th scope=col>codigo</th><th scope=col>year</th><th scope=col>month</th><th scope=col>latitude</th><th scope=col>longitude</th><th scope=col>insurg_violence</th><th scope=col>orgncap1</th><th scope=col>orgncap2</th><th scope=col>mountains1</th><th scope=col>mountains2</th><th scope=col>⋯</th><th scope=col>ethdom</th><th scope=col>inequality</th><th scope=col>discap</th><th scope=col>disbog</th><th scope=col>peaceyears</th><th scope=col>_spline1</th><th scope=col>_spline2</th><th scope=col>_spline3</th><th scope=col>_est_A</th><th scope=col>_est_B</th></tr>\n",
              "\t<tr><th scope=col>&lt;dbl&gt;</th><th scope=col>&lt;dbl&gt;</th><th scope=col>&lt;dbl&gt;</th><th scope=col>&lt;dbl&gt;</th><th scope=col>&lt;dbl&gt;</th><th scope=col>&lt;dbl&gt;</th><th scope=col>&lt;dbl&gt;</th><th scope=col>&lt;dbl&gt;</th><th scope=col>&lt;dbl&gt;</th><th scope=col>&lt;dbl&gt;</th><th scope=col>⋯</th><th scope=col>&lt;dbl&gt;</th><th scope=col>&lt;dbl&gt;</th><th scope=col>&lt;dbl&gt;</th><th scope=col>&lt;dbl&gt;</th><th scope=col>&lt;dbl&gt;</th><th scope=col>&lt;dbl&gt;</th><th scope=col>&lt;dbl&gt;</th><th scope=col>&lt;dbl&gt;</th><th scope=col>&lt;dbl&gt;</th><th scope=col>&lt;dbl&gt;</th></tr>\n",
              "</thead>\n",
              "<tbody>\n",
              "\t<tr><td>5001</td><td>1965</td><td>7</td><td>6.27</td><td>75.58</td><td>0</td><td>0</td><td>1</td><td>1486</td><td>NA</td><td>⋯</td><td>0</td><td>0.5256</td><td>0</td><td>177.8103</td><td>1</td><td>-0.75</td><td>-0.5</td><td>-0.25</td><td>0</td><td>0</td></tr>\n",
              "\t<tr><td>5001</td><td>1978</td><td>6</td><td>6.27</td><td>75.58</td><td>0</td><td>0</td><td>1</td><td>1486</td><td>NA</td><td>⋯</td><td>0</td><td>0.5256</td><td>0</td><td>177.8103</td><td>0</td><td> 0.00</td><td> 0.0</td><td> 0.00</td><td>0</td><td>0</td></tr>\n",
              "\t<tr><td>5001</td><td>1971</td><td>7</td><td>6.27</td><td>75.58</td><td>1</td><td>0</td><td>1</td><td>1486</td><td>NA</td><td>⋯</td><td>0</td><td>0.5256</td><td>0</td><td>177.8103</td><td>0</td><td> 0.00</td><td> 0.0</td><td> 0.00</td><td>0</td><td>0</td></tr>\n",
              "\t<tr><td>5001</td><td>1965</td><td>1</td><td>6.27</td><td>75.58</td><td>0</td><td>0</td><td>1</td><td>1486</td><td>NA</td><td>⋯</td><td>0</td><td>0.5256</td><td>0</td><td>177.8103</td><td>1</td><td>-0.75</td><td>-0.5</td><td>-0.25</td><td>0</td><td>0</td></tr>\n",
              "</tbody>\n",
              "</table>\n"
            ],
            "text/markdown": "\nA tibble: 4 × 31\n\n| codigo &lt;dbl&gt; | year &lt;dbl&gt; | month &lt;dbl&gt; | latitude &lt;dbl&gt; | longitude &lt;dbl&gt; | insurg_violence &lt;dbl&gt; | orgncap1 &lt;dbl&gt; | orgncap2 &lt;dbl&gt; | mountains1 &lt;dbl&gt; | mountains2 &lt;dbl&gt; | ⋯ ⋯ | ethdom &lt;dbl&gt; | inequality &lt;dbl&gt; | discap &lt;dbl&gt; | disbog &lt;dbl&gt; | peaceyears &lt;dbl&gt; | _spline1 &lt;dbl&gt; | _spline2 &lt;dbl&gt; | _spline3 &lt;dbl&gt; | _est_A &lt;dbl&gt; | _est_B &lt;dbl&gt; |\n|---|---|---|---|---|---|---|---|---|---|---|---|---|---|---|---|---|---|---|---|---|\n| 5001 | 1965 | 7 | 6.27 | 75.58 | 0 | 0 | 1 | 1486 | NA | ⋯ | 0 | 0.5256 | 0 | 177.8103 | 1 | -0.75 | -0.5 | -0.25 | 0 | 0 |\n| 5001 | 1978 | 6 | 6.27 | 75.58 | 0 | 0 | 1 | 1486 | NA | ⋯ | 0 | 0.5256 | 0 | 177.8103 | 0 |  0.00 |  0.0 |  0.00 | 0 | 0 |\n| 5001 | 1971 | 7 | 6.27 | 75.58 | 1 | 0 | 1 | 1486 | NA | ⋯ | 0 | 0.5256 | 0 | 177.8103 | 0 |  0.00 |  0.0 |  0.00 | 0 | 0 |\n| 5001 | 1965 | 1 | 6.27 | 75.58 | 0 | 0 | 1 | 1486 | NA | ⋯ | 0 | 0.5256 | 0 | 177.8103 | 1 | -0.75 | -0.5 | -0.25 | 0 | 0 |\n\n",
            "text/latex": "A tibble: 4 × 31\n\\begin{tabular}{lllllllllllllllllllll}\n codigo & year & month & latitude & longitude & insurg\\_violence & orgncap1 & orgncap2 & mountains1 & mountains2 & ⋯ & ethdom & inequality & discap & disbog & peaceyears & \\_spline1 & \\_spline2 & \\_spline3 & \\_est\\_A & \\_est\\_B\\\\\n <dbl> & <dbl> & <dbl> & <dbl> & <dbl> & <dbl> & <dbl> & <dbl> & <dbl> & <dbl> & ⋯ & <dbl> & <dbl> & <dbl> & <dbl> & <dbl> & <dbl> & <dbl> & <dbl> & <dbl> & <dbl>\\\\\n\\hline\n\t 5001 & 1965 & 7 & 6.27 & 75.58 & 0 & 0 & 1 & 1486 & NA & ⋯ & 0 & 0.5256 & 0 & 177.8103 & 1 & -0.75 & -0.5 & -0.25 & 0 & 0\\\\\n\t 5001 & 1978 & 6 & 6.27 & 75.58 & 0 & 0 & 1 & 1486 & NA & ⋯ & 0 & 0.5256 & 0 & 177.8103 & 0 &  0.00 &  0.0 &  0.00 & 0 & 0\\\\\n\t 5001 & 1971 & 7 & 6.27 & 75.58 & 1 & 0 & 1 & 1486 & NA & ⋯ & 0 & 0.5256 & 0 & 177.8103 & 0 &  0.00 &  0.0 &  0.00 & 0 & 0\\\\\n\t 5001 & 1965 & 1 & 6.27 & 75.58 & 0 & 0 & 1 & 1486 & NA & ⋯ & 0 & 0.5256 & 0 & 177.8103 & 1 & -0.75 & -0.5 & -0.25 & 0 & 0\\\\\n\\end{tabular}\n"
          },
          "metadata": {}
        }
      ]
    },
    {
      "cell_type": "code",
      "source": [
        "table_censo <- head(table_censo, 2)\n",
        "\n",
        "View(table_censo)"
      ],
      "metadata": {
        "id": "ouPOVS8QI0Pi",
        "colab": {
          "base_uri": "https://localhost:8080/",
          "height": 161
        },
        "outputId": "4a4c2f22-debf-49ae-cb51-ff3f1c3461ec"
      },
      "execution_count": null,
      "outputs": [
        {
          "output_type": "display_data",
          "data": {
            "text/plain": [
              "  recordid                                 p_s12p150a s05_tenencia\n",
              "1 a2ab5453636255c085c3be26ed0fd9c296c1e103 153936.1   99          \n",
              "2 c1a023bb5a55bf3ee1143a63ef7888bc45a66513  96405.6    1          "
            ],
            "text/html": [
              "<table class=\"dataframe\">\n",
              "<caption>A tibble: 2 × 3</caption>\n",
              "<thead>\n",
              "\t<tr><th scope=col>recordid</th><th scope=col>p_s12p150a</th><th scope=col>s05_tenencia</th></tr>\n",
              "\t<tr><th scope=col>&lt;chr&gt;</th><th scope=col>&lt;dbl&gt;</th><th scope=col>&lt;dbl&gt;</th></tr>\n",
              "</thead>\n",
              "<tbody>\n",
              "\t<tr><td>a2ab5453636255c085c3be26ed0fd9c296c1e103</td><td>153936.1</td><td>99</td></tr>\n",
              "\t<tr><td>c1a023bb5a55bf3ee1143a63ef7888bc45a66513</td><td> 96405.6</td><td> 1</td></tr>\n",
              "</tbody>\n",
              "</table>\n"
            ],
            "text/markdown": "\nA tibble: 2 × 3\n\n| recordid &lt;chr&gt; | p_s12p150a &lt;dbl&gt; | s05_tenencia &lt;dbl&gt; |\n|---|---|---|\n| a2ab5453636255c085c3be26ed0fd9c296c1e103 | 153936.1 | 99 |\n| c1a023bb5a55bf3ee1143a63ef7888bc45a66513 |  96405.6 |  1 |\n\n",
            "text/latex": "A tibble: 2 × 3\n\\begin{tabular}{lll}\n recordid & p\\_s12p150a & s05\\_tenencia\\\\\n <chr> & <dbl> & <dbl>\\\\\n\\hline\n\t a2ab5453636255c085c3be26ed0fd9c296c1e103 & 153936.1 & 99\\\\\n\t c1a023bb5a55bf3ee1143a63ef7888bc45a66513 &  96405.6 &  1\\\\\n\\end{tabular}\n"
          },
          "metadata": {}
        }
      ]
    },
    {
      "cell_type": "code",
      "source": [
        "write_parquet(table_pnis, output_pnis)"
      ],
      "metadata": {
        "id": "T275MmN9JZff"
      },
      "execution_count": null,
      "outputs": []
    },
    {
      "cell_type": "code",
      "source": [
        "write_csv(table_hogares, output_hogares)"
      ],
      "metadata": {
        "id": "CYjWux2jKitL"
      },
      "execution_count": null,
      "outputs": []
    },
    {
      "cell_type": "code",
      "source": [
        "write_xlsx(table_ins_viol, output_ins_viol)"
      ],
      "metadata": {
        "id": "39iqv9YsKnFe"
      },
      "execution_count": null,
      "outputs": []
    },
    {
      "cell_type": "markdown",
      "source": [
        "En la siguiente imagen se observan los archivos resultantes de exportar las múltiples tablas.\n",
        "\n",
        "![salida_write.jpg](data:image/jpeg;base64,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)"
      ],
      "metadata": {
        "id": "jYOeZ0qILeHo"
      }
    },
    {
      "cell_type": "code",
      "source": [],
      "metadata": {
        "id": "C90jABTOL-0X"
      },
      "execution_count": null,
      "outputs": []
    },
    {
      "cell_type": "markdown",
      "source": [
        "Ahora, con la función rm() se eliminar algunas de las tablas cargadas a fin de librerar memoria en la máquina. El eliminar objetos que ya no se utilizarán más es una buena práctica para obtener eficiencia y eviar errores en el manejo de la información."
      ],
      "metadata": {
        "id": "_G34mIAHABLl"
      }
    },
    {
      "cell_type": "code",
      "source": [
        "rm(table_hogares, table_pnis, table_censo)"
      ],
      "metadata": {
        "id": "ji-Fm0fqABo0"
      },
      "execution_count": null,
      "outputs": []
    },
    {
      "cell_type": "markdown",
      "source": [
        "## Taller import y export\n",
        "\n",
        "**Objetivo**: Comprender y aplicar los conceptos de importar y exportar objetos en formato tabular\n",
        "\n",
        "### Punto 1.\n",
        "\n",
        "Descargar los datos de cultivos de amapola para el departamento de Nariño entre los años 2000-2010. Importar el archivo a formato dataframe cuidando que los títulos efectivamente se sincronicen como nombres de columnas en Rstudio.\n",
        "\n",
        "Fuente: https://www.minjusticia.gov.co/programas-co/ODC/Paginas/SIDCO-departamento-municipio.aspx\n",
        "\n",
        "### Punto 2.\n",
        "\n",
        "Descargar los datos de desaparición forzada (CasosDF_202409) del repositorio del Onedrive e importar únicamente las siguientes columnas: \"Año\", \"Mes\", \"Día\", \"Departamento\", \"Municipio\", \"Presunto.Responsable\".\n",
        "\n",
        "### Punto 3.\n",
        "\n",
        "Importar la tabla de asesinato de líderes rurales desde la Página del Observatorio de Tierras.\n",
        "\n",
        "Fuente: https://www.observatoriodetierras.org/otros-documentos/\n",
        "\n",
        "### Punto 4.\n",
        "\n",
        "Exportar los primeros 5 registros de cada tabla en los siguientes formatos. La tabla del CNMH debe exportarse en formato parquet, la tabla de cultivos de uso ilítico debe exportarse en formato .csv, y la tabla de asesinato de líderes rurales se exportará en formato .xlsx."
      ],
      "metadata": {
        "id": "wnjZPnHtMCeC"
      }
    },
    {
      "cell_type": "code",
      "source": [
        "## Solucion punto 1.\n",
        "\n",
        "# No se encuentra disponible la tabla.\n"
      ],
      "metadata": {
        "id": "bjpHnnqvMHMG"
      },
      "execution_count": null,
      "outputs": []
    },
    {
      "cell_type": "code",
      "source": [
        "## Solucion punto 2.\n",
        "ruta_df <- c(\"drive_sebas/archivos_taller_import_export/CasosDF_202409.parquet\")\n",
        "\n",
        "df_cnmh <- read_parquet(ruta_df,\n",
        "                        col_select = c(\"Año\",\n",
        "                                        \"Mes\",\n",
        "                                        \"Día\",\n",
        "                                        \"Departamento\",\n",
        "                                        \"Municipio\",\n",
        "                                        \"Presunto.Responsable\"))\n",
        "\n",
        "View(head(df_cnmh))"
      ],
      "metadata": {
        "id": "hC-qHsKQPlA-",
        "colab": {
          "base_uri": "https://localhost:8080/",
          "height": 286
        },
        "outputId": "f8cfa28d-adae-40af-9312-e665b02c8821"
      },
      "execution_count": null,
      "outputs": [
        {
          "output_type": "display_data",
          "data": {
            "text/plain": [
              "  Año  Mes Día Departamento Municipio Presunto.Responsable\n",
              "1 1991 05  25  CUNDINAMARCA JERUSALEN GUERRILLA           \n",
              "2 2004 12  02  CUNDINAMARCA LA MESA   GRUPO PARAMILITAR   \n",
              "3 1993 03  09  CUNDINAMARCA YACOPI    GRUPO PARAMILITAR   \n",
              "4 1997 06  08  CHOCO        BOJAYA    GRUPO PARAMILITAR   \n",
              "5 2000 06  12  CHOCO        LLORO     GRUPO PARAMILITAR   \n",
              "6 1997 05  10  CHOCO        RIOSUCIO  GRUPO PARAMILITAR   "
            ],
            "text/html": [
              "<table class=\"dataframe\">\n",
              "<caption>A tibble: 6 × 6</caption>\n",
              "<thead>\n",
              "\t<tr><th scope=col>Año</th><th scope=col>Mes</th><th scope=col>Día</th><th scope=col>Departamento</th><th scope=col>Municipio</th><th scope=col>Presunto.Responsable</th></tr>\n",
              "\t<tr><th scope=col>&lt;chr&gt;</th><th scope=col>&lt;chr&gt;</th><th scope=col>&lt;chr&gt;</th><th scope=col>&lt;chr&gt;</th><th scope=col>&lt;chr&gt;</th><th scope=col>&lt;chr&gt;</th></tr>\n",
              "</thead>\n",
              "<tbody>\n",
              "\t<tr><td>1991</td><td>05</td><td>25</td><td>CUNDINAMARCA</td><td>JERUSALEN</td><td>GUERRILLA        </td></tr>\n",
              "\t<tr><td>2004</td><td>12</td><td>02</td><td>CUNDINAMARCA</td><td>LA MESA  </td><td>GRUPO PARAMILITAR</td></tr>\n",
              "\t<tr><td>1993</td><td>03</td><td>09</td><td>CUNDINAMARCA</td><td>YACOPI   </td><td>GRUPO PARAMILITAR</td></tr>\n",
              "\t<tr><td>1997</td><td>06</td><td>08</td><td>CHOCO       </td><td>BOJAYA   </td><td>GRUPO PARAMILITAR</td></tr>\n",
              "\t<tr><td>2000</td><td>06</td><td>12</td><td>CHOCO       </td><td>LLORO    </td><td>GRUPO PARAMILITAR</td></tr>\n",
              "\t<tr><td>1997</td><td>05</td><td>10</td><td>CHOCO       </td><td>RIOSUCIO </td><td>GRUPO PARAMILITAR</td></tr>\n",
              "</tbody>\n",
              "</table>\n"
            ],
            "text/markdown": "\nA tibble: 6 × 6\n\n| Año &lt;chr&gt; | Mes &lt;chr&gt; | Día &lt;chr&gt; | Departamento &lt;chr&gt; | Municipio &lt;chr&gt; | Presunto.Responsable &lt;chr&gt; |\n|---|---|---|---|---|---|\n| 1991 | 05 | 25 | CUNDINAMARCA | JERUSALEN | GUERRILLA         |\n| 2004 | 12 | 02 | CUNDINAMARCA | LA MESA   | GRUPO PARAMILITAR |\n| 1993 | 03 | 09 | CUNDINAMARCA | YACOPI    | GRUPO PARAMILITAR |\n| 1997 | 06 | 08 | CHOCO        | BOJAYA    | GRUPO PARAMILITAR |\n| 2000 | 06 | 12 | CHOCO        | LLORO     | GRUPO PARAMILITAR |\n| 1997 | 05 | 10 | CHOCO        | RIOSUCIO  | GRUPO PARAMILITAR |\n\n",
            "text/latex": "A tibble: 6 × 6\n\\begin{tabular}{llllll}\n Año & Mes & Día & Departamento & Municipio & Presunto.Responsable\\\\\n <chr> & <chr> & <chr> & <chr> & <chr> & <chr>\\\\\n\\hline\n\t 1991 & 05 & 25 & CUNDINAMARCA & JERUSALEN & GUERRILLA        \\\\\n\t 2004 & 12 & 02 & CUNDINAMARCA & LA MESA   & GRUPO PARAMILITAR\\\\\n\t 1993 & 03 & 09 & CUNDINAMARCA & YACOPI    & GRUPO PARAMILITAR\\\\\n\t 1997 & 06 & 08 & CHOCO        & BOJAYA    & GRUPO PARAMILITAR\\\\\n\t 2000 & 06 & 12 & CHOCO        & LLORO     & GRUPO PARAMILITAR\\\\\n\t 1997 & 05 & 10 & CHOCO        & RIOSUCIO  & GRUPO PARAMILITAR\\\\\n\\end{tabular}\n"
          },
          "metadata": {}
        }
      ]
    },
    {
      "cell_type": "code",
      "source": [
        "## Solucion punto 3\n",
        "\n",
        "ruta_la <- c(\"drive_sebas/archivos_taller_import_export/Base-de-datos-líderes-asesinados_2021.xlsx\")\n",
        "\n",
        "la_table <- read.xlsx(ruta_la)\n",
        "\n",
        "View(head(la_table))"
      ],
      "metadata": {
        "id": "1tW9ZOBlQ8YI",
        "colab": {
          "base_uri": "https://localhost:8080/",
          "height": 1000
        },
        "outputId": "e704b394-29ad-4bf9-cd67-d2d656f4b993"
      },
      "execution_count": null,
      "outputs": [
        {
          "output_type": "display_data",
          "data": {
            "text/plain": [
              "  ID NOMBRE                         GENERO CEDULA   TIPO.LIDER\n",
              "1 1  ALVARO FERNANDO QUEGUAN        1      M        1         \n",
              "2 2  EMEL  ANTONIO VARELA TUBERQUIA 1      71942866 1         \n",
              "3 2  IVAN DARIO RESTREPO            1      M        2         \n",
              "4 3  CESAR GARCIA                   1      M        1         \n",
              "5 5  DUVIS ANTONIO GALVIS           1      M        1         \n",
              "6 6  JORGE ELIECER HERNANDEZ BLANCO 1      M        1         \n",
              "  VINCULACION.PROCESO.COCA/SUSTITUCION NIVEL.ORGANIZACION TIPO.1.ORGANIZACION\n",
              "1 2                                    3                  6                  \n",
              "2 2                                    3                  6                  \n",
              "3 2                                    4                  8                  \n",
              "4 2                                    4                  6                  \n",
              "5 2                                    5                  6                  \n",
              "6 2                                    5                  6                  \n",
              "  TIPO.2.ORGANIZACION TIPO.3.ORGANIZACION ⋯\n",
              "1 1                   9                   ⋯\n",
              "2 1                   M                   ⋯\n",
              "3 7                   M                   ⋯\n",
              "4 3                   3                   ⋯\n",
              "5 1                   1                   ⋯\n",
              "6 1                   M                   ⋯\n",
              "  FUENTE.1                                                                                                                                                                     \n",
              "1 http://prensarural.org/spip/spip.php?article10745                                                                                                                            \n",
              "2 http://prensarural.org/spip/spip.php?article11520                                                                                                                            \n",
              "3 http://forjandofuturos.org/fundacion/index.php?option=com_content&view=article&id=1106:ivan-dario-restrepo-lider-reclamante-de-tierras-asesinado-en-bello&catid=67&Itemid=163\n",
              "4 http://noticiasunolaredindependiente.com/2013/11/03/noticias/asesinado-el-opositor-del-proyecto-de-mineria-la-colosa-en-tolima/                                              \n",
              "5 http://prensarural.org/spip/spip.php?article13225               http://prensarural.org/spip/spip.php?article13894                                                            \n",
              "6 http://www.prensarural.org/spip/spip.php?article13479                                                                                                                        \n",
              "  FUENTE.2                                                                                                                                                                                                                                                 \n",
              "1 http://www.marchapatriotica.org/index.php?option=com_content&view=article&id=975%3Anarino-l-asesinado-lider-campesino&catid=107&Itemid=482                                                                                                               \n",
              "2 http://www.eluniversal.com.co/monteria-y-sincelejo/sucesos/asesinan-lider-del-alto-sinu-en-cordoba-128804                                                                                                                                                \n",
              "3 http://www.elespectador.com/noticias/nacional/asesinan-lider-campesino-reclamante-de-tierras-antioqui-articulo-420230   http://www.desdeabajo.info/component/k2/item/22014-la-onu-alerta-sobre-los-asesinatos-de-l%C3%ADderes-campesinos-en-colombia.html\n",
              "4 http://prensarural.org/spip/spip.php?article12517                                                                                                                                                                                                        \n",
              "5 Bitacora 28 de enero de 2014                                                                                                                                                                                                                             \n",
              "6 http://prensarural.org/spip/spip.php?article13457                                                                                                                                                                                                        \n",
              "  FUENTE.3                                                                                                                                                                                                \n",
              "1 http://pagina10.com/index.php/pacifico/item/1081-en-tumaco-de-13-capturados-s%C3%B3lo-uno-qued%C3%B3-detenido#.U4_Wa_l5NZ5                                                                              \n",
              "2 http://elmeridianodecordoba.com.co/index.php?option=com_k2&view=item&id=38321:asesinan-a-otro-l%C3%ADder&Itemid=120                                                                                     \n",
              "3 http://www.verdadabierta.com/component/content/article/42-asesinatos-selectivos/4575-despojo-urbano-causa-victima-en-bello-antioquia/                                                                   \n",
              "4 http://www.elespectador.com/noticias/nacional/el-loco-se-le-opuso-colosa-articulo-457492                                                                                                                \n",
              "5 http://m.semana.com/nacion/articulo/marcha-patriotica-denuncia-nuevo-asesinato/372244-3   http://www.elheraldo.co/nacional/piedad-cordoba-denuncia-asesinato-de-otro-miembro-de-marcha-patriotica-140659\n",
              "6 http://www.vanguardia.com/santander/barrancabermeja/248378-ejercito-insiste-en-que-severo-si-colaboraba-a-guerrilla-en-sur-de-                                                                          \n",
              "  FUENTE.4                                                                                                                                                                                                                                                                                                                                          \n",
              "1 http://prensarural.org/spip/spip.php?article10893                                                                                                                                                                                                                                                                                                 \n",
              "2 http://elheraldo.co/region/cordoba/asesinado-otro-lider-civico-en-tierralta-cordoba-119225                                                                                                                                                                                                                                                        \n",
              "3 http://issuu.com/gulcuec/docs/informe_enero_junio_2013_somos_defe/18                                                                                                                                                                                                                                                                              \n",
              "4 http://www.semanariovoz.com/2013/11/13/crimenes-contra-lideres-campesinos-diez-asesinados-en-dos-meses/                                                                                                                                                                                                                                           \n",
              "5 http://www.elpais.com.co/elpais/judicial/noticias/piedad-cordoba-denuncia-nuevo-asesinato-integrante-marcha-patriotica                                                                        http://www.caracol.com.co/noticias/regionales/asesinan-lider-campesino-en-el-catatumbo/20140127/nota/2063926.aspx                                   \n",
              "6 Bitacora 15 de abril de 2014                                                                                                                                                                                                                                                                                                                      \n",
              "  LISTADO                            FECHA.CONSULTA\n",
              "1 Marcha Patriotica                  41796         \n",
              "2 Defensoria                         41796         \n",
              "3 NA                                 41796         \n",
              "4 NA                                 41796         \n",
              "5 Marcha Patriotica - Noche y niebla 41796         \n",
              "6 Marcha Patriotica                  41796         \n",
              "  DATOS.REVELANTES.FUENTE                                                                                                                                                                                                                                                                                                                                                                                                                                                                                                                                                                                                                                                                                                                                            \n",
              "1 En enfrentamiento entre el ejercito y las FARC, cayo herido el senor alvaro Queguan producto del fuego cruzado. Posteriormente, el grupo de militares procedio a detener arbitrariamente y trasladar hasta el centro poblado del Municipio de Tumaco a catorce campesionos de la zona.                                                                                                                                                                                                                                                                                                                                                                                                                                                                             \n",
              "2 Cedula de ciudadania nro. 71.942.866. En la tarde de ayer, siendo aproximadamente las seis pm hombres armados ultimaron de varios impactos de bala la integridad de EMEL ANTONIO VARELA TUBERQUIA quien se desempenaba como Presidente de la Junta de Accion Comunal de la vereda La Estrella perteneciente al corregimiento de Zaiza y quien tambien hacia parte de la Asociacion Campesina para el Desarrollo del Alto Sinu ASODECAS.                                                                                                                                                                                                                                                                                                                            \n",
              "3 F4: Restrepo venia demostrando las alianzas entre la banda criminal \"Los Triana\" y agentes de la Policia Nacional. El 19 de junio de 2012, sus escoltas enviaron un informe a la Unidad Nacional de Victimas, solicitando el fortalecimiento de su proteccion. Sin embargo, no fue atendida.                                                                                                                                                                                                                                                                                                                                                                                                                                                                       \n",
              "4 F2. CESAR GARCÍA, el día de hoy (2 de noviembre de 2013) entre las 5 y 6 de la tarde fue asesinado con un tiro en la cabeza cuando llegaba a su finca ubicada la vereda la Cajón la Leona del municipio de Cajamarca.                                                                                                                                                                                                                                                                                                                                                                                                                                                                                                                                              \n",
              "5 Se dirigia hacia su residencia en su motocicleta con un menor de 10 anos. En ese momento fue interceptado por desconocidos quienes dispararon contra Duvis Antonio Galvis, recibiendo varios impactos de bala en su pecho que le causaron la muerte.                                                                                                                                                                                                                                                                                                                                                                                                                                                                                                               \n",
              "6 El dia sabado 22 de Febrero de 2014, en la vereda Matae Bambu, fue asesinado por parte de la Fuerza de Tarea Conjunta Marte, el campesino Jorge Eliecer Hernandez Blanco, de 28 anos de edad, segun familiares y habitantes de la region, el se desempenaba como campesino y vicepresidente de la Junta de Accion Comunal de la Vereda Alto Limon , del Municipio de San Pablo, sur de Bolivar, en la Zona de Reserva Campesina del Valle del Rio Cimitarra. Aunque los familiares de Jorge Eliecer Hernandez Blanco insisten que la muerte de su hijo, ocurrida el pasado domingo en la madrugada en San Pablo, sur de Bolivar, se trato de un ‘falso positivo’, las autoridades militares advierten que el operativo se llevo a cabo mediante una orden judicial.\n",
              "  CASO.GRIS CASO.GRIS.COD\n",
              "1 NO        NO           \n",
              "2 NO        NO           \n",
              "3 NO        NO           \n",
              "4 NO        NO           \n",
              "5 NO        NO           \n",
              "6 NO        NO           \n",
              "  OBSERVACIONES                                                                                                                                                                                                                \n",
              "1 Junto con el homicidio de Queguan, se efectuo la captura masiva de 13 campesinos de la zona acusados de rebelion y presentados como guerrilleros. http://www.semana.com/especiales/defensores-derechos-asesinados/Nariño.html\n",
              "2 Cartilla heroes anonimos. Esta en la ultima matriz de la Defensoria. En algunos medios lo escriben como: (Emer)                                                                                                              \n",
              "3 Estaba con esquema de proteccion y los que le dispararon estaban vestidos de policia                                                                                                                                         \n",
              "4 Riesgo de lideres y lideresas que defienden los recursos naturales, y ademas son acusados de guerrilleros                                                                                                                    \n",
              "5 NA                                                                                                                                                                                                                           \n",
              "6 NA                                                                                                                                                                                                                           "
            ],
            "text/html": [
              "<table class=\"dataframe\">\n",
              "<caption>A data.frame: 6 × 47</caption>\n",
              "<thead>\n",
              "\t<tr><th></th><th scope=col>ID</th><th scope=col>NOMBRE</th><th scope=col>GENERO</th><th scope=col>CEDULA</th><th scope=col>TIPO.LIDER</th><th scope=col>VINCULACION.PROCESO.COCA/SUSTITUCION</th><th scope=col>NIVEL.ORGANIZACION</th><th scope=col>TIPO.1.ORGANIZACION</th><th scope=col>TIPO.2.ORGANIZACION</th><th scope=col>TIPO.3.ORGANIZACION</th><th scope=col>⋯</th><th scope=col>FUENTE.1</th><th scope=col>FUENTE.2</th><th scope=col>FUENTE.3</th><th scope=col>FUENTE.4</th><th scope=col>LISTADO</th><th scope=col>FECHA.CONSULTA</th><th scope=col>DATOS.REVELANTES.FUENTE</th><th scope=col>CASO.GRIS</th><th scope=col>CASO.GRIS.COD</th><th scope=col>OBSERVACIONES</th></tr>\n",
              "\t<tr><th></th><th scope=col>&lt;chr&gt;</th><th scope=col>&lt;chr&gt;</th><th scope=col>&lt;dbl&gt;</th><th scope=col>&lt;chr&gt;</th><th scope=col>&lt;dbl&gt;</th><th scope=col>&lt;dbl&gt;</th><th scope=col>&lt;chr&gt;</th><th scope=col>&lt;chr&gt;</th><th scope=col>&lt;chr&gt;</th><th scope=col>&lt;chr&gt;</th><th scope=col>⋯</th><th scope=col>&lt;chr&gt;</th><th scope=col>&lt;chr&gt;</th><th scope=col>&lt;chr&gt;</th><th scope=col>&lt;chr&gt;</th><th scope=col>&lt;chr&gt;</th><th scope=col>&lt;chr&gt;</th><th scope=col>&lt;chr&gt;</th><th scope=col>&lt;chr&gt;</th><th scope=col>&lt;chr&gt;</th><th scope=col>&lt;chr&gt;</th></tr>\n",
              "</thead>\n",
              "<tbody>\n",
              "\t<tr><th scope=row>1</th><td>1</td><td><span style=white-space:pre-wrap>ALVARO FERNANDO QUEGUAN       </span></td><td>1</td><td><span style=white-space:pre-wrap>M       </span></td><td>1</td><td>2</td><td>3</td><td>6</td><td>1</td><td>9 </td><td>⋯</td><td><span style=white-space:pre-wrap>http://prensarural.org/spip/spip.php?article10745                                                                                                                            </span></td><td><span style=white-space:pre-wrap>http://www.marchapatriotica.org/index.php?option=com_content&amp;view=article&amp;id=975%3Anarino-l-asesinado-lider-campesino&amp;catid=107&amp;Itemid=482                                                                                                               </span></td><td><span style=white-space:pre-wrap>http://pagina10.com/index.php/pacifico/item/1081-en-tumaco-de-13-capturados-s%C3%B3lo-uno-qued%C3%B3-detenido#.U4_Wa_l5NZ5                                                                              </span></td><td><span style=white-space:pre-wrap>http://prensarural.org/spip/spip.php?article10893                                                                                                                                                                                                                                                                                                 </span></td><td><span style=white-space:pre-wrap>Marcha Patriotica                 </span></td><td>41796</td><td><span style=white-space:pre-wrap>En enfrentamiento entre el ejercito y las FARC, cayo herido el senor alvaro Queguan producto del fuego cruzado. Posteriormente, el grupo de militares procedio a detener arbitrariamente y trasladar hasta el centro poblado del Municipio de Tumaco a catorce campesionos de la zona.                                                                                                                                                                                                                                                                                                                                                                                                                                                                             </span></td><td>NO</td><td>NO</td><td>Junto con el homicidio de Queguan, se efectuo la captura masiva de 13 campesinos de la zona acusados de rebelion y presentados como guerrilleros. http://www.semana.com/especiales/defensores-derechos-asesinados/Nariño.html</td></tr>\n",
              "\t<tr><th scope=row>2</th><td>2</td><td><span style=white-space:pre-wrap>EMEL  ANTONIO VARELA TUBERQUIA</span></td><td>1</td><td>71942866</td><td>1</td><td>2</td><td>3</td><td>6</td><td>1</td><td>M </td><td>⋯</td><td><span style=white-space:pre-wrap>http://prensarural.org/spip/spip.php?article11520                                                                                                                            </span></td><td><span style=white-space:pre-wrap>http://www.eluniversal.com.co/monteria-y-sincelejo/sucesos/asesinan-lider-del-alto-sinu-en-cordoba-128804                                                                                                                                                </span></td><td><span style=white-space:pre-wrap>http://elmeridianodecordoba.com.co/index.php?option=com_k2&amp;view=item&amp;id=38321:asesinan-a-otro-l%C3%ADder&amp;Itemid=120                                                                                     </span></td><td><span style=white-space:pre-wrap>http://elheraldo.co/region/cordoba/asesinado-otro-lider-civico-en-tierralta-cordoba-119225                                                                                                                                                                                                                                                        </span></td><td><span style=white-space:pre-wrap>Defensoria                        </span></td><td>41796</td><td><span style=white-space:pre-wrap>Cedula de ciudadania nro. 71.942.866. En la tarde de ayer, siendo aproximadamente las seis pm hombres armados ultimaron de varios impactos de bala la integridad de EMEL ANTONIO VARELA TUBERQUIA quien se desempenaba como Presidente de la Junta de Accion Comunal de la vereda La Estrella perteneciente al corregimiento de Zaiza y quien tambien hacia parte de la Asociacion Campesina para el Desarrollo del Alto Sinu ASODECAS.                                                                                                                                                                                                                                                                                                                            </span></td><td>NO</td><td>NO</td><td><span style=white-space:pre-wrap>Cartilla heroes anonimos. Esta en la ultima matriz de la Defensoria. En algunos medios lo escriben como: (Emer)                                                                                                              </span></td></tr>\n",
              "\t<tr><th scope=row>3</th><td>2</td><td><span style=white-space:pre-wrap>IVAN DARIO RESTREPO           </span></td><td>1</td><td><span style=white-space:pre-wrap>M       </span></td><td>2</td><td>2</td><td>4</td><td>8</td><td>7</td><td>M </td><td>⋯</td><td>http://forjandofuturos.org/fundacion/index.php?option=com_content&amp;view=article&amp;id=1106:ivan-dario-restrepo-lider-reclamante-de-tierras-asesinado-en-bello&amp;catid=67&amp;Itemid=163</td><td><span style=white-space:pre-wrap>http://www.elespectador.com/noticias/nacional/asesinan-lider-campesino-reclamante-de-tierras-antioqui-articulo-420230   http://www.desdeabajo.info/component/k2/item/22014-la-onu-alerta-sobre-los-asesinatos-de-l%C3%ADderes-campesinos-en-colombia.html</span></td><td><span style=white-space:pre-wrap>http://www.verdadabierta.com/component/content/article/42-asesinatos-selectivos/4575-despojo-urbano-causa-victima-en-bello-antioquia/                                                                   </span></td><td><span style=white-space:pre-wrap>http://issuu.com/gulcuec/docs/informe_enero_junio_2013_somos_defe/18                                                                                                                                                                                                                                                                              </span></td><td><span style=white-space:pre-wrap>NA                                </span></td><td>41796</td><td><span style=white-space:pre-wrap>F4: Restrepo venia demostrando las alianzas entre la banda criminal \"Los Triana\" y agentes de la Policia Nacional. El 19 de junio de 2012, sus escoltas enviaron un informe a la Unidad Nacional de Victimas, solicitando el fortalecimiento de su proteccion. Sin embargo, no fue atendida.                                                                                                                                                                                                                                                                                                                                                                                                                                                                       </span></td><td>NO</td><td>NO</td><td><span style=white-space:pre-wrap>Estaba con esquema de proteccion y los que le dispararon estaban vestidos de policia                                                                                                                                         </span></td></tr>\n",
              "\t<tr><th scope=row>4</th><td>3</td><td>CESAR GARCIA                  </td><td>1</td><td>M       </td><td>1</td><td>2</td><td>4</td><td>6</td><td>3</td><td>3 </td><td>⋯</td><td>http://noticiasunolaredindependiente.com/2013/11/03/noticias/asesinado-el-opositor-del-proyecto-de-mineria-la-colosa-en-tolima/                                              </td><td>http://prensarural.org/spip/spip.php?article12517                                                                                                                                                                                                        </td><td>http://www.elespectador.com/noticias/nacional/el-loco-se-le-opuso-colosa-articulo-457492                                                                                                                </td><td>http://www.semanariovoz.com/2013/11/13/crimenes-contra-lideres-campesinos-diez-asesinados-en-dos-meses/                                                                                                                                                                                                                                           </td><td>NA                                </td><td>41796</td><td>F2. CESAR GARCÍA, el día de hoy (2 de noviembre de 2013) entre las 5 y 6 de la tarde fue asesinado con un tiro en la cabeza cuando llegaba a su finca ubicada la vereda la Cajón la Leona del municipio de Cajamarca.                                                                                                                                                                                                                                                                                                                                                                                                                                                                                                                                              </td><td>NO</td><td>NO</td><td>Riesgo de lideres y lideresas que defienden los recursos naturales, y ademas son acusados de guerrilleros                                                                                                                    </td></tr>\n",
              "\t<tr><th scope=row>5</th><td>5</td><td>DUVIS ANTONIO GALVIS          </td><td>1</td><td>M       </td><td>1</td><td>2</td><td>5</td><td>6</td><td>1</td><td>1 </td><td>⋯</td><td>http://prensarural.org/spip/spip.php?article13225               http://prensarural.org/spip/spip.php?article13894                                                            </td><td>Bitacora 28 de enero de 2014                                                                                                                                                                                                                             </td><td>http://m.semana.com/nacion/articulo/marcha-patriotica-denuncia-nuevo-asesinato/372244-3   http://www.elheraldo.co/nacional/piedad-cordoba-denuncia-asesinato-de-otro-miembro-de-marcha-patriotica-140659</td><td>http://www.elpais.com.co/elpais/judicial/noticias/piedad-cordoba-denuncia-nuevo-asesinato-integrante-marcha-patriotica                                                                        http://www.caracol.com.co/noticias/regionales/asesinan-lider-campesino-en-el-catatumbo/20140127/nota/2063926.aspx                                   </td><td>Marcha Patriotica - Noche y niebla</td><td>41796</td><td>Se dirigia hacia su residencia en su motocicleta con un menor de 10 anos. En ese momento fue interceptado por desconocidos quienes dispararon contra Duvis Antonio Galvis, recibiendo varios impactos de bala en su pecho que le causaron la muerte.                                                                                                                                                                                                                                                                                                                                                                                                                                                                                                               </td><td>NO</td><td>NO</td><td>NA                                                                                                                                                                                                                           </td></tr>\n",
              "\t<tr><th scope=row>6</th><td>6</td><td>JORGE ELIECER HERNANDEZ BLANCO</td><td>1</td><td>M       </td><td>1</td><td>2</td><td>5</td><td>6</td><td>1</td><td>M </td><td>⋯</td><td>http://www.prensarural.org/spip/spip.php?article13479                                                                                                                        </td><td>http://prensarural.org/spip/spip.php?article13457                                                                                                                                                                                                        </td><td>http://www.vanguardia.com/santander/barrancabermeja/248378-ejercito-insiste-en-que-severo-si-colaboraba-a-guerrilla-en-sur-de-                                                                          </td><td>Bitacora 15 de abril de 2014                                                                                                                                                                                                                                                                                                                      </td><td>Marcha Patriotica                 </td><td>41796</td><td>El dia sabado 22 de Febrero de 2014, en la vereda Matae Bambu, fue asesinado por parte de la Fuerza de Tarea Conjunta Marte, el campesino Jorge Eliecer Hernandez Blanco, de 28 anos de edad, segun familiares y habitantes de la region, el se desempenaba como campesino y vicepresidente de la Junta de Accion Comunal de la Vereda Alto Limon , del Municipio de San Pablo, sur de Bolivar, en la Zona de Reserva Campesina del Valle del Rio Cimitarra. Aunque los familiares de Jorge Eliecer Hernandez Blanco insisten que la muerte de su hijo, ocurrida el pasado domingo en la madrugada en San Pablo, sur de Bolivar, se trato de un ‘falso positivo’, las autoridades militares advierten que el operativo se llevo a cabo mediante una orden judicial.</td><td>NO</td><td>NO</td><td>NA                                                                                                                                                                                                                           </td></tr>\n",
              "</tbody>\n",
              "</table>\n"
            ],
            "text/markdown": "\nA data.frame: 6 × 47\n\n| <!--/--> | ID &lt;chr&gt; | NOMBRE &lt;chr&gt; | GENERO &lt;dbl&gt; | CEDULA &lt;chr&gt; | TIPO.LIDER &lt;dbl&gt; | VINCULACION.PROCESO.COCA/SUSTITUCION &lt;dbl&gt; | NIVEL.ORGANIZACION &lt;chr&gt; | TIPO.1.ORGANIZACION &lt;chr&gt; | TIPO.2.ORGANIZACION &lt;chr&gt; | TIPO.3.ORGANIZACION &lt;chr&gt; | ⋯ ⋯ | FUENTE.1 &lt;chr&gt; | FUENTE.2 &lt;chr&gt; | FUENTE.3 &lt;chr&gt; | FUENTE.4 &lt;chr&gt; | LISTADO &lt;chr&gt; | FECHA.CONSULTA &lt;chr&gt; | DATOS.REVELANTES.FUENTE &lt;chr&gt; | CASO.GRIS &lt;chr&gt; | CASO.GRIS.COD &lt;chr&gt; | OBSERVACIONES &lt;chr&gt; |\n|---|---|---|---|---|---|---|---|---|---|---|---|---|---|---|---|---|---|---|---|---|---|\n| 1 | 1 | ALVARO FERNANDO QUEGUAN        | 1 | M        | 1 | 2 | 3 | 6 | 1 | 9  | ⋯ | http://prensarural.org/spip/spip.php?article10745                                                                                                                             | http://www.marchapatriotica.org/index.php?option=com_content&amp;view=article&amp;id=975%3Anarino-l-asesinado-lider-campesino&amp;catid=107&amp;Itemid=482                                                                                                                | http://pagina10.com/index.php/pacifico/item/1081-en-tumaco-de-13-capturados-s%C3%B3lo-uno-qued%C3%B3-detenido#.U4_Wa_l5NZ5                                                                               | http://prensarural.org/spip/spip.php?article10893                                                                                                                                                                                                                                                                                                  | Marcha Patriotica                  | 41796 | En enfrentamiento entre el ejercito y las FARC, cayo herido el senor alvaro Queguan producto del fuego cruzado. Posteriormente, el grupo de militares procedio a detener arbitrariamente y trasladar hasta el centro poblado del Municipio de Tumaco a catorce campesionos de la zona.                                                                                                                                                                                                                                                                                                                                                                                                                                                                              | NO | NO | Junto con el homicidio de Queguan, se efectuo la captura masiva de 13 campesinos de la zona acusados de rebelion y presentados como guerrilleros. http://www.semana.com/especiales/defensores-derechos-asesinados/Nariño.html |\n| 2 | 2 | EMEL  ANTONIO VARELA TUBERQUIA | 1 | 71942866 | 1 | 2 | 3 | 6 | 1 | M  | ⋯ | http://prensarural.org/spip/spip.php?article11520                                                                                                                             | http://www.eluniversal.com.co/monteria-y-sincelejo/sucesos/asesinan-lider-del-alto-sinu-en-cordoba-128804                                                                                                                                                 | http://elmeridianodecordoba.com.co/index.php?option=com_k2&amp;view=item&amp;id=38321:asesinan-a-otro-l%C3%ADder&amp;Itemid=120                                                                                      | http://elheraldo.co/region/cordoba/asesinado-otro-lider-civico-en-tierralta-cordoba-119225                                                                                                                                                                                                                                                         | Defensoria                         | 41796 | Cedula de ciudadania nro. 71.942.866. En la tarde de ayer, siendo aproximadamente las seis pm hombres armados ultimaron de varios impactos de bala la integridad de EMEL ANTONIO VARELA TUBERQUIA quien se desempenaba como Presidente de la Junta de Accion Comunal de la vereda La Estrella perteneciente al corregimiento de Zaiza y quien tambien hacia parte de la Asociacion Campesina para el Desarrollo del Alto Sinu ASODECAS.                                                                                                                                                                                                                                                                                                                             | NO | NO | Cartilla heroes anonimos. Esta en la ultima matriz de la Defensoria. En algunos medios lo escriben como: (Emer)                                                                                                               |\n| 3 | 2 | IVAN DARIO RESTREPO            | 1 | M        | 2 | 2 | 4 | 8 | 7 | M  | ⋯ | http://forjandofuturos.org/fundacion/index.php?option=com_content&amp;view=article&amp;id=1106:ivan-dario-restrepo-lider-reclamante-de-tierras-asesinado-en-bello&amp;catid=67&amp;Itemid=163 | http://www.elespectador.com/noticias/nacional/asesinan-lider-campesino-reclamante-de-tierras-antioqui-articulo-420230   http://www.desdeabajo.info/component/k2/item/22014-la-onu-alerta-sobre-los-asesinatos-de-l%C3%ADderes-campesinos-en-colombia.html | http://www.verdadabierta.com/component/content/article/42-asesinatos-selectivos/4575-despojo-urbano-causa-victima-en-bello-antioquia/                                                                    | http://issuu.com/gulcuec/docs/informe_enero_junio_2013_somos_defe/18                                                                                                                                                                                                                                                                               | NA                                 | 41796 | F4: Restrepo venia demostrando las alianzas entre la banda criminal \"Los Triana\" y agentes de la Policia Nacional. El 19 de junio de 2012, sus escoltas enviaron un informe a la Unidad Nacional de Victimas, solicitando el fortalecimiento de su proteccion. Sin embargo, no fue atendida.                                                                                                                                                                                                                                                                                                                                                                                                                                                                        | NO | NO | Estaba con esquema de proteccion y los que le dispararon estaban vestidos de policia                                                                                                                                          |\n| 4 | 3 | CESAR GARCIA                   | 1 | M        | 1 | 2 | 4 | 6 | 3 | 3  | ⋯ | http://noticiasunolaredindependiente.com/2013/11/03/noticias/asesinado-el-opositor-del-proyecto-de-mineria-la-colosa-en-tolima/                                               | http://prensarural.org/spip/spip.php?article12517                                                                                                                                                                                                         | http://www.elespectador.com/noticias/nacional/el-loco-se-le-opuso-colosa-articulo-457492                                                                                                                 | http://www.semanariovoz.com/2013/11/13/crimenes-contra-lideres-campesinos-diez-asesinados-en-dos-meses/                                                                                                                                                                                                                                            | NA                                 | 41796 | F2. CESAR GARCÍA, el día de hoy (2 de noviembre de 2013) entre las 5 y 6 de la tarde fue asesinado con un tiro en la cabeza cuando llegaba a su finca ubicada la vereda la Cajón la Leona del municipio de Cajamarca.                                                                                                                                                                                                                                                                                                                                                                                                                                                                                                                                               | NO | NO | Riesgo de lideres y lideresas que defienden los recursos naturales, y ademas son acusados de guerrilleros                                                                                                                     |\n| 5 | 5 | DUVIS ANTONIO GALVIS           | 1 | M        | 1 | 2 | 5 | 6 | 1 | 1  | ⋯ | http://prensarural.org/spip/spip.php?article13225               http://prensarural.org/spip/spip.php?article13894                                                             | Bitacora 28 de enero de 2014                                                                                                                                                                                                                              | http://m.semana.com/nacion/articulo/marcha-patriotica-denuncia-nuevo-asesinato/372244-3   http://www.elheraldo.co/nacional/piedad-cordoba-denuncia-asesinato-de-otro-miembro-de-marcha-patriotica-140659 | http://www.elpais.com.co/elpais/judicial/noticias/piedad-cordoba-denuncia-nuevo-asesinato-integrante-marcha-patriotica                                                                        http://www.caracol.com.co/noticias/regionales/asesinan-lider-campesino-en-el-catatumbo/20140127/nota/2063926.aspx                                    | Marcha Patriotica - Noche y niebla | 41796 | Se dirigia hacia su residencia en su motocicleta con un menor de 10 anos. En ese momento fue interceptado por desconocidos quienes dispararon contra Duvis Antonio Galvis, recibiendo varios impactos de bala en su pecho que le causaron la muerte.                                                                                                                                                                                                                                                                                                                                                                                                                                                                                                                | NO | NO | NA                                                                                                                                                                                                                            |\n| 6 | 6 | JORGE ELIECER HERNANDEZ BLANCO | 1 | M        | 1 | 2 | 5 | 6 | 1 | M  | ⋯ | http://www.prensarural.org/spip/spip.php?article13479                                                                                                                         | http://prensarural.org/spip/spip.php?article13457                                                                                                                                                                                                         | http://www.vanguardia.com/santander/barrancabermeja/248378-ejercito-insiste-en-que-severo-si-colaboraba-a-guerrilla-en-sur-de-                                                                           | Bitacora 15 de abril de 2014                                                                                                                                                                                                                                                                                                                       | Marcha Patriotica                  | 41796 | El dia sabado 22 de Febrero de 2014, en la vereda Matae Bambu, fue asesinado por parte de la Fuerza de Tarea Conjunta Marte, el campesino Jorge Eliecer Hernandez Blanco, de 28 anos de edad, segun familiares y habitantes de la region, el se desempenaba como campesino y vicepresidente de la Junta de Accion Comunal de la Vereda Alto Limon , del Municipio de San Pablo, sur de Bolivar, en la Zona de Reserva Campesina del Valle del Rio Cimitarra. Aunque los familiares de Jorge Eliecer Hernandez Blanco insisten que la muerte de su hijo, ocurrida el pasado domingo en la madrugada en San Pablo, sur de Bolivar, se trato de un ‘falso positivo’, las autoridades militares advierten que el operativo se llevo a cabo mediante una orden judicial. | NO | NO | NA                                                                                                                                                                                                                            |\n\n",
            "text/latex": "A data.frame: 6 × 47\n\\begin{tabular}{r|lllllllllllllllllllll}\n  & ID & NOMBRE & GENERO & CEDULA & TIPO.LIDER & VINCULACION.PROCESO.COCA/SUSTITUCION & NIVEL.ORGANIZACION & TIPO.1.ORGANIZACION & TIPO.2.ORGANIZACION & TIPO.3.ORGANIZACION & ⋯ & FUENTE.1 & FUENTE.2 & FUENTE.3 & FUENTE.4 & LISTADO & FECHA.CONSULTA & DATOS.REVELANTES.FUENTE & CASO.GRIS & CASO.GRIS.COD & OBSERVACIONES\\\\\n  & <chr> & <chr> & <dbl> & <chr> & <dbl> & <dbl> & <chr> & <chr> & <chr> & <chr> & ⋯ & <chr> & <chr> & <chr> & <chr> & <chr> & <chr> & <chr> & <chr> & <chr> & <chr>\\\\\n\\hline\n\t1 & 1 & ALVARO FERNANDO QUEGUAN        & 1 & M        & 1 & 2 & 3 & 6 & 1 & 9  & ⋯ & http://prensarural.org/spip/spip.php?article10745                                                                                                                             & http://www.marchapatriotica.org/index.php?option=com\\_content\\&view=article\\&id=975\\%3Anarino-l-asesinado-lider-campesino\\&catid=107\\&Itemid=482                                                                                                                & http://pagina10.com/index.php/pacifico/item/1081-en-tumaco-de-13-capturados-s\\%C3\\%B3lo-uno-qued\\%C3\\%B3-detenido\\#.U4\\_Wa\\_l5NZ5                                                                               & http://prensarural.org/spip/spip.php?article10893                                                                                                                                                                                                                                                                                                  & Marcha Patriotica                  & 41796 & En enfrentamiento entre el ejercito y las FARC, cayo herido el senor alvaro Queguan producto del fuego cruzado. Posteriormente, el grupo de militares procedio a detener arbitrariamente y trasladar hasta el centro poblado del Municipio de Tumaco a catorce campesionos de la zona.                                                                                                                                                                                                                                                                                                                                                                                                                                                                              & NO & NO & Junto con el homicidio de Queguan, se efectuo la captura masiva de 13 campesinos de la zona acusados de rebelion y presentados como guerrilleros. http://www.semana.com/especiales/defensores-derechos-asesinados/Nariño.html\\\\\n\t2 & 2 & EMEL  ANTONIO VARELA TUBERQUIA & 1 & 71942866 & 1 & 2 & 3 & 6 & 1 & M  & ⋯ & http://prensarural.org/spip/spip.php?article11520                                                                                                                             & http://www.eluniversal.com.co/monteria-y-sincelejo/sucesos/asesinan-lider-del-alto-sinu-en-cordoba-128804                                                                                                                                                 & http://elmeridianodecordoba.com.co/index.php?option=com\\_k2\\&view=item\\&id=38321:asesinan-a-otro-l\\%C3\\%ADder\\&Itemid=120                                                                                      & http://elheraldo.co/region/cordoba/asesinado-otro-lider-civico-en-tierralta-cordoba-119225                                                                                                                                                                                                                                                         & Defensoria                         & 41796 & Cedula de ciudadania nro. 71.942.866. En la tarde de ayer, siendo aproximadamente las seis pm hombres armados ultimaron de varios impactos de bala la integridad de EMEL ANTONIO VARELA TUBERQUIA quien se desempenaba como Presidente de la Junta de Accion Comunal de la vereda La Estrella perteneciente al corregimiento de Zaiza y quien tambien hacia parte de la Asociacion Campesina para el Desarrollo del Alto Sinu ASODECAS.                                                                                                                                                                                                                                                                                                                             & NO & NO & Cartilla heroes anonimos. Esta en la ultima matriz de la Defensoria. En algunos medios lo escriben como: (Emer)                                                                                                              \\\\\n\t3 & 2 & IVAN DARIO RESTREPO            & 1 & M        & 2 & 2 & 4 & 8 & 7 & M  & ⋯ & http://forjandofuturos.org/fundacion/index.php?option=com\\_content\\&view=article\\&id=1106:ivan-dario-restrepo-lider-reclamante-de-tierras-asesinado-en-bello\\&catid=67\\&Itemid=163 & http://www.elespectador.com/noticias/nacional/asesinan-lider-campesino-reclamante-de-tierras-antioqui-articulo-420230   http://www.desdeabajo.info/component/k2/item/22014-la-onu-alerta-sobre-los-asesinatos-de-l\\%C3\\%ADderes-campesinos-en-colombia.html & http://www.verdadabierta.com/component/content/article/42-asesinatos-selectivos/4575-despojo-urbano-causa-victima-en-bello-antioquia/                                                                    & http://issuu.com/gulcuec/docs/informe\\_enero\\_junio\\_2013\\_somos\\_defe/18                                                                                                                                                                                                                                                                               & NA                                 & 41796 & F4: Restrepo venia demostrando las alianzas entre la banda criminal \"Los Triana\" y agentes de la Policia Nacional. El 19 de junio de 2012, sus escoltas enviaron un informe a la Unidad Nacional de Victimas, solicitando el fortalecimiento de su proteccion. Sin embargo, no fue atendida.                                                                                                                                                                                                                                                                                                                                                                                                                                                                        & NO & NO & Estaba con esquema de proteccion y los que le dispararon estaban vestidos de policia                                                                                                                                         \\\\\n\t4 & 3 & CESAR GARCIA                   & 1 & M        & 1 & 2 & 4 & 6 & 3 & 3  & ⋯ & http://noticiasunolaredindependiente.com/2013/11/03/noticias/asesinado-el-opositor-del-proyecto-de-mineria-la-colosa-en-tolima/                                               & http://prensarural.org/spip/spip.php?article12517                                                                                                                                                                                                         & http://www.elespectador.com/noticias/nacional/el-loco-se-le-opuso-colosa-articulo-457492                                                                                                                 & http://www.semanariovoz.com/2013/11/13/crimenes-contra-lideres-campesinos-diez-asesinados-en-dos-meses/                                                                                                                                                                                                                                            & NA                                 & 41796 & F2. CESAR GARCÍA, el día de hoy (2 de noviembre de 2013) entre las 5 y 6 de la tarde fue asesinado con un tiro en la cabeza cuando llegaba a su finca ubicada la vereda la Cajón la Leona del municipio de Cajamarca.                                                                                                                                                                                                                                                                                                                                                                                                                                                                                                                                               & NO & NO & Riesgo de lideres y lideresas que defienden los recursos naturales, y ademas son acusados de guerrilleros                                                                                                                    \\\\\n\t5 & 5 & DUVIS ANTONIO GALVIS           & 1 & M        & 1 & 2 & 5 & 6 & 1 & 1  & ⋯ & http://prensarural.org/spip/spip.php?article13225               http://prensarural.org/spip/spip.php?article13894                                                             & Bitacora 28 de enero de 2014                                                                                                                                                                                                                              & http://m.semana.com/nacion/articulo/marcha-patriotica-denuncia-nuevo-asesinato/372244-3   http://www.elheraldo.co/nacional/piedad-cordoba-denuncia-asesinato-de-otro-miembro-de-marcha-patriotica-140659 & http://www.elpais.com.co/elpais/judicial/noticias/piedad-cordoba-denuncia-nuevo-asesinato-integrante-marcha-patriotica                                                                        http://www.caracol.com.co/noticias/regionales/asesinan-lider-campesino-en-el-catatumbo/20140127/nota/2063926.aspx                                    & Marcha Patriotica - Noche y niebla & 41796 & Se dirigia hacia su residencia en su motocicleta con un menor de 10 anos. En ese momento fue interceptado por desconocidos quienes dispararon contra Duvis Antonio Galvis, recibiendo varios impactos de bala en su pecho que le causaron la muerte.                                                                                                                                                                                                                                                                                                                                                                                                                                                                                                                & NO & NO & NA                                                                                                                                                                                                                           \\\\\n\t6 & 6 & JORGE ELIECER HERNANDEZ BLANCO & 1 & M        & 1 & 2 & 5 & 6 & 1 & M  & ⋯ & http://www.prensarural.org/spip/spip.php?article13479                                                                                                                         & http://prensarural.org/spip/spip.php?article13457                                                                                                                                                                                                         & http://www.vanguardia.com/santander/barrancabermeja/248378-ejercito-insiste-en-que-severo-si-colaboraba-a-guerrilla-en-sur-de-                                                                           & Bitacora 15 de abril de 2014                                                                                                                                                                                                                                                                                                                       & Marcha Patriotica                  & 41796 & El dia sabado 22 de Febrero de 2014, en la vereda Matae Bambu, fue asesinado por parte de la Fuerza de Tarea Conjunta Marte, el campesino Jorge Eliecer Hernandez Blanco, de 28 anos de edad, segun familiares y habitantes de la region, el se desempenaba como campesino y vicepresidente de la Junta de Accion Comunal de la Vereda Alto Limon , del Municipio de San Pablo, sur de Bolivar, en la Zona de Reserva Campesina del Valle del Rio Cimitarra. Aunque los familiares de Jorge Eliecer Hernandez Blanco insisten que la muerte de su hijo, ocurrida el pasado domingo en la madrugada en San Pablo, sur de Bolivar, se trato de un ‘falso positivo’, las autoridades militares advierten que el operativo se llevo a cabo mediante una orden judicial. & NO & NO & NA                                                                                                                                                                                                                           \\\\\n\\end{tabular}\n"
          },
          "metadata": {}
        }
      ]
    },
    {
      "cell_type": "code",
      "source": [
        "## Solucion punto 4\n",
        "df_cnmh <- head(df_cnmh, 5)\n",
        "\n",
        "la_table <- head(la_table, 5)\n",
        "\n",
        "write_parquet(df_cnmh, \"drive_sebas/carpeta_salida/cnmh_first5.parquet\")\n",
        "\n",
        "write.xlsx(la_table, \"drive_sebas/carpeta_salida/la_tabl.xlsx\")"
      ],
      "metadata": {
        "id": "orMjDQ6lTsxd"
      },
      "execution_count": null,
      "outputs": []
    }
  ]
}